{
 "cells": [
  {
   "cell_type": "markdown",
   "id": "fddfb074-6c5f-4074-916a-f6121f7e9660",
   "metadata": {},
   "source": [
    "Ejercicio\n",
    "\n",
    "Tenemos 9 monedas y 8 tienen el mismo peso y sólo una tiene un peso ligeramente mayor. Realiza un programa que con 4 comparaciones encuentre la moneda con peso diferente. Otro programacon 3 comparaciones y por último con sólo 2 comparaciones logre encontrar la moneda de peso diferente."
   ]
  },
  {
   "cell_type": "code",
   "execution_count": null,
   "id": "b6564ffa-5789-46d9-bcc7-057669c128c0",
   "metadata": {},
   "outputs": [],
   "source": []
  },
  {
   "cell_type": "markdown",
   "id": "4a94b10d-3977-49d3-9e57-a13b36925c31",
   "metadata": {},
   "source": [
    "Escribe una función que reciba una cadena y un caracter y cuente el número de apariciones de dicho caracter sin importar si está en mayúscula o miniscula "
   ]
  },
  {
   "cell_type": "code",
   "execution_count": null,
   "id": "414ee812-5d51-42ff-89c7-fbbfce17c165",
   "metadata": {},
   "outputs": [],
   "source": []
  },
  {
   "cell_type": "markdown",
   "id": "9e515a66-a9f1-43d2-97a9-ad8eb9d10cfc",
   "metadata": {},
   "source": [
    "Escribe una función que reciba una cadena y arroje la cadena al revés."
   ]
  },
  {
   "cell_type": "code",
   "execution_count": null,
   "id": "84be6fc4-0df0-4c50-96af-defb95f7183f",
   "metadata": {},
   "outputs": [],
   "source": []
  },
  {
   "cell_type": "markdown",
   "id": "ab225a50-e5b7-46f5-833f-c53c7f5e7be7",
   "metadata": {},
   "source": [
    "Palíndromos. Crea una función que nos determine si una cadena es palíndromo o no. aba es palíndromo por que se escribe iguial de izquierda a derecha que de derecha a izquierda."
   ]
  },
  {
   "cell_type": "code",
   "execution_count": null,
   "id": "83d81fff-69bb-4791-ad17-b8df7487467f",
   "metadata": {},
   "outputs": [],
   "source": []
  },
  {
   "cell_type": "markdown",
   "id": "a1c95a12-9a65-4ae9-9a3e-6b29c31cb621",
   "metadata": {},
   "source": [
    "Genere una función que simule 100 veces el lanzamiento de un dado calcule, el promedio, la desviación esandar, el mínimo y el máximo de los 100 lanzamientos."
   ]
  },
  {
   "cell_type": "code",
   "execution_count": null,
   "id": "764cc626-2661-40a0-9377-e3278a80f07b",
   "metadata": {},
   "outputs": [],
   "source": []
  },
  {
   "cell_type": "code",
   "execution_count": null,
   "id": "a999a640-dda2-4252-805a-c02bdeba76d0",
   "metadata": {},
   "outputs": [],
   "source": []
  },
  {
   "cell_type": "code",
   "execution_count": null,
   "id": "e99c35c8-3690-4f26-8374-7c2fe1f9c430",
   "metadata": {},
   "outputs": [],
   "source": []
  },
  {
   "cell_type": "code",
   "execution_count": null,
   "id": "5018a21f-d17e-4080-9325-917f5d30a940",
   "metadata": {},
   "outputs": [],
   "source": []
  },
  {
   "cell_type": "code",
   "execution_count": null,
   "id": "1e29e583-1b6e-40c6-a762-985a69600b3d",
   "metadata": {},
   "outputs": [],
   "source": []
  },
  {
   "cell_type": "code",
   "execution_count": null,
   "id": "4cf21c2d-31ef-4360-b0bc-d46dd5b540fc",
   "metadata": {},
   "outputs": [],
   "source": []
  }
 ],
 "metadata": {
  "kernelspec": {
   "display_name": "Python 3",
   "language": "python",
   "name": "python3"
  },
  "language_info": {
   "codemirror_mode": {
    "name": "ipython",
    "version": 3
   },
   "file_extension": ".py",
   "mimetype": "text/x-python",
   "name": "python",
   "nbconvert_exporter": "python",
   "pygments_lexer": "ipython3",
   "version": "3.8.2"
  }
 },
 "nbformat": 4,
 "nbformat_minor": 5
}
