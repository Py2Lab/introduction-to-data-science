{
 "cells": [
  {
   "cell_type": "markdown",
   "id": "fddfb074-6c5f-4074-916a-f6121f7e9660",
   "metadata": {},
   "source": [
    "Ejercicio\n",
    "\n",
    "Tenemos 9 monedas y 8 tienen el mismo peso y sólo una tiene un peso ligeramente mayor. Realiza un programa que con 4 comparaciones encuentre la moneda con peso diferente. Otro programacon 3 comparaciones y por último con sólo 2 comparaciones logre encontrar la moneda de peso diferente."
   ]
  },
  {
   "cell_type": "code",
   "execution_count": null,
   "id": "b6564ffa-5789-46d9-bcc7-057669c128c0",
   "metadata": {},
   "outputs": [],
   "source": []
  },
  {
   "cell_type": "markdown",
   "id": "4a94b10d-3977-49d3-9e57-a13b36925c31",
   "metadata": {},
   "source": [
    "Escribe una función que reciba una cadena y un caracter y cuente el número de apariciones de dicho caracter sin importar si está en mayúscula o miniscula "
   ]
  },
  {
   "cell_type": "code",
   "execution_count": null,
   "id": "414ee812-5d51-42ff-89c7-fbbfce17c165",
   "metadata": {},
   "outputs": [],
   "source": []
  },
  {
   "cell_type": "markdown",
   "id": "9e515a66-a9f1-43d2-97a9-ad8eb9d10cfc",
   "metadata": {},
   "source": [
    "Escribe una función que reciba una cadena y arroje la cadena al revés."
   ]
  },
  {
   "cell_type": "code",
   "execution_count": null,
   "id": "84be6fc4-0df0-4c50-96af-defb95f7183f",
   "metadata": {},
   "outputs": [],
   "source": []
  },
  {
   "cell_type": "markdown",
   "id": "ab225a50-e5b7-46f5-833f-c53c7f5e7be7",
   "metadata": {},
   "source": [
    "Palíndromos. Crea una función que nos determine si una cadena es palíndromo o no. aba es palíndromo por que se escribe iguial de izquierda a derecha que de derecha a izquierda."
   ]
  },
  {
   "cell_type": "code",
   "execution_count": null,
   "id": "83d81fff-69bb-4791-ad17-b8df7487467f",
   "metadata": {},
   "outputs": [],
   "source": []
  },
  {
   "cell_type": "markdown",
   "id": "a1c95a12-9a65-4ae9-9a3e-6b29c31cb621",
   "metadata": {},
   "source": [
    "Genere una función que simule 100 veces el lanzamiento de un dado calcule, el promedio, la desviación esandar, el mínimo y el máximo de los 100 lanzamientos."
   ]
  },
  {
   "cell_type": "code",
   "execution_count": null,
   "id": "764cc626-2661-40a0-9377-e3278a80f07b",
   "metadata": {},
   "outputs": [],
   "source": []
  },
  {
   "cell_type": "markdown",
   "id": "baf95eab-3332-4816-a948-647eb2ba9504",
   "metadata": {},
   "source": [
    "Programa una función recursiva que, dada una lista que dentro contiene otras listas con varios\n",
    "niveles de anidación, la “aplana” para conseguir una única lista con los elementos “atómicos”,\n",
    "sin listas anidadas.\n",
    "Por ejemplo, la función transformaría la lista [4, 5, [6, [8, 9]], 10] en la lista [4, 5, 6, 8, 9, 10]."
   ]
  },
  {
   "cell_type": "code",
   "execution_count": null,
   "id": "b773cc8a-0191-40d8-a773-dd14ef379f98",
   "metadata": {},
   "outputs": [],
   "source": []
  },
  {
   "cell_type": "markdown",
   "id": "0ea2dcb3-161b-49fb-bcbc-a0c0b94a77a9",
   "metadata": {},
   "source": [
    "Sea n un número entero de cuatro cifras diferentes. Define las funciones:\n",
    "\n",
    "     grande(n) como el número más grande que se puede formar con las cifras de n\n",
    "     peque(n) como el número más pequeño que se puede formar con las cifras de n\n",
    "     dif(n) = grande(n) - peque(n)\n",
    "     \n",
    "Por ejemplo, si tenemos n = 1984, entonces grande(n) = 9841, peque(n) = 1489 y dif(n) = 8352."
   ]
  },
  {
   "cell_type": "code",
   "execution_count": null,
   "id": "8bb2ec88-b3ee-4b99-a8cc-0dd2b2db351a",
   "metadata": {},
   "outputs": [],
   "source": []
  },
  {
   "cell_type": "markdown",
   "id": "de877a22-985d-434d-ad13-857214b742ff",
   "metadata": {},
   "source": [
    "Un número es perfecto si la suma de sus divisores es el doble del número original, por ejemplo 2*6=1+2+3+6. Escriba un programa que determine si es perfecto o no."
   ]
  },
  {
   "cell_type": "code",
   "execution_count": null,
   "id": "8f7e5439-a1ad-40ce-82c9-076d30879aaf",
   "metadata": {},
   "outputs": [],
   "source": []
  },
  {
   "cell_type": "markdown",
   "id": "360e39c3-08f5-478d-b472-324f5b1ddda6",
   "metadata": {},
   "source": [
    "Escribe un programa que reciba dos listas ordenadas y arroje una lista ordenada creada con las dos listas anteriores de una manera eficiente."
   ]
  },
  {
   "cell_type": "code",
   "execution_count": null,
   "id": "e3ebfa74-6d05-442a-b3ad-bab2237bcd86",
   "metadata": {},
   "outputs": [],
   "source": []
  },
  {
   "cell_type": "markdown",
   "id": "86252cf3-7ac4-43ea-8019-68c15341b2a9",
   "metadata": {},
   "source": [
    "Dado una lista de números determinar la sublista con mayor suma de todos sus elementos de una manera eficiente."
   ]
  },
  {
   "cell_type": "code",
   "execution_count": null,
   "id": "2176cdb9-e721-488f-a098-adc26bb5f87d",
   "metadata": {},
   "outputs": [],
   "source": [
    "# [-1,-5,-7] -> []\n",
    "# [0, 5, -7, 40] -> [40]"
   ]
  }
 ],
 "metadata": {
  "kernelspec": {
   "display_name": "Python 3",
   "language": "python",
   "name": "python3"
  },
  "language_info": {
   "codemirror_mode": {
    "name": "ipython",
    "version": 3
   },
   "file_extension": ".py",
   "mimetype": "text/x-python",
   "name": "python",
   "nbconvert_exporter": "python",
   "pygments_lexer": "ipython3",
   "version": "3.8.2"
  }
 },
 "nbformat": 4,
 "nbformat_minor": 5
}
