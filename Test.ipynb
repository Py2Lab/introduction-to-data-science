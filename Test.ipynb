{
 "cells": [
  {
   "cell_type": "markdown",
   "id": "106c0024-74de-422f-a04c-0d5027331488",
   "metadata": {},
   "source": [
    "## Exámen Teórico"
   ]
  },
  {
   "cell_type": "markdown",
   "id": "05ff9939-e2ac-4ab3-8e47-fe87493e4bca",
   "metadata": {},
   "source": [
    "Describe con tus propias palabras los 4 paradigmas(programación orientada a objetos, programación imperativa, programación funcional y programación lógica) de programación."
   ]
  },
  {
   "cell_type": "markdown",
   "id": "c27a7319-fe6b-4f11-9fdd-d7157979e4ce",
   "metadata": {},
   "source": []
  },
  {
   "cell_type": "markdown",
   "id": "791c2890-39d9-489e-849e-e5850e8c06bc",
   "metadata": {},
   "source": [
    "Da una tabla de las 5 principales estructuras de datos con ventajas y desventajas"
   ]
  },
  {
   "cell_type": "code",
   "execution_count": null,
   "id": "6c56b0f0-eac7-4b02-b0f9-7ef924eb5508",
   "metadata": {},
   "outputs": [],
   "source": []
  },
  {
   "cell_type": "markdown",
   "id": "7360d47a-5a10-4056-a394-52b07c4c1c8e",
   "metadata": {},
   "source": [
    "Describe con tus propias palabras que es una Clase, Herencia, polimorfismo, sobre escritura, visibilidad, "
   ]
  },
  {
   "cell_type": "markdown",
   "id": "8d226e1d-52db-42af-820c-7fd147b0433c",
   "metadata": {},
   "source": []
  },
  {
   "cell_type": "markdown",
   "id": "67c250c3-54e6-4aa3-9fa3-e0606b10cbda",
   "metadata": {},
   "source": [
    "Haz una explicación y comparación entre Numpy, Pandas y el Build(funciones base de Python)"
   ]
  },
  {
   "cell_type": "code",
   "execution_count": null,
   "id": "ff6cc751-5758-48ad-a661-c0f942301469",
   "metadata": {},
   "outputs": [],
   "source": []
  },
  {
   "cell_type": "markdown",
   "id": "4948df33-8119-43c3-a5ad-9999210843c2",
   "metadata": {},
   "source": [
    "## Exámen Práctico"
   ]
  },
  {
   "cell_type": "markdown",
   "id": "645f2d42-3aae-4a23-b3e3-3ac47782568b",
   "metadata": {},
   "source": [
    "## Ejercicio estructuras básicas Python\n",
    "\n",
    "Realizar un programa en python que reciba por terminal la información de 20 alumnos(nombre, número de cuenta, sexo, 5 calificaciones de Matemáticas, Biología, Física, Química y Programación) que realice la el promedio de todos los Alumons por cada materia, elpromedio General de todas las materias, el mínimo y máximo de calificaciones."
   ]
  },
  {
   "cell_type": "code",
   "execution_count": null,
   "id": "2cbafa48-1772-4b0e-ba1d-d15bf2a54aeb",
   "metadata": {},
   "outputs": [],
   "source": []
  },
  {
   "cell_type": "markdown",
   "id": "f1ff0b69-d1ea-4d10-8477-9a4ff8610cfc",
   "metadata": {
    "tags": []
   },
   "source": [
    "## Ejercicio Orientado a Objetos \n",
    "\n",
    "Crea una clase Alumno que modelo el problema anterior con todos los atributos y métodos. Además una Clase Materia que modele cada materia que hay y tenga como atributos los alumnos y pueda calcular el promedio de la materia. "
   ]
  },
  {
   "cell_type": "code",
   "execution_count": null,
   "id": "ee30c790-52ec-4764-8946-3ee8519ca927",
   "metadata": {},
   "outputs": [],
   "source": []
  },
  {
   "cell_type": "markdown",
   "id": "0789bd5d-7a98-49cf-8abd-a16311f88731",
   "metadata": {},
   "source": [
    "## Ejercicios usando Numpy\n",
    "\n",
    "Cambiar la siguiente función a Array de Numpy y comparar ambos algoritmos con %timeit min_sort(big_array)\n",
    "%timeit min_sort_numpy(big_array)"
   ]
  },
  {
   "cell_type": "code",
   "execution_count": null,
   "id": "d12c74ea-6e8a-4e28-9afe-5d76a0961df3",
   "metadata": {},
   "outputs": [],
   "source": [
    "def min_lista(lista):\n",
    "    minimo = min(lista)\n",
    "    lista.remove(minimo)\n",
    "    return minimo, lista\n",
    "\n",
    "def min_sort(lista, lista_ordeada=[]):\n",
    "    if len(lista)==0:\n",
    "        return lista_ordeada\n",
    "    else:\n",
    "        minimo, sublista = min_lista(lista)\n",
    "        lista_ordeada.append(minimo)\n",
    "        return min_sort(sublista, lista_ordeada)\n",
    "\n",
    "min_sort([1,0,4,2,-1])"
   ]
  },
  {
   "cell_type": "code",
   "execution_count": null,
   "id": "0e5fe039-6124-4e4a-b749-82ee152a446e",
   "metadata": {},
   "outputs": [],
   "source": []
  },
  {
   "cell_type": "markdown",
   "id": "e697f537-1cde-46e4-9ee5-53c956d1437e",
   "metadata": {},
   "source": [
    "## Ejercicio usando Pandas"
   ]
  },
  {
   "cell_type": "code",
   "execution_count": 13,
   "id": "eb3fee0d-2dd8-4e93-8b02-6e396d82c2b1",
   "metadata": {},
   "outputs": [],
   "source": [
    "import pandas as pd\n",
    "import io\n",
    "import requests"
   ]
  },
  {
   "cell_type": "code",
   "execution_count": 14,
   "id": "5154689d-3386-4bcb-829b-eb2f4f1dd3a0",
   "metadata": {},
   "outputs": [
    {
     "data": {
      "text/html": [
       "<div>\n",
       "<style scoped>\n",
       "    .dataframe tbody tr th:only-of-type {\n",
       "        vertical-align: middle;\n",
       "    }\n",
       "\n",
       "    .dataframe tbody tr th {\n",
       "        vertical-align: top;\n",
       "    }\n",
       "\n",
       "    .dataframe thead th {\n",
       "        text-align: right;\n",
       "    }\n",
       "</style>\n",
       "<table border=\"1\" class=\"dataframe\">\n",
       "  <thead>\n",
       "    <tr style=\"text-align: right;\">\n",
       "      <th></th>\n",
       "      <th>Country</th>\n",
       "      <th>Region</th>\n",
       "    </tr>\n",
       "  </thead>\n",
       "  <tbody>\n",
       "    <tr>\n",
       "      <th>0</th>\n",
       "      <td>Algeria</td>\n",
       "      <td>AFRICA</td>\n",
       "    </tr>\n",
       "    <tr>\n",
       "      <th>1</th>\n",
       "      <td>Angola</td>\n",
       "      <td>AFRICA</td>\n",
       "    </tr>\n",
       "    <tr>\n",
       "      <th>2</th>\n",
       "      <td>Benin</td>\n",
       "      <td>AFRICA</td>\n",
       "    </tr>\n",
       "    <tr>\n",
       "      <th>3</th>\n",
       "      <td>Botswana</td>\n",
       "      <td>AFRICA</td>\n",
       "    </tr>\n",
       "    <tr>\n",
       "      <th>4</th>\n",
       "      <td>Burkina</td>\n",
       "      <td>AFRICA</td>\n",
       "    </tr>\n",
       "    <tr>\n",
       "      <th>...</th>\n",
       "      <td>...</td>\n",
       "      <td>...</td>\n",
       "    </tr>\n",
       "    <tr>\n",
       "      <th>189</th>\n",
       "      <td>Paraguay</td>\n",
       "      <td>SOUTH AMERICA</td>\n",
       "    </tr>\n",
       "    <tr>\n",
       "      <th>190</th>\n",
       "      <td>Peru</td>\n",
       "      <td>SOUTH AMERICA</td>\n",
       "    </tr>\n",
       "    <tr>\n",
       "      <th>191</th>\n",
       "      <td>Suriname</td>\n",
       "      <td>SOUTH AMERICA</td>\n",
       "    </tr>\n",
       "    <tr>\n",
       "      <th>192</th>\n",
       "      <td>Uruguay</td>\n",
       "      <td>SOUTH AMERICA</td>\n",
       "    </tr>\n",
       "    <tr>\n",
       "      <th>193</th>\n",
       "      <td>Venezuela</td>\n",
       "      <td>SOUTH AMERICA</td>\n",
       "    </tr>\n",
       "  </tbody>\n",
       "</table>\n",
       "<p>194 rows × 2 columns</p>\n",
       "</div>"
      ],
      "text/plain": [
       "       Country         Region\n",
       "0      Algeria         AFRICA\n",
       "1       Angola         AFRICA\n",
       "2        Benin         AFRICA\n",
       "3     Botswana         AFRICA\n",
       "4      Burkina         AFRICA\n",
       "..         ...            ...\n",
       "189   Paraguay  SOUTH AMERICA\n",
       "190       Peru  SOUTH AMERICA\n",
       "191   Suriname  SOUTH AMERICA\n",
       "192    Uruguay  SOUTH AMERICA\n",
       "193  Venezuela  SOUTH AMERICA\n",
       "\n",
       "[194 rows x 2 columns]"
      ]
     },
     "execution_count": 14,
     "metadata": {},
     "output_type": "execute_result"
    }
   ],
   "source": [
    "url=\"https://raw.githubusercontent.com/cs109/2014_data/master/countries.csv\"\n",
    "s = requests.get(url).content\n",
    "data = pd.read_csv(io.StringIO(s.decode('utf-8')))\n",
    "data"
   ]
  },
  {
   "cell_type": "markdown",
   "id": "b5ac0284-7421-4aff-8e13-954635df4b20",
   "metadata": {},
   "source": [
    "Con los datos anteriores agrupa los países por región contabiliza cuantos países hay en cada región y genera una gráfica histograma. Agrega una nueva columna con el método apply o vectorize de valores random enteros entre 1000,000 y 1,000,000 que se llame population que representa la población de cada país y genera una gráfica de pie por cada región que represente el tamaño de cada país."
   ]
  },
  {
   "cell_type": "code",
   "execution_count": null,
   "id": "c3546cbb-9345-419f-9c37-fa8cae93f114",
   "metadata": {},
   "outputs": [],
   "source": []
  }
 ],
 "metadata": {
  "kernelspec": {
   "display_name": "Python 3",
   "language": "python",
   "name": "python3"
  },
  "language_info": {
   "codemirror_mode": {
    "name": "ipython",
    "version": 3
   },
   "file_extension": ".py",
   "mimetype": "text/x-python",
   "name": "python",
   "nbconvert_exporter": "python",
   "pygments_lexer": "ipython3",
   "version": "3.8.2"
  }
 },
 "nbformat": 4,
 "nbformat_minor": 5
}
