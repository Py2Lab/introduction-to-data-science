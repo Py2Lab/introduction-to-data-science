{
 "cells": [
  {
   "cell_type": "markdown",
   "id": "8241653a-68dc-4097-ade4-e8ac3a21bd2b",
   "metadata": {},
   "source": [
    "<a href=\"https://colab.research.google.com/drive/1YtAN9ZJRYckIWVi4hIp_IVeijNoMt8jA\" target=\"_parent\"><img src=\"https://colab.research.google.com/assets/colab-badge.svg\" alt=\"Open In Colab\"/></a>"
   ]
  },
  {
   "cell_type": "markdown",
   "id": "ea7b4e66-4bcf-45e8-a7a1-f7c303e6bb04",
   "metadata": {},
   "source": [
    "### Escribir un programa que pida al usuario una palabra y la muestre por pantalla 10 veces."
   ]
  },
  {
   "cell_type": "code",
   "execution_count": null,
   "id": "f167dec1-5a35-47e6-9240-d377f831c726",
   "metadata": {},
   "outputs": [],
   "source": []
  },
  {
   "cell_type": "markdown",
   "id": "460ff179-3673-4838-a800-01624c782af4",
   "metadata": {},
   "source": [
    "### Escribir un programa que muestre el eco de todo lo que el usuario introduzca hasta que el usuario escriba “salir” que terminará."
   ]
  },
  {
   "cell_type": "code",
   "execution_count": null,
   "id": "17f80a88-2cb0-4d19-b812-f48cadda74e4",
   "metadata": {},
   "outputs": [],
   "source": []
  },
  {
   "cell_type": "markdown",
   "id": "9f6ba74a-472c-46ae-848b-2111bf765cc6",
   "metadata": {},
   "source": [
    "### Escribir un programa que muestre el eco de todo lo que el usuario introduzca hasta que el usuario escriba “salir” que terminará."
   ]
  },
  {
   "cell_type": "code",
   "execution_count": null,
   "id": "62bca71d-ea86-4079-aaa3-1858a15a8a43",
   "metadata": {},
   "outputs": [],
   "source": []
  },
  {
   "cell_type": "markdown",
   "id": "395cbb99-9438-4e69-8c2d-bfe75c4770d6",
   "metadata": {},
   "source": [
    "### Escribe una función quecalcule los números de Fiboncci de manera recursiva, con un for y con un while."
   ]
  },
  {
   "cell_type": "code",
   "execution_count": null,
   "id": "cbf6ae94-ecd6-4bd5-9512-a2118830363a",
   "metadata": {},
   "outputs": [],
   "source": []
  },
  {
   "cell_type": "markdown",
   "id": "80c9c5b9-32a3-424a-903a-694e3b4b975a",
   "metadata": {},
   "source": [
    "### crear una clase llamada Persona con 3 atributos y 3 métodos que tenga dos clases hijo Estudiante y Profesor con 3 nuevos atributos y 3 métodos sobre escribiendo uno ."
   ]
  },
  {
   "cell_type": "code",
   "execution_count": null,
   "id": "3af96ca8-91d4-4df7-b82d-a47336bd20d3",
   "metadata": {},
   "outputs": [],
   "source": []
  },
  {
   "cell_type": "markdown",
   "id": "8a38a053-549b-4fdb-800c-414a5445805c",
   "metadata": {},
   "source": [
    "El fichero bancos.csv contiene las cotizaciones de los principales bancos de España con :\n",
    "Empresa (nombre de la empresa), Apertura (precio de la acción a la apertura de bolsa),\n",
    "Máximo (precio máximo de la acción durante la jornada), Mínimo (precio mínimo de la acción durante la jornada), \n",
    "Cierre (precio de la acción al cierre de bolsa), Volumen (volumen al cierre de bolsa). \n",
    "Construir una función reciba el fichero bancos.csv y cree un diagrama de líneas con \n",
    "las series temporales de las cotizaciones de cierre de cada banco.\n",
    "\n",
    "\n"
   ]
  },
  {
   "cell_type": "code",
   "execution_count": null,
   "id": "75e6c6d6-08b1-4162-ba15-0b1d5e737076",
   "metadata": {},
   "outputs": [],
   "source": []
  },
  {
   "cell_type": "code",
   "execution_count": null,
   "id": "dfc4d618-503c-49f0-8212-41aea2aee149",
   "metadata": {},
   "outputs": [],
   "source": [
    "# listas con los valores de la segunda y tercera columnas"
   ]
  }
 ],
 "metadata": {
  "kernelspec": {
   "display_name": "Python 3",
   "language": "python",
   "name": "python3"
  },
  "language_info": {
   "codemirror_mode": {
    "name": "ipython",
    "version": 3
   },
   "file_extension": ".py",
   "mimetype": "text/x-python",
   "name": "python",
   "nbconvert_exporter": "python",
   "pygments_lexer": "ipython3",
   "version": "3.8.2"
  }
 },
 "nbformat": 4,
 "nbformat_minor": 5
}
