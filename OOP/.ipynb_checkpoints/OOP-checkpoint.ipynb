{
 "cells": [
  {
   "cell_type": "markdown",
   "id": "d8d63ec3-66d6-43a5-90b2-e4fde5600c53",
   "metadata": {},
   "source": [
    "<a href=\"https://colab.research.google.com/drive/1SdozmC1z1cJQriBdSQVszNOPx0wXJYMT#scrollTo=EeEfe7mAOo03\" target=\"_parent\"><img src=\"https://colab.research.google.com/assets/colab-badge.svg\" alt=\"Open In Colab\"/></a>"
   ]
  },
  {
   "cell_type": "markdown",
   "id": "c0c6cb73-481a-465c-aefc-2663c6804893",
   "metadata": {},
   "source": [
    "Atributos de clase (estáticas)"
   ]
  },
  {
   "cell_type": "code",
   "execution_count": 2,
   "id": "dfe14fb6-f586-4568-8b08-70f1c7237d2e",
   "metadata": {},
   "outputs": [],
   "source": [
    "class Alumno():\n",
    "    contador=0\n",
    "    def __init__(self,nombre=\"\"):\n",
    "        self.nombre=nombre\n",
    "        Alumno.contador+=1"
   ]
  },
  {
   "cell_type": "code",
   "execution_count": 6,
   "id": "c44cb47d-9b67-4946-a8cf-b3018c917b04",
   "metadata": {},
   "outputs": [
    {
     "data": {
      "text/plain": [
       "7"
      ]
     },
     "execution_count": 6,
     "metadata": {},
     "output_type": "execute_result"
    }
   ],
   "source": [
    "a1=Alumno(\"jose\")\n",
    "a2=Alumno(\"juan\")\n",
    "a1.contador"
   ]
  },
  {
   "cell_type": "markdown",
   "id": "ef52698b-5705-4aa2-90ae-86b2a6726a29",
   "metadata": {},
   "source": [
    "Atributos privados y ocultos"
   ]
  },
  {
   "cell_type": "markdown",
   "id": "03af9474-3dfd-4b22-8daf-9fe36f57a4ea",
   "metadata": {},
   "source": [
    "Las variables que comienzan por un guión bajo _ son consideradas privadas. Su nombre indica a otros programadores que no son públicas: son un detalle de implementación del que no se puede depender — entre otras cosas porque podrían desaparecer en cualquier momento. Pero nada nos impide acceder a esas variables."
   ]
  },
  {
   "cell_type": "code",
   "execution_count": 7,
   "id": "15fdb157-9bb3-4777-b273-1bc4ba88d87d",
   "metadata": {},
   "outputs": [],
   "source": [
    "class Alumno():\n",
    "    def __init__(self,nombre=\"\"):\n",
    "        self.nombre=nombre\n",
    "        self._secreto=\"asdasd\""
   ]
  },
  {
   "cell_type": "code",
   "execution_count": 8,
   "id": "aabd8de9-b5f1-445a-b900-380f3bdd9643",
   "metadata": {},
   "outputs": [
    {
     "data": {
      "text/plain": [
       "'asdasd'"
      ]
     },
     "execution_count": 8,
     "metadata": {},
     "output_type": "execute_result"
    }
   ],
   "source": [
    "a1=Alumno(\"jose\")\n",
    "a1._secreto"
   ]
  },
  {
   "cell_type": "markdown",
   "id": "c1ee408d-8f25-4155-901f-6b5efe340f6e",
   "metadata": {},
   "source": [
    "Dos guiones bajos al comienzo del nombre __ llevan el ocultamiento un paso más allá, “enmaráñando” (name-mangling) la variable de forma que sea más difícil verla desde fuera."
   ]
  },
  {
   "cell_type": "code",
   "execution_count": 9,
   "id": "2556f7cf-7813-4044-a895-5296758996d0",
   "metadata": {},
   "outputs": [],
   "source": [
    "class Alumno():\n",
    "    def __init__(self,nombre=\"\"):\n",
    "        self.nombre=nombre\n",
    "        self.__secreto=\"asdasd\""
   ]
  },
  {
   "cell_type": "code",
   "execution_count": 10,
   "id": "8927da14-bf31-4fa6-aea4-6446375090de",
   "metadata": {},
   "outputs": [
    {
     "ename": "AttributeError",
     "evalue": "'Alumno' object has no attribute '__secreto'",
     "output_type": "error",
     "traceback": [
      "\u001b[0;31m---------------------------------------------------------------------------\u001b[0m",
      "\u001b[0;31mAttributeError\u001b[0m                            Traceback (most recent call last)",
      "\u001b[0;32m<ipython-input-10-cf148dd312c5>\u001b[0m in \u001b[0;36m<module>\u001b[0;34m\u001b[0m\n\u001b[1;32m      1\u001b[0m \u001b[0ma1\u001b[0m\u001b[0;34m=\u001b[0m\u001b[0mAlumno\u001b[0m\u001b[0;34m(\u001b[0m\u001b[0;34m\"jose\"\u001b[0m\u001b[0;34m)\u001b[0m\u001b[0;34m\u001b[0m\u001b[0;34m\u001b[0m\u001b[0m\n\u001b[0;32m----> 2\u001b[0;31m \u001b[0ma1\u001b[0m\u001b[0;34m.\u001b[0m\u001b[0m__secreto\u001b[0m\u001b[0;34m\u001b[0m\u001b[0;34m\u001b[0m\u001b[0m\n\u001b[0m",
      "\u001b[0;31mAttributeError\u001b[0m: 'Alumno' object has no attribute '__secreto'"
     ]
    }
   ],
   "source": [
    "a1=Alumno(\"jose\")\n",
    "a1.__secreto"
   ]
  },
  {
   "cell_type": "code",
   "execution_count": 11,
   "id": "7e6ea31a-cd96-4a1b-8583-cd601779d91b",
   "metadata": {},
   "outputs": [
    {
     "data": {
      "text/plain": [
       "'asdasd'"
      ]
     },
     "execution_count": 11,
     "metadata": {},
     "output_type": "execute_result"
    }
   ],
   "source": [
    " a1._Alumno__secreto"
   ]
  },
  {
   "cell_type": "markdown",
   "id": "013fd93b-8c7b-4451-ac7b-80a9662e4f77",
   "metadata": {},
   "source": [
    "## Métodos de clase (estáticos)\n",
    "Los método estáticos (static methods) son aquellos que no necesitan acceso a ningún atributo de ningún objeto en concreto de la clase"
   ]
  },
  {
   "cell_type": "code",
   "execution_count": 12,
   "id": "4077727c-6517-4ed6-80d6-7f4d98acc9fd",
   "metadata": {},
   "outputs": [],
   "source": [
    "class Calculadora():\n",
    "    def __init__(self,nombre):\n",
    "        self.nombre=nombre\n",
    "        \n",
    "    def modelo(self):\n",
    "        return self.nombre\n",
    "    \n",
    "    @staticmethod\n",
    "    def sumar(x,y):\n",
    "        return x+y"
   ]
  },
  {
   "cell_type": "code",
   "execution_count": 14,
   "id": "90195984-9620-486c-b3a6-646d6fcbad15",
   "metadata": {},
   "outputs": [
    {
     "name": "stdout",
     "output_type": "stream",
     "text": [
      "basica\n"
     ]
    },
    {
     "data": {
      "text/plain": [
       "7"
      ]
     },
     "execution_count": 14,
     "metadata": {},
     "output_type": "execute_result"
    }
   ],
   "source": [
    "a=Calculadora(\"basica\")\n",
    "print(a.modelo())\n",
    "a.sumar(3,4)"
   ]
  },
  {
   "cell_type": "markdown",
   "id": "c919ef64-a780-4239-8860-4675a06107c6",
   "metadata": {},
   "source": [
    "Funciones getattr,setattr,delattr,hasattr"
   ]
  },
  {
   "cell_type": "code",
   "execution_count": 15,
   "id": "68dd79d6-3ed2-4970-b786-e5eb7a3ef3dd",
   "metadata": {},
   "outputs": [
    {
     "data": {
      "text/plain": [
       "'jose'"
      ]
     },
     "execution_count": 15,
     "metadata": {},
     "output_type": "execute_result"
    }
   ],
   "source": [
    "a1=Alumno(\"jose\")\n",
    "getattr(a1,\"nombre\")"
   ]
  },
  {
   "cell_type": "code",
   "execution_count": 18,
   "id": "f9769055-394c-486b-a715-55ac8f63d870",
   "metadata": {},
   "outputs": [
    {
     "data": {
      "text/plain": [
       "'pepe'"
      ]
     },
     "execution_count": 18,
     "metadata": {},
     "output_type": "execute_result"
    }
   ],
   "source": [
    "setattr(a1,\"nombre\",\"pepe\")\n",
    "a1.nombre"
   ]
  },
  {
   "cell_type": "code",
   "execution_count": 19,
   "id": "1e674b66-5a07-40a2-a4bd-751d7b6340a5",
   "metadata": {},
   "outputs": [
    {
     "ename": "AttributeError",
     "evalue": "'Alumno' object has no attribute 'nombre'",
     "output_type": "error",
     "traceback": [
      "\u001b[0;31m---------------------------------------------------------------------------\u001b[0m",
      "\u001b[0;31mAttributeError\u001b[0m                            Traceback (most recent call last)",
      "\u001b[0;32m<ipython-input-19-0627d8994da4>\u001b[0m in \u001b[0;36m<module>\u001b[0;34m\u001b[0m\n\u001b[1;32m      1\u001b[0m \u001b[0mdelattr\u001b[0m\u001b[0;34m(\u001b[0m\u001b[0ma1\u001b[0m\u001b[0;34m,\u001b[0m\u001b[0;34m\"nombre\"\u001b[0m\u001b[0;34m)\u001b[0m\u001b[0;34m\u001b[0m\u001b[0;34m\u001b[0m\u001b[0m\n\u001b[0;32m----> 2\u001b[0;31m \u001b[0ma1\u001b[0m\u001b[0;34m.\u001b[0m\u001b[0mnombre\u001b[0m\u001b[0;34m\u001b[0m\u001b[0;34m\u001b[0m\u001b[0m\n\u001b[0m",
      "\u001b[0;31mAttributeError\u001b[0m: 'Alumno' object has no attribute 'nombre'"
     ]
    }
   ],
   "source": [
    "delattr(a1,\"nombre\")\n",
    "a1.nombre"
   ]
  },
  {
   "cell_type": "markdown",
   "id": "5e629694-9463-441b-bcb4-f022a145b412",
   "metadata": {},
   "source": [
    "Para implementar la encapsulación y no permitir el acceso directo a los atributos, podemos poner los atributos ocultos y declarar métodos especificos para acceder y modificar los atributos (mutadores). Estos métodos se denominan getters y setters."
   ]
  },
  {
   "cell_type": "code",
   "execution_count": 21,
   "id": "d929974f-3c27-4e97-bd5a-469835e8688f",
   "metadata": {},
   "outputs": [],
   "source": [
    "class circulo():\n",
    "    def __init__(self,radio):\n",
    "        self.set_radio(radio)\n",
    "    \n",
    "    def set_radio(self,radio):\n",
    "        if radio>=0:\n",
    "            self._radio = radio\n",
    "        else:\n",
    "            raise ValueError(\"Radio positivo\")\n",
    "            self._radio=0\n",
    "    def get_radio(self):\n",
    "        print(\"Estoy dando el radio\")\n",
    "        return self._radio"
   ]
  },
  {
   "cell_type": "code",
   "execution_count": 22,
   "id": "edc415e8-e165-4948-bda7-3338d526de0d",
   "metadata": {},
   "outputs": [
    {
     "name": "stdout",
     "output_type": "stream",
     "text": [
      "Estoy dando el radio\n",
      "3\n"
     ]
    },
    {
     "ename": "ValueError",
     "evalue": "Radio positivo",
     "output_type": "error",
     "traceback": [
      "\u001b[0;31m---------------------------------------------------------------------------\u001b[0m",
      "\u001b[0;31mValueError\u001b[0m                                Traceback (most recent call last)",
      "\u001b[0;32m<ipython-input-22-954547868b5e>\u001b[0m in \u001b[0;36m<module>\u001b[0;34m\u001b[0m\n\u001b[1;32m      1\u001b[0m \u001b[0mc1\u001b[0m\u001b[0;34m=\u001b[0m\u001b[0mcirculo\u001b[0m\u001b[0;34m(\u001b[0m\u001b[0;36m3\u001b[0m\u001b[0;34m)\u001b[0m\u001b[0;34m\u001b[0m\u001b[0;34m\u001b[0m\u001b[0m\n\u001b[1;32m      2\u001b[0m \u001b[0mprint\u001b[0m\u001b[0;34m(\u001b[0m\u001b[0mc1\u001b[0m\u001b[0;34m.\u001b[0m\u001b[0mget_radio\u001b[0m\u001b[0;34m(\u001b[0m\u001b[0;34m)\u001b[0m\u001b[0;34m)\u001b[0m\u001b[0;34m\u001b[0m\u001b[0;34m\u001b[0m\u001b[0m\n\u001b[0;32m----> 3\u001b[0;31m \u001b[0mc1\u001b[0m\u001b[0;34m.\u001b[0m\u001b[0mset_radio\u001b[0m\u001b[0;34m(\u001b[0m\u001b[0;34m-\u001b[0m\u001b[0;36m1\u001b[0m\u001b[0;34m)\u001b[0m\u001b[0;34m\u001b[0m\u001b[0;34m\u001b[0m\u001b[0m\n\u001b[0m",
      "\u001b[0;32m<ipython-input-21-e4b6a9a3cbd0>\u001b[0m in \u001b[0;36mset_radio\u001b[0;34m(self, radio)\u001b[0m\n\u001b[1;32m      7\u001b[0m             \u001b[0mself\u001b[0m\u001b[0;34m.\u001b[0m\u001b[0m_radio\u001b[0m \u001b[0;34m=\u001b[0m \u001b[0mradio\u001b[0m\u001b[0;34m\u001b[0m\u001b[0;34m\u001b[0m\u001b[0m\n\u001b[1;32m      8\u001b[0m         \u001b[0;32melse\u001b[0m\u001b[0;34m:\u001b[0m\u001b[0;34m\u001b[0m\u001b[0;34m\u001b[0m\u001b[0m\n\u001b[0;32m----> 9\u001b[0;31m             \u001b[0;32mraise\u001b[0m \u001b[0mValueError\u001b[0m\u001b[0;34m(\u001b[0m\u001b[0;34m\"Radio positivo\"\u001b[0m\u001b[0;34m)\u001b[0m\u001b[0;34m\u001b[0m\u001b[0;34m\u001b[0m\u001b[0m\n\u001b[0m\u001b[1;32m     10\u001b[0m             \u001b[0mself\u001b[0m\u001b[0;34m.\u001b[0m\u001b[0m_radio\u001b[0m\u001b[0;34m=\u001b[0m\u001b[0;36m0\u001b[0m\u001b[0;34m\u001b[0m\u001b[0;34m\u001b[0m\u001b[0m\n\u001b[1;32m     11\u001b[0m     \u001b[0;32mdef\u001b[0m \u001b[0mget_radio\u001b[0m\u001b[0;34m(\u001b[0m\u001b[0mself\u001b[0m\u001b[0;34m)\u001b[0m\u001b[0;34m:\u001b[0m\u001b[0;34m\u001b[0m\u001b[0;34m\u001b[0m\u001b[0m\n",
      "\u001b[0;31mValueError\u001b[0m: Radio positivo"
     ]
    }
   ],
   "source": [
    "c1=circulo(3)\n",
    "print(c1.get_radio())\n",
    "c1.set_radio(-1)"
   ]
  },
  {
   "cell_type": "markdown",
   "id": "ab64a551-2ecd-438f-8e72-53676e2c4c61",
   "metadata": {},
   "source": [
    "En Python, las propiedades nos permiten implementar la funcionalidad exponiendo estos métodos como atributos."
   ]
  },
  {
   "cell_type": "code",
   "execution_count": 5,
   "id": "b149c27a-d4da-430b-80a3-c2268dcf33ac",
   "metadata": {},
   "outputs": [],
   "source": [
    "class circulo():\n",
    "    def __init__(self,radio):\n",
    "        self.radio=radio\n",
    "\n",
    "    @property\n",
    "    def radio(self):\n",
    "        print(\"Estoy dando el radio\")\n",
    "        return self._radio\t\n",
    "\n",
    "    @radio.setter\n",
    "    def radio(self,radio):\n",
    "        if radio>=0:\n",
    "            self._radio = radio\n",
    "        else:\n",
    "            raise ValueError(\"Radio positivo\")\n",
    "            self._radio=0\n",
    "            \n",
    "    def __str__(self):\n",
    "        clase = type(self).__name__\n",
    "        msg = \"{0} de radio {1}\"\n",
    "        return msg.format(clase, self.radio)\n",
    "\n",
    "    def __repr__(self):\n",
    "        clase = type(self).__name__\n",
    "        msg = \"{0}({1})\"\n",
    "        return msg.format(clase, self.radio)"
   ]
  },
  {
   "cell_type": "code",
   "execution_count": 6,
   "id": "3e1def67-e0b9-4886-a521-ecb0705221b7",
   "metadata": {},
   "outputs": [
    {
     "name": "stdout",
     "output_type": "stream",
     "text": [
      "Estoy dando el radio\n",
      "3\n"
     ]
    },
    {
     "ename": "ValueError",
     "evalue": "Radio positivo",
     "output_type": "error",
     "traceback": [
      "\u001b[0;31m---------------------------------------------------------------------------\u001b[0m",
      "\u001b[0;31mValueError\u001b[0m                                Traceback (most recent call last)",
      "\u001b[0;32m<ipython-input-6-ed8dd674e318>\u001b[0m in \u001b[0;36m<module>\u001b[0;34m\u001b[0m\n\u001b[1;32m      2\u001b[0m \u001b[0mprint\u001b[0m\u001b[0;34m(\u001b[0m\u001b[0mc1\u001b[0m\u001b[0;34m.\u001b[0m\u001b[0mradio\u001b[0m\u001b[0;34m)\u001b[0m\u001b[0;34m\u001b[0m\u001b[0;34m\u001b[0m\u001b[0m\n\u001b[1;32m      3\u001b[0m \u001b[0mc1\u001b[0m\u001b[0;34m.\u001b[0m\u001b[0mradio\u001b[0m\u001b[0;34m=\u001b[0m\u001b[0;36m4\u001b[0m\u001b[0;34m\u001b[0m\u001b[0;34m\u001b[0m\u001b[0m\n\u001b[0;32m----> 4\u001b[0;31m \u001b[0mc1\u001b[0m\u001b[0;34m.\u001b[0m\u001b[0mradio\u001b[0m\u001b[0;34m=\u001b[0m\u001b[0;34m-\u001b[0m\u001b[0;36m1\u001b[0m\u001b[0;34m\u001b[0m\u001b[0;34m\u001b[0m\u001b[0m\n\u001b[0m",
      "\u001b[0;32m<ipython-input-5-163cc4a93d2d>\u001b[0m in \u001b[0;36mradio\u001b[0;34m(self, radio)\u001b[0m\n\u001b[1;32m     13\u001b[0m             \u001b[0mself\u001b[0m\u001b[0;34m.\u001b[0m\u001b[0m_radio\u001b[0m \u001b[0;34m=\u001b[0m \u001b[0mradio\u001b[0m\u001b[0;34m\u001b[0m\u001b[0;34m\u001b[0m\u001b[0m\n\u001b[1;32m     14\u001b[0m         \u001b[0;32melse\u001b[0m\u001b[0;34m:\u001b[0m\u001b[0;34m\u001b[0m\u001b[0;34m\u001b[0m\u001b[0m\n\u001b[0;32m---> 15\u001b[0;31m             \u001b[0;32mraise\u001b[0m \u001b[0mValueError\u001b[0m\u001b[0;34m(\u001b[0m\u001b[0;34m\"Radio positivo\"\u001b[0m\u001b[0;34m)\u001b[0m\u001b[0;34m\u001b[0m\u001b[0;34m\u001b[0m\u001b[0m\n\u001b[0m\u001b[1;32m     16\u001b[0m             \u001b[0mself\u001b[0m\u001b[0;34m.\u001b[0m\u001b[0m_radio\u001b[0m\u001b[0;34m=\u001b[0m\u001b[0;36m0\u001b[0m\u001b[0;34m\u001b[0m\u001b[0;34m\u001b[0m\u001b[0m\n\u001b[1;32m     17\u001b[0m \u001b[0;34m\u001b[0m\u001b[0m\n",
      "\u001b[0;31mValueError\u001b[0m: Radio positivo"
     ]
    }
   ],
   "source": [
    "c1=circulo(3)\n",
    "print(c1.radio)\n",
    "c1.radio=4\n",
    "c1.radio=-1"
   ]
  },
  {
   "cell_type": "markdown",
   "id": "f6d42573-7d5a-41c0-9b45-50a18b1aebd5",
   "metadata": {},
   "source": [
    "### Representación de objetos __str__ y __repr__"
   ]
  },
  {
   "cell_type": "markdown",
   "id": "f79224ec-76fb-4cd8-b233-24fae27ba8f0",
   "metadata": {},
   "source": [
    "La documentación de Python hace referencia a que el método __str()__ ha de devolver la representación “informal” del objeto, mientras que __repr()__ la “formal”.\n",
    "\n",
    "La función __str()__ debe devolver la cadena de texto que se muestra por pantalla si llamamos a la función str(). Esto es lo que hace Python cuando usamos print. Suele devolver el nombre de la clase.\n",
    "\n",
    "De __repr()__, por el otro lado, se espera que nos devuelva una cadena de texto con una representación única del objeto. Idealmente, la cadena devuelta por __repr()__ debería ser aquella que, pasada a eval(), devuelve el mismo objeto.\n",
    "Continuamos con la clase circulo:"
   ]
  },
  {
   "cell_type": "code",
   "execution_count": 7,
   "id": "397e4006-9dcb-43ea-907d-89cf8b3d8f4d",
   "metadata": {},
   "outputs": [
    {
     "name": "stdout",
     "output_type": "stream",
     "text": [
      "Estoy dando el radio\n",
      "circulo de radio 3\n",
      "Estoy dando el radio\n",
      "Estoy dando el radio\n"
     ]
    },
    {
     "data": {
      "text/plain": [
       "__main__.circulo"
      ]
     },
     "execution_count": 7,
     "metadata": {},
     "output_type": "execute_result"
    }
   ],
   "source": [
    "c1=circulo(3)\n",
    "print(c1)\n",
    "repr(c1)\n",
    "type(eval(repr(c1)))"
   ]
  },
  {
   "cell_type": "markdown",
   "id": "221e8bca-615e-47fe-b38a-9623ebe51096",
   "metadata": {},
   "source": [
    "Hay otras funciones que se pueden reescribir. Podemos revsar las en https://docs.python.org/3.4/reference/datamodel.html#special-method-names"
   ]
  },
  {
   "cell_type": "markdown",
   "id": "93975581-a4f3-4991-9d97-31626506c000",
   "metadata": {},
   "source": [
    "## Polimorfismo, herencia y delegación"
   ]
  },
  {
   "cell_type": "markdown",
   "id": "c2ca83fe-021e-4279-b879-385c55fb672a",
   "metadata": {},
   "source": [
    "### Polimorfismo\n",
    "El polimorfismo es la técnica que nos posibilita que al invocar un determinado método de un objeto, podrán obtenerse distintos resultados según la clase del objeto. Esto se debe a que distintos objetos pueden tener un método con un mismo nombre, pero que realice distintas operaciones.\n",
    "\n",
    "Lo llevamos usando desde principio del curso, por ejemplo podemos recorrer con una estructura for distintas clases de objeto, debido a que el método especial __iter__ está definida en cada una de las clases. Otro ejemplo sería que con la función print podemos imprimir distintas clases de objeto, en este caso, el método especial __str__ está definido en todas las clases.\n",
    "\n",
    "Además esto es posible a que python es dinámico, es decir en tiempo de ejecución es cuando se determina el tipo de un objeto. Veamos un ejemplo:"
   ]
  },
  {
   "cell_type": "code",
   "execution_count": 1,
   "id": "c16aca9b-0587-4bc2-810a-93190a1bfa67",
   "metadata": {},
   "outputs": [],
   "source": [
    "class Gato():\n",
    "    def hablar(self):\n",
    "        print(\"MIAU\")\n",
    "\n",
    "class Perro():\n",
    "    def hablar(self):\n",
    "        print(\"GUAU\")\n",
    "\n",
    "def escucharMascota(animal):\n",
    "    animal.hablar()\n"
   ]
  },
  {
   "cell_type": "code",
   "execution_count": 4,
   "id": "452a84bd-9368-49ff-9294-f1a5f6a8e5ea",
   "metadata": {},
   "outputs": [
    {
     "name": "stdout",
     "output_type": "stream",
     "text": [
      "MIAU\n",
      "GUAU\n"
     ]
    }
   ],
   "source": [
    "if __name__ == '__main__':\n",
    "    g = Gato()\n",
    "    p = Perro()\n",
    "    escucharMascota(g)\n",
    "    escucharMascota(p)"
   ]
  },
  {
   "cell_type": "markdown",
   "id": "4b727014-9f96-4939-9c0e-1804c7b0c832",
   "metadata": {
    "tags": []
   },
   "source": [
    "## Herencia múltiple"
   ]
  },
  {
   "cell_type": "markdown",
   "id": "afa911a3-22cd-4cea-9a40-bc3ecc660086",
   "metadata": {},
   "source": [
    "La herencia múltiple se refiere a la posibilidad de crear una clase a partir de múltiples clases superiores.\n",
    "Es importante nombrar adecuadamente los atributos y los métodos en cada clase para no crear conflictos."
   ]
  },
  {
   "cell_type": "code",
   "execution_count": 6,
   "id": "c3e26818-6b28-4d72-bf5b-45e72acaeaa1",
   "metadata": {},
   "outputs": [],
   "source": [
    "class Telefono:\n",
    "    \"Clase teléfono\"\n",
    "    def __init__(self,numero):\n",
    "        self.numero=numero\n",
    "    def telefonear(self):\n",
    "        print('llamando')\n",
    "    def colgar(self):\n",
    "        print('colgando') \n",
    "    def __str__(self):\n",
    "        return self.numero\t\n",
    "\n",
    "class Camara:\n",
    "    \"Clase camara fotográfica\"\n",
    "    def __init__(self,mpx):\n",
    "        self.mpx=mpx\n",
    "    def fotografiar(self):\n",
    "        print('fotografiando')        \n",
    "    def __str__(self):\n",
    "        return self.mpx\n",
    "class Reproductor:\n",
    "    \"Clase Reproductor Mp3\"\n",
    "    def __init__(self,capcidad):\n",
    "        self.capacidad=capcidad\n",
    "    def reproducirmp3(self):\n",
    "        print('reproduciendo mp3')                  \n",
    "    def reproducirvideo(self):\n",
    "        print('reproduciendo video')                  \n",
    "    def __str__(self):\n",
    "        return self.capacidad\t\n",
    "\n",
    "class Movil(Telefono, Camara, Reproductor):\n",
    "    def __init__(self,numero,mpx,capacidad):\n",
    "        Telefono.__init__(self,numero)\n",
    "        Camara.__init__(self,mpx)\n",
    "        Reproductor.__init__(self,capacidad)\n",
    "    def __str__(self):\n",
    "        return \"Número: {0}, Cámara: {1},Capacidad: {2}\".format(Telefono.__str__(self),Camara.__str__(self),Reproductor.__str__(self))\n"
   ]
  },
  {
   "cell_type": "code",
   "execution_count": 8,
   "id": "d6740d33-e5bf-44cf-9b01-3d298ca8d961",
   "metadata": {},
   "outputs": [
    {
     "name": "stdout",
     "output_type": "stream",
     "text": [
      "['__class__', '__delattr__', '__dict__', '__dir__', '__doc__', '__eq__', '__format__', '__ge__', '__getattribute__', '__gt__', '__hash__', '__init__', '__init_subclass__', '__le__', '__lt__', '__module__', '__ne__', '__new__', '__reduce__', '__reduce_ex__', '__repr__', '__setattr__', '__sizeof__', '__str__', '__subclasshook__', '__weakref__', 'capacidad', 'colgar', 'fotografiar', 'mpx', 'numero', 'reproducirmp3', 'reproducirvideo', 'telefonear']\n",
      "Número: 645234567, Cámara: 5Mpx,Capacidad: 1G\n"
     ]
    }
   ],
   "source": [
    "mimovil=Movil(\"645234567\",\"5Mpx\",\"1G\")\n",
    "print(dir(mimovil))\n",
    "print(mimovil)\n",
    "\n"
   ]
  },
  {
   "cell_type": "markdown",
   "id": "9f19050d-1678-4c9a-a577-a55827b25a3f",
   "metadata": {
    "tags": []
   },
   "source": [
    "### Funciones issubclass() y isinstance()\n",
    "La función issubclass(SubClase, ClaseSup) se utiliza para comprobar si una clase (SubClase) es hija de otra superior (ClaseSup), devolviendo True o False según sea el caso."
   ]
  },
  {
   "cell_type": "code",
   "execution_count": 9,
   "id": "1b35419e-2811-44c6-a9c8-e810562cba1c",
   "metadata": {},
   "outputs": [
    {
     "name": "stdout",
     "output_type": "stream",
     "text": [
      "True\n",
      "True\n"
     ]
    }
   ],
   "source": [
    "print(issubclass(Movil,Telefono))\n",
    "print(isinstance(mimovil,Movil))"
   ]
  },
  {
   "cell_type": "markdown",
   "id": "e161ee0d-45e5-4808-b657-52ac33ca8972",
   "metadata": {},
   "source": [
    "### Delegación\n",
    "Llamamos delegación a la situación en la que una clase contiene (como atributos) una o más instancias de otra clase, a las que delegará parte de sus funcionalidades.\n",
    "\n",
    "A partir de la clase punto, podemos crear la clase circulo de esta forma:"
   ]
  },
  {
   "cell_type": "code",
   "execution_count": 14,
   "id": "316f0621-d9fe-4981-8be0-6d164d33c1b6",
   "metadata": {},
   "outputs": [],
   "source": [
    "class Punto():\n",
    "    def __init__(self,x=0,y=0):\n",
    "        self.x = x\n",
    "        self.y = y\n",
    "        \n",
    "class Circulo():\n",
    "    def __init__(self,centro,radio):\n",
    "        self.centro=centro\n",
    "        self.radio=radio\n",
    "\n",
    "    def __str__(self):\n",
    "        return \"Centro:{0}-Radio:{1}\".format(self.centro.__str__(),self.radio)"
   ]
  },
  {
   "cell_type": "code",
   "execution_count": 19,
   "id": "4a5bce8c-0a16-4e50-b54c-fee79cc08a1b",
   "metadata": {},
   "outputs": [
    {
     "data": {
      "text/plain": [
       "'Centro:<__main__.Punto object at 0x7faf7c40fdf0>-Radio:5'"
      ]
     },
     "execution_count": 19,
     "metadata": {},
     "output_type": "execute_result"
    }
   ],
   "source": [
    "c1 = Circulo(Punto(2,3),5)"
   ]
  },
  {
   "cell_type": "code",
   "execution_count": null,
   "id": "b0144012-41c4-4df9-88c9-750f220b73f2",
   "metadata": {},
   "outputs": [],
   "source": []
  }
 ],
 "metadata": {
  "kernelspec": {
   "display_name": "Python 3",
   "language": "python",
   "name": "python3"
  },
  "language_info": {
   "codemirror_mode": {
    "name": "ipython",
    "version": 3
   },
   "file_extension": ".py",
   "mimetype": "text/x-python",
   "name": "python",
   "nbconvert_exporter": "python",
   "pygments_lexer": "ipython3",
   "version": "3.8.2"
  }
 },
 "nbformat": 4,
 "nbformat_minor": 5
}
