{
 "cells": [
  {
   "cell_type": "markdown",
   "id": "9f459f7b-9409-49f9-8ca7-d10345d67590",
   "metadata": {},
   "source": [
    "<a href=\"https://colab.research.google.com/drive/1YtAN9ZJRYckIWVi4hIp_IVeijNoMt8jA\" target=\"_parent\"><img src=\"https://colab.research.google.com/assets/colab-badge.svg\" alt=\"Open In Colab\"/></a>"
   ]
  },
  {
   "cell_type": "markdown",
   "id": "90140ad8-357a-44f9-a2e8-afe89604f394",
   "metadata": {},
   "source": [
    "Desarrollar un programa que cargue los datos de un triángulo. Implementar una clase con los métodos para inicializar los atributos, imprimir el valor del lado con un tamaño mayor y  el tipo de triángulo que es (equilátero, isósceles o escaleno)."
   ]
  },
  {
   "cell_type": "code",
   "execution_count": null,
   "id": "40b7d33a-6f54-4e0e-916a-b69a0a6d6933",
   "metadata": {},
   "outputs": [],
   "source": []
  },
  {
   "cell_type": "markdown",
   "id": "ef425b14-f0b1-4992-9b6c-5fb09eb2bc8e",
   "metadata": {},
   "source": [
    "### Realiza una clase Institución "
   ]
  }
 ],
 "metadata": {
  "kernelspec": {
   "display_name": "Python 3",
   "language": "python",
   "name": "python3"
  },
  "language_info": {
   "codemirror_mode": {
    "name": "ipython",
    "version": 3
   },
   "file_extension": ".py",
   "mimetype": "text/x-python",
   "name": "python",
   "nbconvert_exporter": "python",
   "pygments_lexer": "ipython3",
   "version": "3.8.2"
  }
 },
 "nbformat": 4,
 "nbformat_minor": 5
}
