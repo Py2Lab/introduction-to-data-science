{
 "cells": [
  {
   "cell_type": "markdown",
   "id": "ed53676a-8111-467e-ad6e-b4200244b106",
   "metadata": {},
   "source": [
    "\n",
    "<a href=\"https://colab.research.google.com/drive/1E6EBkVrgkr8iWlUB958b_VUyTnK9YdpA\" target=\"_parent\"><img src=\"https://colab.research.google.com/assets/colab-badge.svg\" alt=\"Open In Colab\"/></a>\n"
   ]
  },
  {
   "cell_type": "markdown",
   "id": "a66e35f9-e9f8-456d-bea3-6f1d9d341b26",
   "metadata": {},
   "source": [
    "### Árboles binarios"
   ]
  },
  {
   "cell_type": "code",
   "execution_count": 7,
   "id": "00b3d59a-086f-4ed2-827d-f021155899de",
   "metadata": {},
   "outputs": [
    {
     "name": "stdout",
     "output_type": "stream",
     "text": [
      "WARNING: pip is being invoked by an old script wrapper. This will fail in a future version of pip.\n",
      "Please see https://github.com/pypa/pip/issues/5599 for advice on fixing the underlying issue.\n",
      "To avoid this problem you can invoke Python with '-m pip' instead of running pip directly.\n",
      "/home/gibran/.local/lib/python3.8/site-packages/secretstorage/dhcrypto.py:16: CryptographyDeprecationWarning: int_from_bytes is deprecated, use int.from_bytes instead\n",
      "  from cryptography.utils import int_from_bytes\n",
      "/home/gibran/.local/lib/python3.8/site-packages/secretstorage/util.py:25: CryptographyDeprecationWarning: int_from_bytes is deprecated, use int.from_bytes instead\n",
      "  from cryptography.utils import int_from_bytes\n",
      "Collecting binarytree\n",
      "  Downloading binarytree-6.5.1-py3-none-any.whl (18 kB)\n",
      "Requirement already satisfied: graphviz in /home/gibran/.pyenv/versions/3.8.2/lib/python3.8/site-packages (from binarytree) (0.19.1)\n",
      "Collecting setuptools-scm[toml]>=5.0.1\n",
      "  Downloading setuptools_scm-6.4.2-py3-none-any.whl (37 kB)\n",
      "Requirement already satisfied: packaging>=20.0 in /home/gibran/.local/lib/python3.8/site-packages (from setuptools-scm[toml]>=5.0.1->binarytree) (20.4)\n",
      "Requirement already satisfied: tomli>=1.0.0 in /home/gibran/.pyenv/versions/3.8.2/lib/python3.8/site-packages (from setuptools-scm[toml]>=5.0.1->binarytree) (1.2.3)\n",
      "Requirement already satisfied: pyparsing>=2.0.2 in /home/gibran/.pyenv/versions/3.8.2/lib/python3.8/site-packages (from packaging>=20.0->setuptools-scm[toml]>=5.0.1->binarytree) (2.1.10)\n",
      "Requirement already satisfied: six in /home/gibran/.pyenv/versions/3.8.2/lib/python3.8/site-packages (from packaging>=20.0->setuptools-scm[toml]>=5.0.1->binarytree) (1.16.0)\n",
      "Collecting setuptools>=60.8.2\n",
      "  Using cached setuptools-62.1.0-py3-none-any.whl (1.1 MB)\n",
      "Installing collected packages: setuptools, setuptools-scm, binarytree\n",
      "  Attempting uninstall: setuptools\n",
      "    Found existing installation: setuptools 41.2.0\n",
      "    Uninstalling setuptools-41.2.0:\n",
      "      Successfully uninstalled setuptools-41.2.0\n",
      "Successfully installed binarytree-6.5.1 setuptools-62.1.0 setuptools-scm-6.4.2\n",
      "\u001b[33mWARNING: You are using pip version 20.3.3; however, version 22.0.4 is available.\n",
      "You should consider upgrading via the '/home/gibran/.pyenv/versions/3.8.2/bin/python3.8 -m pip install --upgrade pip' command.\u001b[0m\n"
     ]
    }
   ],
   "source": [
    "!pip install binarytree"
   ]
  },
  {
   "cell_type": "code",
   "execution_count": 3,
   "id": "db367710-8d3a-4a18-8263-b672c29838b6",
   "metadata": {},
   "outputs": [],
   "source": [
    "from binarytree import Node\n",
    "from binarytree import build\n",
    "import numpy as np\n",
    "import pandas as pd"
   ]
  },
  {
   "cell_type": "code",
   "execution_count": 9,
   "id": "1841b8a7-a023-46bb-8fa0-853c61b93a44",
   "metadata": {},
   "outputs": [
    {
     "name": "stdout",
     "output_type": "stream",
     "text": [
      "Binary tree : \n",
      "  3\n",
      " / \\\n",
      "6   8\n",
      "\n",
      "List of nodes : [Node(3), Node(6), Node(8)]\n",
      "Inorder of nodes : [Node(6), Node(3), Node(8)]\n",
      "Size of tree : 3\n",
      "Height of tree : 1\n",
      "Properties of tree : \n",
      " {'height': 1, 'size': 3, 'is_max_heap': False, 'is_min_heap': True, 'is_perfect': True, 'is_strict': True, 'is_complete': True, 'leaf_count': 2, 'min_node_value': 3, 'max_node_value': 8, 'min_leaf_depth': 1, 'max_leaf_depth': 1, 'is_balanced': True, 'is_bst': False, 'is_symmetric': False}\n"
     ]
    }
   ],
   "source": [
    "root = Node(3)\n",
    "root.left = Node(6)\n",
    "root.right = Node(8)\n",
    " \n",
    "# árbol binario\n",
    "print('Árbol binario :', root)\n",
    " \n",
    "# Lista de nodos\n",
    "print('Lista de nodos :', list(root))\n",
    " \n",
    "# recorrido inorder de nodos \n",
    "print('Inorder de nodos :', root.inorder)\n",
    " \n",
    "# Propiedades de árboles\n",
    "print('tamano de árbol :', root.size)\n",
    "print('Altura de árbol :', root.height)\n",
    " \n",
    "# Obten todas las propiedades\n",
    "print('Propiedades del árbol : \\n', root.properties)"
   ]
  },
  {
   "cell_type": "code",
   "execution_count": 6,
   "id": "5f8cb646-7225-4f16-9b16-64606c38afae",
   "metadata": {},
   "outputs": [
    {
     "name": "stdout",
     "output_type": "stream",
     "text": [
      "Lista del árbolo binario :\n",
      " \n",
      "    ___3\n",
      "   /    \\\n",
      "  6      8\n",
      " / \\      \\\n",
      "2   11     13\n",
      "\n",
      "\n",
      "Lista del árbol binario : [3, 6, 8, 2, 11, None, 13]\n"
     ]
    }
   ],
   "source": [
    "nodes = [3, 6, 8, 2, 11, None, 13]\n",
    " \n",
    "binary_tree = build(nodes)\n",
    "\n",
    "print('Lista del árbolo binario :\\n',\n",
    "      binary_tree)\n",
    " \n",
    "print('\\nLista del árbol binario :',\n",
    "      binary_tree.values)"
   ]
  },
  {
   "cell_type": "markdown",
   "id": "b62b40c6-cabf-4eb8-908c-960b21a782f4",
   "metadata": {},
   "source": [
    "### Expresiones regulares\n",
    "1. Símbolo de escape:\n",
    "    \\\n",
    " 2. Agrupación o captura:\n",
    "    (...) (?:...) (?=...) (?!...) (?<=...) (?<!...)\n",
    " 3. Cantidad (cuantificadores)\n",
    "    a* a+ a? a{n, m}\n",
    " 4. Secuencia y ancla\n",
    "    abc ^ $ \\b \\B\n",
    " 5. O (alternancia)\n",
    "    a|b|c\n",
    " 6. Átomos\n",
    "    a [^abc] \\t \\r \\n \\d \\D \\s \\S \\w \\W .\n",
    "\n"
   ]
  },
  {
   "cell_type": "markdown",
   "id": "38756171-2690-4ac5-a387-1242044ae078",
   "metadata": {},
   "source": [
    "\\ d Cualquier número; equivalente a [0-9]\n",
    "\n",
    " \\ D Cualquier que no sea un dígito; equivalente a [^ 0-9]\n",
    " \n",
    " \\ w Cualquier carácter literal; equivalente a [a-zA-Z0-9_]\n",
    " \n",
    " \\ W Cualquier carácter no literal; equivalente a [^ a-zA-Z0-9_]\n",
    " \n",
    " \\ s Cualquier espacio en blanco; equivalente a [\\ f \\ n \\ r \\ t \\ v] (tenga en cuenta que el primer carácter entre corchetes es un símbolo de espacio)\n",
    " \n",
    " \\ S Cualquier que no esté en blanco; equivalente a [^ \\ f \\ n \\ r \\ t \\ v] (tenga en cuenta que inmediatamente después de ^ hay un símbolo de espacio)\n",
    " \n",
    " . Cualquier carácter excepto \\ r \\ n; equivalente a [^ \\ r \\ n]\n"
   ]
  },
  {
   "cell_type": "code",
   "execution_count": 6,
   "id": "56d2ba79-35b3-4b63-9caa-b737d64cdbe1",
   "metadata": {},
   "outputs": [
    {
     "name": "stdout",
     "output_type": "stream",
     "text": [
      "['542-4256', '270-9664']\n"
     ]
    }
   ],
   "source": [
    "import re\n",
    "\n",
    "str = '<dl>(843) 542-4256</dl> <dl>(431) 270-9664</dl>'\n",
    " # Busque todos los caracteres en el formato \"número-número\" en la cadena, donde el primer número es de tres dígitos y el segundo número es de cuatro dígitos\n",
    "pttn = r'\\d\\d\\d\\-\\d\\d\\d\\d'\n",
    "print(re.findall(pttn, str))"
   ]
  },
  {
   "cell_type": "code",
   "execution_count": 3,
   "id": "f36cd053-5a76-4ea6-b133-8855cccfe4aa",
   "metadata": {},
   "outputs": [
    {
     "name": "stdout",
     "output_type": "stream",
     "text": [
      "['er', 'er', 'er']\n",
      "['er', 'er']\n"
     ]
    }
   ],
   "source": [
    "str = 'never ever verb however everest'\n",
    "pttn = r'er\\b'\n",
    "print(re.findall(pttn, str))\n",
    "pttn = r'er\\B'\n",
    "print(re.findall(pttn, str))\n"
   ]
  },
  {
   "cell_type": "markdown",
   "id": "188b7cbb-e30c-405c-87f1-d58693e5f0d5",
   "metadata": {},
   "source": [
    "^ Coincide con la posición inicial de la cadena buscada;\n",
    "\n",
    " $ Coincide con la posición final de la cadena buscada;\n",
    "    \n",
    " \\ b coincide con el límite de una palabra; er \\ b puede coincidir con er en el codificador, pero no puede coincidir con er por error;\n",
    "\n",
    " \\ B coincide con un límite sin palabras; er \\ B puede coincidir con er por error, pero no en el codificador.\n"
   ]
  },
  {
   "cell_type": "markdown",
   "id": "206f5e16-577f-4aba-9ba8-9f5c2c102bcc",
   "metadata": {},
   "source": [
    "+ Significa que el átomo anterior debe aparecer al menos una vez, es decir: número de apariciones ≧ 1\n",
    " ? Indica que el átomo anterior solo puede aparecer una vez como máximo, es decir: 0 ≦ número de ocurrencias ≦ 1\n",
    " * Representa que el átomo anterior puede no aparecer, o aparecer una o más veces, es decir: número de apariciones ≧ 0\n",
    " {n} representa n veces que aparece el átomo anterior;\n",
    " {n,} significa que el átomo anterior aparece al menos n veces;\n",
    " {n, m} significa que el átomo anterior aparece al menos n veces y como máximo m veces"
   ]
  },
  {
   "cell_type": "code",
   "execution_count": 1,
   "id": "c191fa9d-7a13-41e0-8796-72bf1b38a035",
   "metadata": {},
   "outputs": [
    {
     "name": "stdout",
     "output_type": "stream",
     "text": [
      "['er', 'er', 'er']\n",
      "['er', 'er']\n"
     ]
    }
   ],
   "source": [
    "import re\n",
    "\n",
    "str = 'never ever verb however everest'\n",
    "pttn = r'er\\b'\n",
    "print(re.findall(pttn, str))\n",
    "pttn = r'er\\B'\n",
    "print(re.findall(pttn, str))\n"
   ]
  },
  {
   "cell_type": "code",
   "execution_count": 4,
   "id": "fccbd343-e6fe-4c07-8376-f6da31239b54",
   "metadata": {},
   "outputs": [
    {
     "name": "stdout",
     "output_type": "stream",
     "text": [
      "['google']\n",
      "[]\n",
      "[]\n",
      "['google']\n",
      "[]\n",
      "['gooogle']\n",
      "[]\n",
      "[]\n",
      "['gooogle']\n",
      "[]\n",
      "['goooogle']\n",
      "[]\n",
      "[]\n",
      "['goooogle']\n",
      "[]\n",
      "['goooooogle']\n",
      "[]\n",
      "[]\n",
      "[]\n",
      "[]\n"
     ]
    }
   ],
   "source": [
    "# Match string\n",
    "str = ['google', 'gooogle', 'goooogle', 'goooooogle']\n",
    "\n",
    " # Atraviesa la cuerda\n",
    "for str_per in str:\n",
    "         # o aparece al menos una vez \n",
    "    pttn = r'go+gle'\n",
    "    print(re.findall(pttn, str_per))\n",
    "    \n",
    "         # o aparece como máximo una vez \n",
    "    pttn = r'go?gle'\n",
    "    print(re.findall(pttn, str_per))\n",
    "\n",
    "         # oNúmero de ocurrencias ≧ 0\n",
    "    pttn = r'go?gle'\n",
    "    print(re.findall(pttn, str_per))\n",
    "    \n",
    "         # o aparece al menos 2 veces y como máximo 5 veces\n",
    "    pttn = r'go{2,5}gle'\n",
    "    print(re.findall(pttn, str_per))\n",
    "    \n",
    "         # Advance: combinación simultánea de átomos\n",
    "         # go o aparece al menos una vez\n",
    "    pttn = r'[go]+gle'\n",
    "    \n",
    "         # go aparece al menos una vez\n",
    "    pttn = r'(go)+gle'\n",
    "    print(re.findall(pttn, str_per))"
   ]
  },
  {
   "cell_type": "markdown",
   "id": "da85d27b-55ca-4fc7-b6b9-fe66cf801cbb",
   "metadata": {},
   "source": [
    "1. Entendimiento del negocio: Determinar los objetivos del negocio, cuáles son sus necesidades y lo que se desea abarcar.\n",
    "\n",
    "2. Entendimiento de los datos: De acuerdo a la fase anterior, con que datos cuento, que datos son útiles y cuáles necesito.\n",
    "\n",
    "3. Preparación de datos: En esta fase se exploran los datos, se manipulan y se limpian, se hace la unión entre lo que quiere/necesita el negocio con los datos con los que cuenta la organización\n",
    "\n",
    "4. Modelamiento: Teniendo en cuenta los puntos anteriores se realiza el análisis y se obtienen resultados.\n",
    "\n",
    "5. Evaluación: Una vez se obtienen los resultados se evalúa el modelo teniendo en cuenta el objetivo del análisis\n",
    "\n",
    "6. Despliegue: Una vez validado el modelo se realiza la implementación en producción, así como monitoreo y mantenimiento."
   ]
  },
  {
   "cell_type": "markdown",
   "id": "af90622e-0424-48b6-95a7-84c65e8f48d2",
   "metadata": {},
   "source": [
    "![python-ecosystem](https://miro.medium.com/max/1400/0*qc2yUKqzRGIfpICx.png)\n",
    "<div style=\"text-align: center\"> https://lauralpezb.medium.com/</div>"
   ]
  },
  {
   "cell_type": "markdown",
   "id": "1c70c0f7-bedf-4d82-83d4-7ca579c00e2a",
   "metadata": {},
   "source": [
    "### Los fundamentos de las matrices NumPy"
   ]
  },
  {
   "cell_type": "markdown",
   "id": "b2422270-1aa7-46d7-8cf8-3d1c40372325",
   "metadata": {},
   "source": [
    "La manipulación de datos en Python es casi sinónimo de la manipulación de matrices NumPy: incluso las herramientas más nuevas, como Pandas (Capítulo 3), se construyen alrededor de la matriz NumPy. Esta sección presentará varios ejemplos del uso de la manipulación de arreglos NumPy para acceder a datos y subarreglos, y para dividir, remodelar y unir los arreglos. Si bien los tipos de operaciones que se muestran aquí pueden parecer un poco áridos y pedantes, comprenden los componentes básicos de muchos otros ejemplos que se usan a lo largo del libro. ¡Conócelos bien!\n",
    "\n",
    "Cubriremos algunas categorías de manipulaciones básicas de matrices aquí:\n",
    "\n",
    "Atributos de los arreglos: determinación del tamaño, la forma, el consumo de memoria y los tipos de datos de los arreglos\n",
    "Indexación de arreglos: Obtener y establecer el valor de elementos de arreglo individuales\n",
    "Segmentación de arreglos: obtención y configuración de subarreglos más pequeños dentro de un arreglo más grande\n",
    "Remodelación de arreglos: Cambiar la forma de un arreglo dado\n",
    "Unión y división de arreglos: combinación de múltiples arreglos en uno y división de un arreglo en muchos"
   ]
  },
  {
   "cell_type": "code",
   "execution_count": 17,
   "id": "5bed6e55-1774-4cfa-b237-07e886b64976",
   "metadata": {},
   "outputs": [],
   "source": [
    "np.random.seed(0)\n",
    "\n",
    "x1 = np.random.randint(10, size=6)  # dim 1\n",
    "x2 = np.random.randint(10, size=(3, 4))  # dim 2\n",
    "x3 = np.random.randint(10, size=(3, 4, 5))  # dim 3"
   ]
  },
  {
   "cell_type": "code",
   "execution_count": 18,
   "id": "4a8958ec-a9f9-4744-bc55-a6a0ffd309ae",
   "metadata": {},
   "outputs": [
    {
     "data": {
      "text/plain": [
       "(array([5, 0, 3, 3, 7, 9]),\n",
       " array([[3, 5, 2, 4],\n",
       "        [7, 6, 8, 8],\n",
       "        [1, 6, 7, 7]]),\n",
       " array([[[8, 1, 5, 9, 8],\n",
       "         [9, 4, 3, 0, 3],\n",
       "         [5, 0, 2, 3, 8],\n",
       "         [1, 3, 3, 3, 7]],\n",
       " \n",
       "        [[0, 1, 9, 9, 0],\n",
       "         [4, 7, 3, 2, 7],\n",
       "         [2, 0, 0, 4, 5],\n",
       "         [5, 6, 8, 4, 1]],\n",
       " \n",
       "        [[4, 9, 8, 1, 1],\n",
       "         [7, 9, 9, 3, 6],\n",
       "         [7, 2, 0, 3, 5],\n",
       "         [9, 4, 4, 6, 4]]]))"
      ]
     },
     "execution_count": 18,
     "metadata": {},
     "output_type": "execute_result"
    }
   ],
   "source": [
    "x1, x2, x3"
   ]
  },
  {
   "cell_type": "code",
   "execution_count": 19,
   "id": "2a706d96-bcd0-4d56-987b-ed3147f1386e",
   "metadata": {},
   "outputs": [
    {
     "name": "stdout",
     "output_type": "stream",
     "text": [
      "x3 ndim:  3\n",
      "x3 shape: (3, 4, 5)\n",
      "x3 size:  60\n"
     ]
    }
   ],
   "source": [
    "print(\"x3 ndim: \", x3.ndim)\n",
    "print(\"x3 shape:\", x3.shape)\n",
    "print(\"x3 size: \", x3.size)"
   ]
  },
  {
   "cell_type": "code",
   "execution_count": 20,
   "id": "24968e5c-cf84-4c70-ad6e-41e114100911",
   "metadata": {},
   "outputs": [
    {
     "data": {
      "text/plain": [
       "(array([5, 0, 3, 3, 7, 9]), 5, 3)"
      ]
     },
     "execution_count": 20,
     "metadata": {},
     "output_type": "execute_result"
    }
   ],
   "source": [
    "x1, x1[0], x2[0, 0]"
   ]
  },
  {
   "cell_type": "code",
   "execution_count": 21,
   "id": "12459eb3-bfd2-4303-8e3d-7a331019b187",
   "metadata": {},
   "outputs": [],
   "source": [
    "x2[0, 0] = 12"
   ]
  },
  {
   "cell_type": "code",
   "execution_count": 23,
   "id": "e24415cc-d650-4263-89bc-c381f7d3e039",
   "metadata": {},
   "outputs": [
    {
     "data": {
      "text/plain": [
       "(array([5, 0, 3, 3, 7]), array([5, 3, 7]), array([0, 3, 9]))"
      ]
     },
     "execution_count": 23,
     "metadata": {},
     "output_type": "execute_result"
    }
   ],
   "source": [
    "#x[start:stop:step]\n",
    "\n",
    "x1[:5], x1[::2], x1[1::2]"
   ]
  },
  {
   "cell_type": "markdown",
   "id": "8cdd35f2-e9c3-472c-95a6-4881fea423e7",
   "metadata": {},
   "source": [
    "Crando copias "
   ]
  },
  {
   "cell_type": "code",
   "execution_count": 24,
   "id": "3423ae62-7597-446a-8203-8c3dae66174f",
   "metadata": {},
   "outputs": [
    {
     "name": "stdout",
     "output_type": "stream",
     "text": [
      "[[12  5]\n",
      " [ 7  6]]\n"
     ]
    }
   ],
   "source": [
    "x2_sub_copy = x2[:2, :2].copy()\n",
    "print(x2_sub_copy)"
   ]
  },
  {
   "cell_type": "code",
   "execution_count": 25,
   "id": "37950bfa-93aa-43c5-9f5b-e9b07cf95f3e",
   "metadata": {},
   "outputs": [
    {
     "name": "stdout",
     "output_type": "stream",
     "text": [
      "[[1 2 3]\n",
      " [4 5 6]\n",
      " [7 8 9]]\n"
     ]
    }
   ],
   "source": [
    "grid = np.arange(1, 10).reshape((3, 3))\n",
    "print(grid)"
   ]
  },
  {
   "cell_type": "markdown",
   "id": "ae623263-1613-4141-b687-452ca0147619",
   "metadata": {},
   "source": [
    "Concatenar y Dividir arreglos"
   ]
  },
  {
   "cell_type": "code",
   "execution_count": 27,
   "id": "ac5cc79b-b47c-401b-a943-4ad629be2daa",
   "metadata": {},
   "outputs": [
    {
     "data": {
      "text/plain": [
       "array([1, 2, 3, 3, 2, 1])"
      ]
     },
     "execution_count": 27,
     "metadata": {},
     "output_type": "execute_result"
    }
   ],
   "source": [
    "x = np.array([1, 2, 3])\n",
    "y = np.array([3, 2, 1])\n",
    "np.concatenate([x, y])"
   ]
  },
  {
   "cell_type": "code",
   "execution_count": 28,
   "id": "e6d64300-e3c0-4269-8e97-4f09b06ee959",
   "metadata": {},
   "outputs": [
    {
     "name": "stdout",
     "output_type": "stream",
     "text": [
      "[1 2 3] [99 99] [3 2 1]\n"
     ]
    }
   ],
   "source": [
    "x = [1, 2, 3, 99, 99, 3, 2, 1]\n",
    "x1, x2, x3 = np.split(x, [3, 5])\n",
    "print(x1, x2, x3)"
   ]
  },
  {
   "cell_type": "markdown",
   "id": "06860717-afc7-4e44-8011-13ef2963f475",
   "metadata": {},
   "source": [
    "### Cálculo en matrices NumPy: funciones universales"
   ]
  },
  {
   "cell_type": "markdown",
   "id": "f32689d6-afb8-4f93-a749-e45da50f8265",
   "metadata": {},
   "source": [
    "Hasta ahora, hemos discutido algunos de los aspectos básicos de NumPy; En las próximas secciones, profundizaremos en las razones por las que NumPy es tan importante en el mundo de la ciencia de datos de Python. Es decir, proporciona una interfaz fácil y flexible para el cálculo optimizado con matrices de datos.\n",
    "\n",
    "El cálculo en matrices NumPy puede ser muy rápido o muy lento. La clave para hacerlo rápido es usar operaciones vectorizadas, generalmente implementadas a través de las funciones universales de NumPy (ufuncs). Esta sección motiva la necesidad de los ufuncs de NumPy, que se pueden usar para hacer que los cálculos repetidos en los elementos de la matriz sean mucho más eficientes. Luego presenta muchos de los ufuncs aritméticos más comunes y útiles disponibles en el paquete NumPy."
   ]
  },
  {
   "cell_type": "markdown",
   "id": "a2af11da-d220-462d-b0ea-50fafb3e7c9e",
   "metadata": {},
   "source": [
    "La relativa lentitud de Python generalmente se manifiesta en situaciones en las que se repiten muchas operaciones pequeñas, por ejemplo, recorriendo matrices para operar en cada elemento. Por ejemplo, imagina que tenemos una matriz de valores y nos gustaría calcular el recíproco de cada uno. Un enfoque sencillo podría verse así:"
   ]
  },
  {
   "cell_type": "code",
   "execution_count": 29,
   "id": "945bc3ab-a5a6-42b3-98ee-08d7a3174a87",
   "metadata": {},
   "outputs": [
    {
     "data": {
      "text/plain": [
       "array([0.2       , 0.25      , 0.2       , 0.2       , 0.11111111])"
      ]
     },
     "execution_count": 29,
     "metadata": {},
     "output_type": "execute_result"
    }
   ],
   "source": [
    "def compute_reciprocals(values):\n",
    "    output = np.empty(len(values))\n",
    "    for i in range(len(values)):\n",
    "        output[i] = 1.0 / values[i]\n",
    "    return output\n",
    "        \n",
    "values = np.random.randint(1, 10, size=5)\n",
    "compute_reciprocals(values)"
   ]
  },
  {
   "cell_type": "markdown",
   "id": "1592b73a-2c21-4061-b601-0e304d720a89",
   "metadata": {},
   "source": [
    "Operación sobre arreglos"
   ]
  },
  {
   "cell_type": "code",
   "execution_count": 33,
   "id": "d9555630-6d79-41fa-a219-f776af1e634b",
   "metadata": {},
   "outputs": [
    {
     "name": "stdout",
     "output_type": "stream",
     "text": [
      "x     = [0 1 2 3]\n",
      "x + 5 = [5 6 7 8]\n",
      "x - 5 = [-5 -4 -3 -2]\n",
      "x * 2 = [0 2 4 6]\n",
      "x / 2 = [0.  0.5 1.  1.5]\n",
      "x // 2 = [0 0 1 1]\n",
      "-x     =  [ 0 -1 -2 -3]\n",
      "x ** 2 =  [0 1 4 9]\n",
      "x % 2  =  [0 1 0 1]\n"
     ]
    }
   ],
   "source": [
    "x = np.arange(4)\n",
    "print(\"x     =\", x)\n",
    "print(\"x + 5 =\", x + 5)\n",
    "print(\"x - 5 =\", x - 5)\n",
    "print(\"x * 2 =\", x * 2)\n",
    "print(\"x / 2 =\", x / 2)\n",
    "print(\"x // 2 =\", x // 2)\n",
    "print(\"-x     = \", -x)\n",
    "print(\"x ** 2 = \", x ** 2)\n",
    "print(\"x % 2  = \", x % 2)"
   ]
  },
  {
   "cell_type": "markdown",
   "id": "00f8c5a5-febf-4608-ac7e-18b65d8694be",
   "metadata": {},
   "source": [
    "Tabla con operaciones en NumPy:\n",
    "\n",
    "| Operator\t    | Equivalent ufunc    | Description                           |\n",
    "|---------------|---------------------|---------------------------------------|\n",
    "|``+``          |``np.add``           |Addition (e.g., ``1 + 1 = 2``)         |\n",
    "|``-``          |``np.subtract``      |Subtraction (e.g., ``3 - 2 = 1``)      |\n",
    "|``-``          |``np.negative``      |Unary negation (e.g., ``-2``)          |\n",
    "|``*``          |``np.multiply``      |Multiplication (e.g., ``2 * 3 = 6``)   |\n",
    "|``/``          |``np.divide``        |Division (e.g., ``3 / 2 = 1.5``)       |\n",
    "|``//``         |``np.floor_divide``  |Floor division (e.g., ``3 // 2 = 1``)  |\n",
    "|``**``         |``np.power``         |Exponentiation (e.g., ``2 ** 3 = 8``)  |\n",
    "|``%``          |``np.mod``           |Modulus/remainder (e.g., ``9 % 4 = 1``)|\n"
   ]
  },
  {
   "cell_type": "markdown",
   "id": "b5e5a497-af6b-4d6d-aab7-045dc3ea969b",
   "metadata": {},
   "source": [
    "Operaciones vectorizadas en numpy"
   ]
  },
  {
   "cell_type": "code",
   "execution_count": 2,
   "id": "694aba8f-b94d-475b-bd29-62139235b8c8",
   "metadata": {},
   "outputs": [
    {
     "data": {
      "text/plain": [
       "46.65764910191806"
      ]
     },
     "execution_count": 2,
     "metadata": {},
     "output_type": "execute_result"
    }
   ],
   "source": [
    "L = np.random.random(100)\n",
    "sum(L)"
   ]
  },
  {
   "cell_type": "code",
   "execution_count": 3,
   "id": "c6418bc4-ee27-421f-8e69-8ec2ebef990e",
   "metadata": {},
   "outputs": [
    {
     "data": {
      "text/plain": [
       "46.657649101918075"
      ]
     },
     "execution_count": 3,
     "metadata": {},
     "output_type": "execute_result"
    }
   ],
   "source": [
    "np.sum(L)"
   ]
  },
  {
   "cell_type": "code",
   "execution_count": 4,
   "id": "d9f1f465-0972-4257-a9c5-fc2fb7a54f23",
   "metadata": {},
   "outputs": [
    {
     "name": "stdout",
     "output_type": "stream",
     "text": [
      "70 ms ± 4.63 ms per loop (mean ± std. dev. of 7 runs, 10 loops each)\n",
      "354 µs ± 50.5 µs per loop (mean ± std. dev. of 7 runs, 1000 loops each)\n"
     ]
    }
   ],
   "source": [
    "big_array = np.random.rand(1000000)\n",
    "%timeit sum(big_array)\n",
    "%timeit np.sum(big_array)"
   ]
  },
  {
   "cell_type": "code",
   "execution_count": 5,
   "id": "3d0feb4c-ca0b-4ff3-854b-f4db70119a49",
   "metadata": {},
   "outputs": [
    {
     "data": {
      "text/plain": [
       "(5.716671674926843e-07, 0.9999987181807357)"
      ]
     },
     "execution_count": 5,
     "metadata": {},
     "output_type": "execute_result"
    }
   ],
   "source": [
    "min(big_array), max(big_array)"
   ]
  },
  {
   "cell_type": "code",
   "execution_count": 6,
   "id": "7c820581-f7b8-4b39-be38-c4f0224536da",
   "metadata": {},
   "outputs": [
    {
     "data": {
      "text/plain": [
       "(5.716671674926843e-07, 0.9999987181807357)"
      ]
     },
     "execution_count": 6,
     "metadata": {},
     "output_type": "execute_result"
    }
   ],
   "source": [
    "np.min(big_array), np.max(big_array)"
   ]
  },
  {
   "cell_type": "code",
   "execution_count": 7,
   "id": "94218320-f90b-47a8-bb0c-d06037830ab7",
   "metadata": {},
   "outputs": [
    {
     "name": "stdout",
     "output_type": "stream",
     "text": [
      "50.3 ms ± 1.55 ms per loop (mean ± std. dev. of 7 runs, 10 loops each)\n",
      "352 µs ± 25.7 µs per loop (mean ± std. dev. of 7 runs, 1000 loops each)\n"
     ]
    }
   ],
   "source": [
    "%timeit min(big_array)\n",
    "%timeit np.min(big_array)"
   ]
  },
  {
   "cell_type": "markdown",
   "id": "46c5a4c6-8b96-4e82-aa95-0d4e746a570f",
   "metadata": {},
   "source": [
    "Operaciones en arreglos multidimensionales"
   ]
  },
  {
   "cell_type": "code",
   "execution_count": 8,
   "id": "a911d672-042a-462e-a7fa-e0cb2c09663a",
   "metadata": {},
   "outputs": [
    {
     "name": "stdout",
     "output_type": "stream",
     "text": [
      "[[0.73931068 0.32748825 0.87924823 0.44992393]\n",
      " [0.88617205 0.58196584 0.63277348 0.87478877]\n",
      " [0.94832619 0.02296271 0.88287267 0.02911108]]\n"
     ]
    }
   ],
   "source": [
    "M = np.random.random((3, 4))\n",
    "print(M)"
   ]
  },
  {
   "cell_type": "code",
   "execution_count": 10,
   "id": "2d6d84b5-be21-42b5-8b24-8890060a71ff",
   "metadata": {},
   "outputs": [
    {
     "data": {
      "text/plain": [
       "(7.254943873826676,\n",
       " array([0.73931068, 0.02296271, 0.63277348, 0.02911108]),\n",
       " array([0.87924823, 0.88617205, 0.94832619]))"
      ]
     },
     "execution_count": 10,
     "metadata": {},
     "output_type": "execute_result"
    }
   ],
   "source": [
    "M.sum(), M.min(axis=0), M.max(axis=1)"
   ]
  },
  {
   "cell_type": "markdown",
   "id": "394ebcfa-fc8c-4635-88f3-d85290f41353",
   "metadata": {},
   "source": [
    "Tabla con otras operaciones\n",
    "\n",
    "Function Name  Version\tDescription\n",
    "\n",
    "np.sum\tnp.nansum\tCompute sum of elements\n",
    "\n",
    "np.prod\tnp.nanprod\tCompute product of elements\n",
    "\n",
    "np.mean\tnp.nanmean\tCompute mean of elements\n",
    "\n",
    "np.std\tnp.nanstd\tCompute standard deviation\n",
    "\n",
    "np.var\tnp.nanvar\tCompute variance\n",
    "\n",
    "np.min\tnp.nanmin\tFind minimum value\n",
    "\n",
    "np.max\tnp.nanmax\tFind maximum value\n",
    "\n",
    "np.argmin\tnp.nanargmin\tFind index of minimum value\n",
    "\n",
    "np.argmax\tnp.nanargmax\tFind index of maximum value\n",
    "\n",
    "np.median\tnp.nanmedian\tCompute median of elements\n",
    "\n",
    "np.percentile\tnp.nanpercentile\tCompute rank-based statistics of elements\n",
    "\n",
    "np.any\tN/A\tEvaluate whether any elements are true\n",
    "\n",
    "np.all\tN/A\tEvaluate whether all elements are true"
   ]
  },
  {
   "cell_type": "code",
   "execution_count": 13,
   "id": "e8ea467b-a9c5-4e79-9a6d-5b6b6fd021ef",
   "metadata": {},
   "outputs": [
    {
     "name": "stdout",
     "output_type": "stream",
     "text": [
      "order,name,height(cm)\n",
      "1,George Washington,189\n",
      "2,John Adams,170\n",
      "3,Thomas Jefferson,189\n",
      "4,James Madison,163\n",
      "5,James Monroe,183\n",
      "6,John Quincy Adams,171\n",
      "7,Andrew Jackson,185\n",
      "8,Martin Van Buren,168\n",
      "9,William Henry Harrison,173\n"
     ]
    }
   ],
   "source": [
    "!head ../data/president_heights.csv"
   ]
  },
  {
   "cell_type": "code",
   "execution_count": 9,
   "id": "d95a4a7b-64fc-41ca-bdc9-a1f4b7e18bed",
   "metadata": {},
   "outputs": [
    {
     "name": "stdout",
     "output_type": "stream",
     "text": [
      "[189 170 189 163 183 171 185 168 173 183 173 173 175 178 183 193 178 173\n",
      " 174 183 183 168 170 178 182 180 183 178 182 188 175 179 183 193 182 183\n",
      " 177 185 188 188 182 185]\n"
     ]
    }
   ],
   "source": [
    "import pandas as pd\n",
    "data = pd.read_csv('../data/president_heights.csv')\n",
    "heights = np.array(data['height(cm)'])\n",
    "print(heights)"
   ]
  },
  {
   "cell_type": "code",
   "execution_count": 10,
   "id": "51720f93-419e-42cc-bc09-4590b1cb7ef8",
   "metadata": {},
   "outputs": [
    {
     "name": "stdout",
     "output_type": "stream",
     "text": [
      "Promedio alturas:        179.73809523809524\n",
      "Desviación estándar: 6.931843442745892\n",
      "Mínimo de altras:     163\n",
      "Máximo alturas:     193\n"
     ]
    }
   ],
   "source": [
    "print(\"Promedio alturas:       \", heights.mean())\n",
    "print(\"Desviación estándar:\", heights.std())\n",
    "print(\"Mínimo de altras:    \", heights.min())\n",
    "print(\"Máximo alturas:    \", heights.max())"
   ]
  },
  {
   "cell_type": "code",
   "execution_count": 11,
   "id": "0b087127-aa26-4d93-9ab1-535e17da300b",
   "metadata": {},
   "outputs": [
    {
     "name": "stdout",
     "output_type": "stream",
     "text": [
      "Percentil 25:    174.25\n",
      "Promedio:             182.0\n",
      "Percentil 75:    183.0\n"
     ]
    }
   ],
   "source": [
    "print(\"Percentil 25:   \", np.percentile(heights, 25))\n",
    "print(\"Promedio:            \", np.median(heights))\n",
    "print(\"Percentil 75:   \", np.percentile(heights, 75))"
   ]
  },
  {
   "cell_type": "code",
   "execution_count": 12,
   "id": "886ecb77-2304-46b7-be33-860632ea2a28",
   "metadata": {},
   "outputs": [],
   "source": [
    "%matplotlib inline\n",
    "import matplotlib.pyplot as plt\n",
    "import seaborn; seaborn.set()  # set plot style"
   ]
  },
  {
   "cell_type": "code",
   "execution_count": 13,
   "id": "1a5ebccb-81df-44bb-8f43-ceb91a965902",
   "metadata": {},
   "outputs": [
    {
     "data": {
      "image/png": "[encoded data removed]",
      "text/plain": [
       "<Figure size 432x288 with 1 Axes>"
      ]
     },
     "metadata": {},
     "output_type": "display_data"
    }
   ],
   "source": [
    "plt.hist(heights)\n",
    "plt.title('Distribución de alturas de presidentes de estados unidos')\n",
    "plt.xlabel('Altura (cm)')\n",
    "plt.ylabel('Número');"
   ]
  },
  {
   "cell_type": "markdown",
   "id": "2dfbddef-c7ce-4e86-ac3f-bc19853dd428",
   "metadata": {},
   "source": [
    "Ejemplo valores booleanos"
   ]
  },
  {
   "cell_type": "code",
   "execution_count": 14,
   "id": "f83d10cb-a5c6-439e-89a1-da5fa9b5b71c",
   "metadata": {},
   "outputs": [
    {
     "data": {
      "text/plain": [
       "(365,)"
      ]
     },
     "execution_count": 14,
     "metadata": {},
     "output_type": "execute_result"
    }
   ],
   "source": [
    "# use pandas to extract rainfall inches as a NumPy array\n",
    "rainfall = pd.read_csv('../data/Seattle2014.csv')['PRCP'].values\n",
    "inches = rainfall / 254.0  # 1/10mm -> inches\n",
    "inches.shape"
   ]
  },
  {
   "cell_type": "code",
   "execution_count": 15,
   "id": "fcf794f8-8279-41ee-aa76-7f12a14e2485",
   "metadata": {},
   "outputs": [
    {
     "data": {
      "image/png": "[encoded data removed]",
      "text/plain": [
       "<Figure size 432x288 with 1 Axes>"
      ]
     },
     "metadata": {},
     "output_type": "display_data"
    }
   ],
   "source": [
    "plt.hist(inches, 40);"
   ]
  },
  {
   "cell_type": "code",
   "execution_count": 18,
   "id": "c1f0b805-125a-4825-adf7-c376cc30e41b",
   "metadata": {},
   "outputs": [
    {
     "data": {
      "text/plain": [
       "(array([ True,  True, False, False, False]),\n",
       " array([False, False,  True,  True,  True]),\n",
       " array([ True,  True, False,  True,  True]),\n",
       " array([False, False,  True, False, False]),\n",
       " array([False,  True, False, False, False]))"
      ]
     },
     "execution_count": 18,
     "metadata": {},
     "output_type": "execute_result"
    }
   ],
   "source": [
    "x = np.array([1, 2, 3, 4, 5])\n",
    "x < 3, x >= 3, x != 3, x == 3, (2 * x) == (x ** 2) "
   ]
  },
  {
   "cell_type": "code",
   "execution_count": 19,
   "id": "30d320f5-0a5d-4ab3-b9ca-c725e1e9745b",
   "metadata": {},
   "outputs": [
    {
     "data": {
      "text/plain": [
       "5"
      ]
     },
     "execution_count": 19,
     "metadata": {},
     "output_type": "execute_result"
    }
   ],
   "source": [
    "np.count_nonzero(x < 6)"
   ]
  },
  {
   "cell_type": "markdown",
   "id": "74d791a2-f101-4863-ad87-0bf09bf9c9a4",
   "metadata": {},
   "source": [
    "Trabajando con valores booleanos y pandas\n"
   ]
  },
  {
   "cell_type": "code",
   "execution_count": 20,
   "id": "af481855-9292-4a16-a42e-6112f5f4a95b",
   "metadata": {},
   "outputs": [
    {
     "data": {
      "text/plain": [
       "(29, 29)"
      ]
     },
     "execution_count": 20,
     "metadata": {},
     "output_type": "execute_result"
    }
   ],
   "source": [
    "np.sum((inches > 0.5) & (inches < 1)), np.sum(~( (inches <= 0.5) | (inches >= 1) ))"
   ]
  },
  {
   "cell_type": "markdown",
   "id": "efd43a29-7f13-4d5e-84bc-632ef91f5d68",
   "metadata": {},
   "source": [
    "Filtrando valores"
   ]
  },
  {
   "cell_type": "code",
   "execution_count": 22,
   "id": "f5bcf302-aabd-4d2b-9f7e-05655ed01429",
   "metadata": {},
   "outputs": [
    {
     "data": {
      "text/plain": [
       "array([1, 2, 3, 4])"
      ]
     },
     "execution_count": 22,
     "metadata": {},
     "output_type": "execute_result"
    }
   ],
   "source": [
    "x[x < 5]"
   ]
  },
  {
   "cell_type": "code",
   "execution_count": 23,
   "id": "3007833c-718d-4d59-97e0-47eeb8681830",
   "metadata": {},
   "outputs": [
    {
     "name": "stdout",
     "output_type": "stream",
     "text": [
      "Promedio de precipitación en días lluviosos 2014:    0.19488188976377951\n",
      "Promedio de precipitación en días de verano 2014:   0.0\n",
      "Máxima precipitación en días de verano 2014:  0.8503937007874016\n",
      "Promedio de precipitación en días que no son de verano 2014: 0.20078740157480315\n"
     ]
    }
   ],
   "source": [
    "rainy = (inches > 0)\n",
    "\n",
    "# Filtrar valores Junio 21 aSeptiembre 21\n",
    "days = np.arange(365)\n",
    "summer = (days > 172) & (days < 262)\n",
    "\n",
    "print(\"Promedio de precipitación en días lluviosos 2014:   \",\n",
    "      np.median(inches[rainy]))\n",
    "print(\"Promedio de precipitación en días de verano 2014:  \",\n",
    "      np.median(inches[summer]))\n",
    "print(\"Máxima precipitación en días de verano 2014: \",\n",
    "      np.max(inches[summer]))\n",
    "print(\"Promedio de precipitación en días que no son de verano 2014:\",\n",
    "      np.median(inches[rainy & ~summer]))"
   ]
  },
  {
   "cell_type": "code",
   "execution_count": null,
   "id": "0408da47-6e45-431c-a8fe-d3ee40642613",
   "metadata": {},
   "outputs": [],
   "source": [
    "### Explorando la indexación elegante\n",
    "\n",
    "La indexación elegante es conceptualmente simple: significa pasar un arreglo de índices para acceder a varios \n",
    "elementos de la matriz a la vez. Por ejemplo, considere la siguiente matriz:"
   ]
  }
 ],
 "metadata": {
  "kernelspec": {
   "display_name": "Python 3",
   "language": "python",
   "name": "python3"
  },
  "language_info": {
   "codemirror_mode": {
    "name": "ipython",
    "version": 3
   },
   "file_extension": ".py",
   "mimetype": "text/x-python",
   "name": "python",
   "nbconvert_exporter": "python",
   "pygments_lexer": "ipython3",
   "version": "3.8.2"
  }
 },
 "nbformat": 4,
 "nbformat_minor": 5
}
