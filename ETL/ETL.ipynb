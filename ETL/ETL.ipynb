{
 "cells": [
  {
   "cell_type": "markdown",
   "id": "ed53676a-8111-467e-ad6e-b4200244b106",
   "metadata": {},
   "source": [
    "\n",
    "<a href=\"https://colab.research.google.com/drive/1E6EBkVrgkr8iWlUB958b_VUyTnK9YdpA\" target=\"_parent\"><img src=\"https://colab.research.google.com/assets/colab-badge.svg\" alt=\"Open In Colab\"/></a>\n"
   ]
  },
  {
   "cell_type": "markdown",
   "id": "a66e35f9-e9f8-456d-bea3-6f1d9d341b26",
   "metadata": {},
   "source": [
    "### Árboles binarios"
   ]
  },
  {
   "cell_type": "code",
   "execution_count": 7,
   "id": "00b3d59a-086f-4ed2-827d-f021155899de",
   "metadata": {},
   "outputs": [
    {
     "name": "stdout",
     "output_type": "stream",
     "text": [
      "WARNING: pip is being invoked by an old script wrapper. This will fail in a future version of pip.\n",
      "Please see https://github.com/pypa/pip/issues/5599 for advice on fixing the underlying issue.\n",
      "To avoid this problem you can invoke Python with '-m pip' instead of running pip directly.\n",
      "/home/gibran/.local/lib/python3.8/site-packages/secretstorage/dhcrypto.py:16: CryptographyDeprecationWarning: int_from_bytes is deprecated, use int.from_bytes instead\n",
      "  from cryptography.utils import int_from_bytes\n",
      "/home/gibran/.local/lib/python3.8/site-packages/secretstorage/util.py:25: CryptographyDeprecationWarning: int_from_bytes is deprecated, use int.from_bytes instead\n",
      "  from cryptography.utils import int_from_bytes\n",
      "Collecting binarytree\n",
      "  Downloading binarytree-6.5.1-py3-none-any.whl (18 kB)\n",
      "Requirement already satisfied: graphviz in /home/gibran/.pyenv/versions/3.8.2/lib/python3.8/site-packages (from binarytree) (0.19.1)\n",
      "Collecting setuptools-scm[toml]>=5.0.1\n",
      "  Downloading setuptools_scm-6.4.2-py3-none-any.whl (37 kB)\n",
      "Requirement already satisfied: packaging>=20.0 in /home/gibran/.local/lib/python3.8/site-packages (from setuptools-scm[toml]>=5.0.1->binarytree) (20.4)\n",
      "Requirement already satisfied: tomli>=1.0.0 in /home/gibran/.pyenv/versions/3.8.2/lib/python3.8/site-packages (from setuptools-scm[toml]>=5.0.1->binarytree) (1.2.3)\n",
      "Requirement already satisfied: pyparsing>=2.0.2 in /home/gibran/.pyenv/versions/3.8.2/lib/python3.8/site-packages (from packaging>=20.0->setuptools-scm[toml]>=5.0.1->binarytree) (2.1.10)\n",
      "Requirement already satisfied: six in /home/gibran/.pyenv/versions/3.8.2/lib/python3.8/site-packages (from packaging>=20.0->setuptools-scm[toml]>=5.0.1->binarytree) (1.16.0)\n",
      "Collecting setuptools>=60.8.2\n",
      "  Using cached setuptools-62.1.0-py3-none-any.whl (1.1 MB)\n",
      "Installing collected packages: setuptools, setuptools-scm, binarytree\n",
      "  Attempting uninstall: setuptools\n",
      "    Found existing installation: setuptools 41.2.0\n",
      "    Uninstalling setuptools-41.2.0:\n",
      "      Successfully uninstalled setuptools-41.2.0\n",
      "Successfully installed binarytree-6.5.1 setuptools-62.1.0 setuptools-scm-6.4.2\n",
      "\u001b[33mWARNING: You are using pip version 20.3.3; however, version 22.0.4 is available.\n",
      "You should consider upgrading via the '/home/gibran/.pyenv/versions/3.8.2/bin/python3.8 -m pip install --upgrade pip' command.\u001b[0m\n"
     ]
    }
   ],
   "source": [
    "!pip install binarytree"
   ]
  },
  {
   "cell_type": "code",
   "execution_count": 15,
   "id": "db367710-8d3a-4a18-8263-b672c29838b6",
   "metadata": {},
   "outputs": [],
   "source": [
    "from binarytree import Node\n",
    "from binarytree import build\n",
    "import numpy as np"
   ]
  },
  {
   "cell_type": "code",
   "execution_count": 9,
   "id": "1841b8a7-a023-46bb-8fa0-853c61b93a44",
   "metadata": {},
   "outputs": [
    {
     "name": "stdout",
     "output_type": "stream",
     "text": [
      "Binary tree : \n",
      "  3\n",
      " / \\\n",
      "6   8\n",
      "\n",
      "List of nodes : [Node(3), Node(6), Node(8)]\n",
      "Inorder of nodes : [Node(6), Node(3), Node(8)]\n",
      "Size of tree : 3\n",
      "Height of tree : 1\n",
      "Properties of tree : \n",
      " {'height': 1, 'size': 3, 'is_max_heap': False, 'is_min_heap': True, 'is_perfect': True, 'is_strict': True, 'is_complete': True, 'leaf_count': 2, 'min_node_value': 3, 'max_node_value': 8, 'min_leaf_depth': 1, 'max_leaf_depth': 1, 'is_balanced': True, 'is_bst': False, 'is_symmetric': False}\n"
     ]
    }
   ],
   "source": [
    "root = Node(3)\n",
    "root.left = Node(6)\n",
    "root.right = Node(8)\n",
    " \n",
    "# árbol binario\n",
    "print('Árbol binario :', root)\n",
    " \n",
    "# Lista de nodos\n",
    "print('Lista de nodos :', list(root))\n",
    " \n",
    "# recorrido inorder de nodos \n",
    "print('Inorder de nodos :', root.inorder)\n",
    " \n",
    "# Propiedades de árboles\n",
    "print('tamano de árbol :', root.size)\n",
    "print('Altura de árbol :', root.height)\n",
    " \n",
    "# Obten todas las propiedades\n",
    "print('Propiedades del árbol : \\n', root.properties)"
   ]
  },
  {
   "cell_type": "code",
   "execution_count": 13,
   "id": "5f8cb646-7225-4f16-9b16-64606c38afae",
   "metadata": {},
   "outputs": [
    {
     "name": "stdout",
     "output_type": "stream",
     "text": [
      "Lista del árbolo binario :\n",
      " \n",
      "    ___3\n",
      "   /    \\\n",
      "  6      8\n",
      " / \\      \\\n",
      "2   11     13\n",
      "\n",
      "\n",
      "Lista del árbol binario : [3, 6, 8, 2, 11, None, 13]\n"
     ]
    }
   ],
   "source": [
    "nodes =[3, 6, 8, 2, 11, None, 13]\n",
    " \n",
    "binary_tree = build(nodes)\n",
    "print('Lista del árbolo binario :\\n',\n",
    "      binary_tree)\n",
    " \n",
    "print('\\nLista del árbol binario :',\n",
    "      binary_tree.values)"
   ]
  },
  {
   "cell_type": "markdown",
   "id": "b62b40c6-cabf-4eb8-908c-960b21a782f4",
   "metadata": {},
   "source": [
    "### Expresiones regulares\n",
    "1. Símbolo de escape:\n",
    "    \\\n",
    " 2. Agrupación o captura:\n",
    "    (...) (?:...) (?=...) (?!...) (?<=...) (?<!...)\n",
    " 3. Cantidad (cuantificadores)\n",
    "    a* a+ a? a{n, m}\n",
    " 4. Secuencia y ancla\n",
    "    abc ^ $ \\b \\B\n",
    " 5. O (alternancia)\n",
    "    a|b|c\n",
    " 6. Átomos\n",
    "    a [^abc] \\t \\r \\n \\d \\D \\s \\S \\w \\W .\n",
    "\n"
   ]
  },
  {
   "cell_type": "markdown",
   "id": "38756171-2690-4ac5-a387-1242044ae078",
   "metadata": {},
   "source": [
    "\\ d Cualquier número; equivalente a [0-9]\n",
    "\n",
    " \\ D Cualquier que no sea un dígito; equivalente a [^ 0-9]\n",
    " \n",
    " \\ w Cualquier carácter literal; equivalente a [a-zA-Z0-9_]\n",
    " \n",
    " \\ W Cualquier carácter no literal; equivalente a [^ a-zA-Z0-9_]\n",
    " \n",
    " \\ s Cualquier espacio en blanco; equivalente a [\\ f \\ n \\ r \\ t \\ v] (tenga en cuenta que el primer carácter entre corchetes es un símbolo de espacio)\n",
    " \n",
    " \\ S Cualquier que no esté en blanco; equivalente a [^ \\ f \\ n \\ r \\ t \\ v] (tenga en cuenta que inmediatamente después de ^ hay un símbolo de espacio)\n",
    " \n",
    " . Cualquier carácter excepto \\ r \\ n; equivalente a [^ \\ r \\ n]\n"
   ]
  },
  {
   "cell_type": "code",
   "execution_count": 1,
   "id": "56d2ba79-35b3-4b63-9caa-b737d64cdbe1",
   "metadata": {},
   "outputs": [
    {
     "name": "stdout",
     "output_type": "stream",
     "text": [
      "['542-4256', '270-9664']\n"
     ]
    },
    {
     "data": {
      "text/plain": [
       "['542-4256', '270-9664']"
      ]
     },
     "execution_count": 1,
     "metadata": {},
     "output_type": "execute_result"
    }
   ],
   "source": [
    "import re\n",
    "\n",
    "str = '<dl>(843) 542-4256</dl> <dl>(431) 270-9664</dl>'\n",
    " # Busque todos los caracteres en el formato \"número-número\" en la cadena, donde el primer número es de tres dígitos y el segundo número es de cuatro dígitos\n",
    "pttn = r'\\d\\d\\d\\-\\d\\d\\d\\d'\n",
    "print(re.findall(pttn, str))"
   ]
  },
  {
   "cell_type": "code",
   "execution_count": 3,
   "id": "f36cd053-5a76-4ea6-b133-8855cccfe4aa",
   "metadata": {},
   "outputs": [
    {
     "name": "stdout",
     "output_type": "stream",
     "text": [
      "['er', 'er', 'er']\n",
      "['er', 'er']\n"
     ]
    }
   ],
   "source": [
    "str = 'never ever verb however everest'\n",
    "pttn = r'er\\b'\n",
    "print(re.findall(pttn, str))\n",
    "pttn = r'er\\B'\n",
    "print(re.findall(pttn, str))\n"
   ]
  },
  {
   "cell_type": "markdown",
   "id": "188b7cbb-e30c-405c-87f1-d58693e5f0d5",
   "metadata": {},
   "source": [
    "^ Coincide con la posición inicial de la cadena buscada;\n",
    "\n",
    " $ Coincide con la posición final de la cadena buscada;\n",
    "    \n",
    " \\ b coincide con el límite de una palabra; er \\ b puede coincidir con er en el codificador, pero no puede coincidir con er por error;\n",
    "\n",
    " \\ B coincide con un límite sin palabras; er \\ B puede coincidir con er por error, pero no en el codificador.\n"
   ]
  },
  {
   "cell_type": "markdown",
   "id": "206f5e16-577f-4aba-9ba8-9f5c2c102bcc",
   "metadata": {},
   "source": [
    "+ Significa que el átomo anterior debe aparecer al menos una vez, es decir: número de apariciones ≧ 1\n",
    " ? Indica que el átomo anterior solo puede aparecer una vez como máximo, es decir: 0 ≦ número de ocurrencias ≦ 1\n",
    " * Representa que el átomo anterior puede no aparecer, o aparecer una o más veces, es decir: número de apariciones ≧ 0\n",
    " {n} representa n veces que aparece el átomo anterior;\n",
    " {n,} significa que el átomo anterior aparece al menos n veces;\n",
    " {n, m} significa que el átomo anterior aparece al menos n veces y como máximo m veces"
   ]
  },
  {
   "cell_type": "code",
   "execution_count": 1,
   "id": "c191fa9d-7a13-41e0-8796-72bf1b38a035",
   "metadata": {},
   "outputs": [
    {
     "name": "stdout",
     "output_type": "stream",
     "text": [
      "['er', 'er', 'er']\n",
      "['er', 'er']\n"
     ]
    }
   ],
   "source": [
    "import re\n",
    "\n",
    "str = 'never ever verb however everest'\n",
    "pttn = r'er\\b'\n",
    "print(re.findall(pttn, str))\n",
    "pttn = r'er\\B'\n",
    "print(re.findall(pttn, str))\n"
   ]
  },
  {
   "cell_type": "code",
   "execution_count": 4,
   "id": "fccbd343-e6fe-4c07-8376-f6da31239b54",
   "metadata": {},
   "outputs": [
    {
     "name": "stdout",
     "output_type": "stream",
     "text": [
      "['google']\n",
      "[]\n",
      "[]\n",
      "['google']\n",
      "[]\n",
      "['gooogle']\n",
      "[]\n",
      "[]\n",
      "['gooogle']\n",
      "[]\n",
      "['goooogle']\n",
      "[]\n",
      "[]\n",
      "['goooogle']\n",
      "[]\n",
      "['goooooogle']\n",
      "[]\n",
      "[]\n",
      "[]\n",
      "[]\n"
     ]
    }
   ],
   "source": [
    "# Match string\n",
    "str = ['google', 'gooogle', 'goooogle', 'goooooogle']\n",
    "\n",
    " # Atraviesa la cuerda\n",
    "for str_per in str:\n",
    "         # o aparece al menos una vez \n",
    "    pttn = r'go+gle'\n",
    "    print(re.findall(pttn, str_per))\n",
    "    \n",
    "         # o aparece como máximo una vez \n",
    "    pttn = r'go?gle'\n",
    "    print(re.findall(pttn, str_per))\n",
    "\n",
    "         # oNúmero de ocurrencias ≧ 0\n",
    "    pttn = r'go?gle'\n",
    "    print(re.findall(pttn, str_per))\n",
    "    \n",
    "         # o aparece al menos 2 veces y como máximo 5 veces\n",
    "    pttn = r'go{2,5}gle'\n",
    "    print(re.findall(pttn, str_per))\n",
    "    \n",
    "         # Advance: combinación simultánea de átomos\n",
    "         # go o aparece al menos una vez\n",
    "    pttn = r'[go]+gle'\n",
    "    \n",
    "         # go aparece al menos una vez\n",
    "    pttn = r'(go)+gle'\n",
    "    print(re.findall(pttn, str_per))"
   ]
  },
  {
   "cell_type": "markdown",
   "id": "da85d27b-55ca-4fc7-b6b9-fe66cf801cbb",
   "metadata": {},
   "source": [
    "1. Entendimiento del negocio: Determinar los objetivos del negocio, cuáles son sus necesidades y lo que se desea abarcar.\n",
    "\n",
    "2. Entendimiento de los datos: De acuerdo a la fase anterior, con que datos cuento, que datos son útiles y cuáles necesito.\n",
    "\n",
    "3. Preparación de datos: En esta fase se exploran los datos, se manipulan y se limpian, se hace la unión entre lo que quiere/necesita el negocio con los datos con los que cuenta la organización\n",
    "\n",
    "4. Modelamiento: Teniendo en cuenta los puntos anteriores se realiza el análisis y se obtienen resultados.\n",
    "\n",
    "5. Evaluación: Una vez se obtienen los resultados se evalúa el modelo teniendo en cuenta el objetivo del análisis\n",
    "\n",
    "6. Despliegue: Una vez validado el modelo se realiza la implementación en producción, así como monitoreo y mantenimiento."
   ]
  },
  {
   "cell_type": "markdown",
   "id": "af90622e-0424-48b6-95a7-84c65e8f48d2",
   "metadata": {},
   "source": [
    "![python-ecosystem](https://miro.medium.com/max/1400/0*qc2yUKqzRGIfpICx.png)\n",
    "<div style=\"text-align: center\"> https://lauralpezb.medium.com/</div>"
   ]
  },
  {
   "cell_type": "markdown",
   "id": "1c70c0f7-bedf-4d82-83d4-7ca579c00e2a",
   "metadata": {},
   "source": [
    "### Los fundamentos de las matrices NumPy"
   ]
  },
  {
   "cell_type": "markdown",
   "id": "b2422270-1aa7-46d7-8cf8-3d1c40372325",
   "metadata": {},
   "source": [
    "La manipulación de datos en Python es casi sinónimo de la manipulación de matrices NumPy: incluso las herramientas más nuevas, como Pandas (Capítulo 3), se construyen alrededor de la matriz NumPy. Esta sección presentará varios ejemplos del uso de la manipulación de arreglos NumPy para acceder a datos y subarreglos, y para dividir, remodelar y unir los arreglos. Si bien los tipos de operaciones que se muestran aquí pueden parecer un poco áridos y pedantes, comprenden los componentes básicos de muchos otros ejemplos que se usan a lo largo del libro. ¡Conócelos bien!\n",
    "\n",
    "Cubriremos algunas categorías de manipulaciones básicas de matrices aquí:\n",
    "\n",
    "Atributos de los arreglos: determinación del tamaño, la forma, el consumo de memoria y los tipos de datos de los arreglos\n",
    "Indexación de arreglos: Obtener y establecer el valor de elementos de arreglo individuales\n",
    "Segmentación de arreglos: obtención y configuración de subarreglos más pequeños dentro de un arreglo más grande\n",
    "Remodelación de arreglos: Cambiar la forma de un arreglo dado\n",
    "Unión y división de arreglos: combinación de múltiples arreglos en uno y división de un arreglo en muchos"
   ]
  },
  {
   "cell_type": "code",
   "execution_count": 17,
   "id": "5bed6e55-1774-4cfa-b237-07e886b64976",
   "metadata": {},
   "outputs": [],
   "source": [
    "np.random.seed(0)\n",
    "\n",
    "x1 = np.random.randint(10, size=6)  # dim 1\n",
    "x2 = np.random.randint(10, size=(3, 4))  # dim 2\n",
    "x3 = np.random.randint(10, size=(3, 4, 5))  # dim 3"
   ]
  },
  {
   "cell_type": "code",
   "execution_count": 18,
   "id": "4a8958ec-a9f9-4744-bc55-a6a0ffd309ae",
   "metadata": {},
   "outputs": [
    {
     "data": {
      "text/plain": [
       "(array([5, 0, 3, 3, 7, 9]),\n",
       " array([[3, 5, 2, 4],\n",
       "        [7, 6, 8, 8],\n",
       "        [1, 6, 7, 7]]),\n",
       " array([[[8, 1, 5, 9, 8],\n",
       "         [9, 4, 3, 0, 3],\n",
       "         [5, 0, 2, 3, 8],\n",
       "         [1, 3, 3, 3, 7]],\n",
       " \n",
       "        [[0, 1, 9, 9, 0],\n",
       "         [4, 7, 3, 2, 7],\n",
       "         [2, 0, 0, 4, 5],\n",
       "         [5, 6, 8, 4, 1]],\n",
       " \n",
       "        [[4, 9, 8, 1, 1],\n",
       "         [7, 9, 9, 3, 6],\n",
       "         [7, 2, 0, 3, 5],\n",
       "         [9, 4, 4, 6, 4]]]))"
      ]
     },
     "execution_count": 18,
     "metadata": {},
     "output_type": "execute_result"
    }
   ],
   "source": [
    "x1, x2, x3"
   ]
  },
  {
   "cell_type": "code",
   "execution_count": 19,
   "id": "2a706d96-bcd0-4d56-987b-ed3147f1386e",
   "metadata": {},
   "outputs": [
    {
     "name": "stdout",
     "output_type": "stream",
     "text": [
      "x3 ndim:  3\n",
      "x3 shape: (3, 4, 5)\n",
      "x3 size:  60\n"
     ]
    }
   ],
   "source": [
    "print(\"x3 ndim: \", x3.ndim)\n",
    "print(\"x3 shape:\", x3.shape)\n",
    "print(\"x3 size: \", x3.size)"
   ]
  },
  {
   "cell_type": "code",
   "execution_count": 20,
   "id": "24968e5c-cf84-4c70-ad6e-41e114100911",
   "metadata": {},
   "outputs": [
    {
     "data": {
      "text/plain": [
       "(array([5, 0, 3, 3, 7, 9]), 5, 3)"
      ]
     },
     "execution_count": 20,
     "metadata": {},
     "output_type": "execute_result"
    }
   ],
   "source": [
    "x1, x1[0], x2[0, 0]"
   ]
  },
  {
   "cell_type": "code",
   "execution_count": 21,
   "id": "12459eb3-bfd2-4303-8e3d-7a331019b187",
   "metadata": {},
   "outputs": [],
   "source": [
    "x2[0, 0] = 12"
   ]
  },
  {
   "cell_type": "code",
   "execution_count": 23,
   "id": "e24415cc-d650-4263-89bc-c381f7d3e039",
   "metadata": {},
   "outputs": [
    {
     "data": {
      "text/plain": [
       "(array([5, 0, 3, 3, 7]), array([5, 3, 7]), array([0, 3, 9]))"
      ]
     },
     "execution_count": 23,
     "metadata": {},
     "output_type": "execute_result"
    }
   ],
   "source": [
    "#x[start:stop:step]\n",
    "\n",
    "x1[:5], x1[::2], x1[1::2]"
   ]
  },
  {
   "cell_type": "markdown",
   "id": "8cdd35f2-e9c3-472c-95a6-4881fea423e7",
   "metadata": {},
   "source": [
    "Crando copias "
   ]
  },
  {
   "cell_type": "code",
   "execution_count": 24,
   "id": "3423ae62-7597-446a-8203-8c3dae66174f",
   "metadata": {},
   "outputs": [
    {
     "name": "stdout",
     "output_type": "stream",
     "text": [
      "[[12  5]\n",
      " [ 7  6]]\n"
     ]
    }
   ],
   "source": [
    "x2_sub_copy = x2[:2, :2].copy()\n",
    "print(x2_sub_copy)"
   ]
  },
  {
   "cell_type": "code",
   "execution_count": 25,
   "id": "37950bfa-93aa-43c5-9f5b-e9b07cf95f3e",
   "metadata": {},
   "outputs": [
    {
     "name": "stdout",
     "output_type": "stream",
     "text": [
      "[[1 2 3]\n",
      " [4 5 6]\n",
      " [7 8 9]]\n"
     ]
    }
   ],
   "source": [
    "grid = np.arange(1, 10).reshape((3, 3))\n",
    "print(grid)"
   ]
  },
  {
   "cell_type": "markdown",
   "id": "ae623263-1613-4141-b687-452ca0147619",
   "metadata": {},
   "source": [
    "Concatenar y Dividir arreglos"
   ]
  },
  {
   "cell_type": "code",
   "execution_count": 27,
   "id": "ac5cc79b-b47c-401b-a943-4ad629be2daa",
   "metadata": {},
   "outputs": [
    {
     "data": {
      "text/plain": [
       "array([1, 2, 3, 3, 2, 1])"
      ]
     },
     "execution_count": 27,
     "metadata": {},
     "output_type": "execute_result"
    }
   ],
   "source": [
    "x = np.array([1, 2, 3])\n",
    "y = np.array([3, 2, 1])\n",
    "np.concatenate([x, y])"
   ]
  },
  {
   "cell_type": "code",
   "execution_count": 28,
   "id": "e6d64300-e3c0-4269-8e97-4f09b06ee959",
   "metadata": {},
   "outputs": [
    {
     "name": "stdout",
     "output_type": "stream",
     "text": [
      "[1 2 3] [99 99] [3 2 1]\n"
     ]
    }
   ],
   "source": [
    "x = [1, 2, 3, 99, 99, 3, 2, 1]\n",
    "x1, x2, x3 = np.split(x, [3, 5])\n",
    "print(x1, x2, x3)"
   ]
  },
  {
   "cell_type": "markdown",
   "id": "06860717-afc7-4e44-8011-13ef2963f475",
   "metadata": {},
   "source": [
    "### Cálculo en matrices NumPy: funciones universales"
   ]
  },
  {
   "cell_type": "markdown",
   "id": "f32689d6-afb8-4f93-a749-e45da50f8265",
   "metadata": {},
   "source": [
    "Hasta ahora, hemos discutido algunos de los aspectos básicos de NumPy; En las próximas secciones, profundizaremos en las razones por las que NumPy es tan importante en el mundo de la ciencia de datos de Python. Es decir, proporciona una interfaz fácil y flexible para el cálculo optimizado con matrices de datos.\n",
    "\n",
    "El cálculo en matrices NumPy puede ser muy rápido o muy lento. La clave para hacerlo rápido es usar operaciones vectorizadas, generalmente implementadas a través de las funciones universales de NumPy (ufuncs). Esta sección motiva la necesidad de los ufuncs de NumPy, que se pueden usar para hacer que los cálculos repetidos en los elementos de la matriz sean mucho más eficientes. Luego presenta muchos de los ufuncs aritméticos más comunes y útiles disponibles en el paquete NumPy."
   ]
  },
  {
   "cell_type": "markdown",
   "id": "a2af11da-d220-462d-b0ea-50fafb3e7c9e",
   "metadata": {},
   "source": [
    "La relativa lentitud de Python generalmente se manifiesta en situaciones en las que se repiten muchas operaciones pequeñas, por ejemplo, recorriendo matrices para operar en cada elemento. Por ejemplo, imagina que tenemos una matriz de valores y nos gustaría calcular el recíproco de cada uno. Un enfoque sencillo podría verse así:"
   ]
  },
  {
   "cell_type": "code",
   "execution_count": 29,
   "id": "945bc3ab-a5a6-42b3-98ee-08d7a3174a87",
   "metadata": {},
   "outputs": [
    {
     "data": {
      "text/plain": [
       "array([0.2       , 0.25      , 0.2       , 0.2       , 0.11111111])"
      ]
     },
     "execution_count": 29,
     "metadata": {},
     "output_type": "execute_result"
    }
   ],
   "source": [
    "def compute_reciprocals(values):\n",
    "    output = np.empty(len(values))\n",
    "    for i in range(len(values)):\n",
    "        output[i] = 1.0 / values[i]\n",
    "    return output\n",
    "        \n",
    "values = np.random.randint(1, 10, size=5)\n",
    "compute_reciprocals(values)"
   ]
  },
  {
   "cell_type": "markdown",
   "id": "1592b73a-2c21-4061-b601-0e304d720a89",
   "metadata": {},
   "source": [
    "Operación sobre arreglos"
   ]
  },
  {
   "cell_type": "code",
   "execution_count": 33,
   "id": "d9555630-6d79-41fa-a219-f776af1e634b",
   "metadata": {},
   "outputs": [
    {
     "name": "stdout",
     "output_type": "stream",
     "text": [
      "x     = [0 1 2 3]\n",
      "x + 5 = [5 6 7 8]\n",
      "x - 5 = [-5 -4 -3 -2]\n",
      "x * 2 = [0 2 4 6]\n",
      "x / 2 = [0.  0.5 1.  1.5]\n",
      "x // 2 = [0 0 1 1]\n",
      "-x     =  [ 0 -1 -2 -3]\n",
      "x ** 2 =  [0 1 4 9]\n",
      "x % 2  =  [0 1 0 1]\n"
     ]
    }
   ],
   "source": [
    "x = np.arange(4)\n",
    "print(\"x     =\", x)\n",
    "print(\"x + 5 =\", x + 5)\n",
    "print(\"x - 5 =\", x - 5)\n",
    "print(\"x * 2 =\", x * 2)\n",
    "print(\"x / 2 =\", x / 2)\n",
    "print(\"x // 2 =\", x // 2)\n",
    "print(\"-x     = \", -x)\n",
    "print(\"x ** 2 = \", x ** 2)\n",
    "print(\"x % 2  = \", x % 2)"
   ]
  },
  {
   "cell_type": "markdown",
   "id": "00f8c5a5-febf-4608-ac7e-18b65d8694be",
   "metadata": {},
   "source": [
    "Tabla con operaciones en NumPy:\n",
    "\n",
    "| Operator\t    | Equivalent ufunc    | Description                           |\n",
    "|---------------|---------------------|---------------------------------------|\n",
    "|``+``          |``np.add``           |Addition (e.g., ``1 + 1 = 2``)         |\n",
    "|``-``          |``np.subtract``      |Subtraction (e.g., ``3 - 2 = 1``)      |\n",
    "|``-``          |``np.negative``      |Unary negation (e.g., ``-2``)          |\n",
    "|``*``          |``np.multiply``      |Multiplication (e.g., ``2 * 3 = 6``)   |\n",
    "|``/``          |``np.divide``        |Division (e.g., ``3 / 2 = 1.5``)       |\n",
    "|``//``         |``np.floor_divide``  |Floor division (e.g., ``3 // 2 = 1``)  |\n",
    "|``**``         |``np.power``         |Exponentiation (e.g., ``2 ** 3 = 8``)  |\n",
    "|``%``          |``np.mod``           |Modulus/remainder (e.g., ``9 % 4 = 1``)|\n"
   ]
  },
  {
   "cell_type": "code",
   "execution_count": null,
   "id": "694aba8f-b94d-475b-bd29-62139235b8c8",
   "metadata": {},
   "outputs": [],
   "source": []
  }
 ],
 "metadata": {
  "kernelspec": {
   "display_name": "Python 3",
   "language": "python",
   "name": "python3"
  },
  "language_info": {
   "codemirror_mode": {
    "name": "ipython",
    "version": 3
   },
   "file_extension": ".py",
   "mimetype": "text/x-python",
   "name": "python",
   "nbconvert_exporter": "python",
   "pygments_lexer": "ipython3",
   "version": "3.8.2"
  }
 },
 "nbformat": 4,
 "nbformat_minor": 5
}
