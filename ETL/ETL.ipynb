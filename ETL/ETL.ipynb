{
 "cells": [
  {
   "cell_type": "markdown",
   "id": "ed53676a-8111-467e-ad6e-b4200244b106",
   "metadata": {},
   "source": [
    "\n",
    "<a href=\"https://colab.research.google.com/drive/1E6EBkVrgkr8iWlUB958b_VUyTnK9YdpA\" target=\"_parent\"><img src=\"https://colab.research.google.com/assets/colab-badge.svg\" alt=\"Open In Colab\"/></a>\n"
   ]
  },
  {
   "cell_type": "markdown",
   "id": "a66e35f9-e9f8-456d-bea3-6f1d9d341b26",
   "metadata": {},
   "source": [
    "### Árboles binarios"
   ]
  },
  {
   "cell_type": "code",
   "execution_count": 7,
   "id": "00b3d59a-086f-4ed2-827d-f021155899de",
   "metadata": {},
   "outputs": [
    {
     "name": "stdout",
     "output_type": "stream",
     "text": [
      "WARNING: pip is being invoked by an old script wrapper. This will fail in a future version of pip.\n",
      "Please see https://github.com/pypa/pip/issues/5599 for advice on fixing the underlying issue.\n",
      "To avoid this problem you can invoke Python with '-m pip' instead of running pip directly.\n",
      "/home/gibran/.local/lib/python3.8/site-packages/secretstorage/dhcrypto.py:16: CryptographyDeprecationWarning: int_from_bytes is deprecated, use int.from_bytes instead\n",
      "  from cryptography.utils import int_from_bytes\n",
      "/home/gibran/.local/lib/python3.8/site-packages/secretstorage/util.py:25: CryptographyDeprecationWarning: int_from_bytes is deprecated, use int.from_bytes instead\n",
      "  from cryptography.utils import int_from_bytes\n",
      "Collecting binarytree\n",
      "  Downloading binarytree-6.5.1-py3-none-any.whl (18 kB)\n",
      "Requirement already satisfied: graphviz in /home/gibran/.pyenv/versions/3.8.2/lib/python3.8/site-packages (from binarytree) (0.19.1)\n",
      "Collecting setuptools-scm[toml]>=5.0.1\n",
      "  Downloading setuptools_scm-6.4.2-py3-none-any.whl (37 kB)\n",
      "Requirement already satisfied: packaging>=20.0 in /home/gibran/.local/lib/python3.8/site-packages (from setuptools-scm[toml]>=5.0.1->binarytree) (20.4)\n",
      "Requirement already satisfied: tomli>=1.0.0 in /home/gibran/.pyenv/versions/3.8.2/lib/python3.8/site-packages (from setuptools-scm[toml]>=5.0.1->binarytree) (1.2.3)\n",
      "Requirement already satisfied: pyparsing>=2.0.2 in /home/gibran/.pyenv/versions/3.8.2/lib/python3.8/site-packages (from packaging>=20.0->setuptools-scm[toml]>=5.0.1->binarytree) (2.1.10)\n",
      "Requirement already satisfied: six in /home/gibran/.pyenv/versions/3.8.2/lib/python3.8/site-packages (from packaging>=20.0->setuptools-scm[toml]>=5.0.1->binarytree) (1.16.0)\n",
      "Collecting setuptools>=60.8.2\n",
      "  Using cached setuptools-62.1.0-py3-none-any.whl (1.1 MB)\n",
      "Installing collected packages: setuptools, setuptools-scm, binarytree\n",
      "  Attempting uninstall: setuptools\n",
      "    Found existing installation: setuptools 41.2.0\n",
      "    Uninstalling setuptools-41.2.0:\n",
      "      Successfully uninstalled setuptools-41.2.0\n",
      "Successfully installed binarytree-6.5.1 setuptools-62.1.0 setuptools-scm-6.4.2\n",
      "\u001b[33mWARNING: You are using pip version 20.3.3; however, version 22.0.4 is available.\n",
      "You should consider upgrading via the '/home/gibran/.pyenv/versions/3.8.2/bin/python3.8 -m pip install --upgrade pip' command.\u001b[0m\n"
     ]
    }
   ],
   "source": [
    "!pip install binarytree"
   ]
  },
  {
   "cell_type": "code",
   "execution_count": 2,
   "id": "db367710-8d3a-4a18-8263-b672c29838b6",
   "metadata": {},
   "outputs": [],
   "source": [
    "from binarytree import Node\n",
    "from binarytree import build\n",
    "import numpy as np\n",
    "import pandas as pd\n",
    "import time\n"
   ]
  },
  {
   "cell_type": "code",
   "execution_count": 2,
   "id": "1841b8a7-a023-46bb-8fa0-853c61b93a44",
   "metadata": {},
   "outputs": [
    {
     "ename": "NameError",
     "evalue": "name 'Node' is not defined",
     "output_type": "error",
     "traceback": [
      "\u001b[0;31m---------------------------------------------------------------------------\u001b[0m",
      "\u001b[0;31mNameError\u001b[0m                                 Traceback (most recent call last)",
      "\u001b[0;32m/tmp/ipykernel_4164/3376820945.py\u001b[0m in \u001b[0;36m<module>\u001b[0;34m\u001b[0m\n\u001b[0;32m----> 1\u001b[0;31m \u001b[0mroot\u001b[0m \u001b[0;34m=\u001b[0m \u001b[0mNode\u001b[0m\u001b[0;34m(\u001b[0m\u001b[0;36m3\u001b[0m\u001b[0;34m)\u001b[0m\u001b[0;34m\u001b[0m\u001b[0;34m\u001b[0m\u001b[0m\n\u001b[0m\u001b[1;32m      2\u001b[0m \u001b[0mroot\u001b[0m\u001b[0;34m.\u001b[0m\u001b[0mleft\u001b[0m \u001b[0;34m=\u001b[0m \u001b[0mNode\u001b[0m\u001b[0;34m(\u001b[0m\u001b[0;36m6\u001b[0m\u001b[0;34m)\u001b[0m\u001b[0;34m\u001b[0m\u001b[0;34m\u001b[0m\u001b[0m\n\u001b[1;32m      3\u001b[0m \u001b[0mroot\u001b[0m\u001b[0;34m.\u001b[0m\u001b[0mright\u001b[0m \u001b[0;34m=\u001b[0m \u001b[0mNode\u001b[0m\u001b[0;34m(\u001b[0m\u001b[0;36m8\u001b[0m\u001b[0;34m)\u001b[0m\u001b[0;34m\u001b[0m\u001b[0;34m\u001b[0m\u001b[0m\n\u001b[1;32m      4\u001b[0m \u001b[0;34m\u001b[0m\u001b[0m\n\u001b[1;32m      5\u001b[0m \u001b[0;31m# árbol binario\u001b[0m\u001b[0;34m\u001b[0m\u001b[0;34m\u001b[0m\u001b[0;34m\u001b[0m\u001b[0m\n",
      "\u001b[0;31mNameError\u001b[0m: name 'Node' is not defined"
     ]
    }
   ],
   "source": [
    "root = Node(3)\n",
    "root.left = Node(6)\n",
    "root.right = Node(8)\n",
    " \n",
    "# árbol binario\n",
    "print('Árbol binario :', root)\n",
    " \n",
    "# Lista de nodos\n",
    "print('Lista de nodos :', list(root))\n",
    " \n",
    "# recorrido inorder de nodos \n",
    "print('Inorder de nodos :', root.inorder)\n",
    " \n",
    "# Propiedades de árboles\n",
    "print('tamano de árbol :', root.size)\n",
    "print('Altura de árbol :', root.height)\n",
    " \n",
    "# Obten todas las propiedades\n",
    "print('Propiedades del árbol : \\n', root.properties)"
   ]
  },
  {
   "cell_type": "code",
   "execution_count": 6,
   "id": "5f8cb646-7225-4f16-9b16-64606c38afae",
   "metadata": {},
   "outputs": [
    {
     "name": "stdout",
     "output_type": "stream",
     "text": [
      "Lista del árbolo binario :\n",
      " \n",
      "    ___3\n",
      "   /    \\\n",
      "  6      8\n",
      " / \\      \\\n",
      "2   11     13\n",
      "\n",
      "\n",
      "Lista del árbol binario : [3, 6, 8, 2, 11, None, 13]\n"
     ]
    }
   ],
   "source": [
    "nodes = [3, 6, 8, 2, 11, None, 13]\n",
    " \n",
    "binary_tree = build(nodes)\n",
    "\n",
    "print('Lista del árbolo binario :\\n',\n",
    "      binary_tree)\n",
    " \n",
    "print('\\nLista del árbol binario :',\n",
    "      binary_tree.values)"
   ]
  },
  {
   "cell_type": "markdown",
   "id": "b62b40c6-cabf-4eb8-908c-960b21a782f4",
   "metadata": {},
   "source": [
    "Join Zoom Meeting\n",
    "https://cuaieed-unam.zoom.us/j/9898924040?pwd=Q2gwcnYyek9GUTlhVHZIMk1waElMdz09\n",
    "\n",
    "Meeting ID: 989 892 4040\n",
    "Passcode: 527043\n",
    "### Expresiones regulares\n",
    "1. Símbolo de escape:\n",
    "    \\\n",
    " 2. Agrupación o captura:\n",
    "    (...) (?:...) (?=...) (?!...) (?<=...) (?<!...)\n",
    " 3. Cantidad (cuantificadores)\n",
    "    a* a+ a? a{n, m}\n",
    " 4. Secuencia y ancla\n",
    "    abc ^ $ \\b \\B\n",
    " 5. O (alternancia)\n",
    "    a|b|c\n",
    " 6. Átomos\n",
    "    a [^abc] \\t \\r \\n \\d \\D \\s \\S \\w \\W .\n",
    "\n"
   ]
  },
  {
   "cell_type": "markdown",
   "id": "38756171-2690-4ac5-a387-1242044ae078",
   "metadata": {},
   "source": [
    "\\ d Cualquier número; equivalente a [0-9]\n",
    "\n",
    " \\ D Cualquier que no sea un dígito; equivalente a [^ 0-9]\n",
    " \n",
    " \\ w Cualquier carácter literal; equivalente a [a-zA-Z0-9_]\n",
    " \n",
    " \\ W Cualquier carácter no literal; equivalente a [^ a-zA-Z0-9_]\n",
    " \n",
    " \\ s Cualquier espacio en blanco; equivalente a [\\ f \\ n \\ r \\ t \\ v] (tenga en cuenta que el primer carácter entre corchetes es un símbolo de espacio)\n",
    " \n",
    " \\ S Cualquier que no esté en blanco; equivalente a [^ \\ f \\ n \\ r \\ t \\ v] (tenga en cuenta que inmediatamente después de ^ hay un símbolo de espacio)\n",
    " \n",
    " . Cualquier carácter excepto \\ r \\ n; equivalente a [^ \\ r \\ n]\n"
   ]
  },
  {
   "cell_type": "code",
   "execution_count": 3,
   "id": "56d2ba79-35b3-4b63-9caa-b737d64cdbe1",
   "metadata": {},
   "outputs": [
    {
     "name": "stdout",
     "output_type": "stream",
     "text": [
      "[]\n"
     ]
    }
   ],
   "source": [
    "import re\n",
    "\n",
    "str = '<dl>(843) 542-4256</dl> <dl>(431) 270-9664</dl>'\n",
    "# Busque todos los caracteres en el formato \"número-número\" en la cadena, donde el primer número es de tres dígitos y el segundo número es de cuatro dígitos\n",
    "pttn = r'\\d\\d\\d\\-\\d\\d\\d\\d'\n",
    "print(re.findall(pttn, str))"
   ]
  },
  {
   "cell_type": "code",
   "execution_count": 4,
   "id": "f36cd053-5a76-4ea6-b133-8855cccfe4aa",
   "metadata": {},
   "outputs": [
    {
     "name": "stdout",
     "output_type": "stream",
     "text": [
      "['er', 'er', 'er']\n",
      "['er', 'er']\n"
     ]
    }
   ],
   "source": [
    "str = 'never ever verb however everest'\n",
    "pttn = r'er\\b'\n",
    "print(re.findall(pttn, str))\n",
    "pttn = r'er\\B'\n",
    "print(re.findall(pttn, str))\n"
   ]
  },
  {
   "cell_type": "markdown",
   "id": "188b7cbb-e30c-405c-87f1-d58693e5f0d5",
   "metadata": {},
   "source": [
    "^ Coincide con la posición inicial de la cadena buscada;\n",
    "\n",
    " $ Coincide con la posición final de la cadena buscada;\n",
    "    \n",
    " \\ b coincide con el límite de una palabra; er \\ b puede coincidir con er en el codificador, pero no puede coincidir con er por error;\n",
    "\n",
    " \\ B coincide con un límite sin palabras; er \\ B puede coincidir con er por error, pero no en el codificador.\n"
   ]
  },
  {
   "cell_type": "markdown",
   "id": "206f5e16-577f-4aba-9ba8-9f5c2c102bcc",
   "metadata": {},
   "source": [
    "+ Significa que el átomo anterior debe aparecer al menos una vez, es decir: número de apariciones ≧ 1\n",
    " ? Indica que el átomo anterior solo puede aparecer una vez como máximo, es decir: 0 ≦ número de ocurrencias ≦ 1\n",
    " * Representa que el átomo anterior puede no aparecer, o aparecer una o más veces, es decir: número de apariciones ≧ 0\n",
    " {n} representa n veces que aparece el átomo anterior;\n",
    " {n,} significa que el átomo anterior aparece al menos n veces;\n",
    " {n, m} significa que el átomo anterior aparece al menos n veces y como máximo m veces"
   ]
  },
  {
   "cell_type": "code",
   "execution_count": 8,
   "id": "fccbd343-e6fe-4c07-8376-f6da31239b54",
   "metadata": {},
   "outputs": [
    {
     "name": "stdout",
     "output_type": "stream",
     "text": [
      "primero\n",
      "['gogle']\n",
      "['gogle']\n",
      "['gogle']\n",
      "cuarto\n",
      "[]\n",
      "['go']\n",
      "primero\n",
      "['google']\n",
      "[]\n",
      "[]\n",
      "cuarto\n",
      "['google']\n",
      "[]\n",
      "primero\n",
      "['gooogle']\n",
      "[]\n",
      "[]\n",
      "cuarto\n",
      "['gooogle']\n",
      "[]\n",
      "primero\n",
      "['goooogle']\n",
      "[]\n",
      "[]\n",
      "cuarto\n",
      "['goooogle']\n",
      "[]\n",
      "primero\n",
      "['goooooogle']\n",
      "[]\n",
      "[]\n",
      "cuarto\n",
      "[]\n",
      "[]\n"
     ]
    }
   ],
   "source": [
    "# Match string\n",
    "str = ['gogle','google', 'gooogle', 'goooogle', 'goooooogle']\n",
    "\n",
    " # Atraviesa la cuerda\n",
    "for str_per in str:\n",
    "         # o aparece al menos una vez \n",
    "    pttn = r'go+gle'\n",
    "    print(\"primero\")\n",
    "    print(re.findall(pttn, str_per))\n",
    "    \n",
    "         # o aparece como máximo una vez \n",
    "    pttn = r'go?gle'\n",
    "    print(re.findall(pttn, str_per))\n",
    "\n",
    "         # o Número de ocurrencias ≧ 0\n",
    "    pttn = r'go?gle'\n",
    "    print(re.findall(pttn, str_per))\n",
    "    \n",
    "         # o aparece al menos 2 veces y como máximo 5 veces\n",
    "    print(\"cuarto\")\n",
    "    pttn = r'go{2,5}gle'\n",
    "    print(re.findall(pttn, str_per))\n",
    "    \n",
    "         # Advance: combinación simultánea de átomos\n",
    "         # go o aparece al menos una vez\n",
    "    pttn = r'[go]+gle'\n",
    "    \n",
    "         # go aparece al menos una vez\n",
    "    pttn = r'(go)+gle'\n",
    "    print(re.findall(pttn, str_per))"
   ]
  },
  {
   "cell_type": "markdown",
   "id": "da85d27b-55ca-4fc7-b6b9-fe66cf801cbb",
   "metadata": {},
   "source": [
    "1. Entendimiento del negocio: Determinar los objetivos del negocio, cuáles son sus necesidades y lo que se desea abarcar.\n",
    "\n",
    "2. Entendimiento de los datos: De acuerdo a la fase anterior, con que datos cuento, que datos son útiles y cuáles necesito.\n",
    "\n",
    "3. Preparación de datos: En esta fase se exploran los datos, se manipulan y se limpian, se hace la unión entre lo que quiere/necesita el negocio con los datos con los que cuenta la organización\n",
    "\n",
    "4. Modelamiento: Teniendo en cuenta los puntos anteriores se realiza el análisis y se obtienen resultados.\n",
    "\n",
    "5. Evaluación: Una vez se obtienen los resultados se evalúa el modelo teniendo en cuenta el objetivo del análisis\n",
    "\n",
    "6. Despliegue: Una vez validado el modelo se realiza la implementación en producción, así como monitoreo y mantenimiento."
   ]
  },
  {
   "cell_type": "markdown",
   "id": "af90622e-0424-48b6-95a7-84c65e8f48d2",
   "metadata": {},
   "source": [
    "![python-ecosystem](https://miro.medium.com/max/1400/0*qc2yUKqzRGIfpICx.png)\n",
    "<div style=\"text-align: center\"> https://lauralpezb.medium.com/</div>"
   ]
  },
  {
   "cell_type": "markdown",
   "id": "1c70c0f7-bedf-4d82-83d4-7ca579c00e2a",
   "metadata": {},
   "source": [
    "### Los fundamentos de las matrices NumPy"
   ]
  },
  {
   "cell_type": "markdown",
   "id": "b2422270-1aa7-46d7-8cf8-3d1c40372325",
   "metadata": {},
   "source": [
    "La manipulación de datos en Python es casi sinónimo de la manipulación de matrices NumPy: incluso las herramientas más nuevas, como Pandas (Capítulo 3), se construyen alrededor de la matriz NumPy. Esta sección presentará varios ejemplos del uso de la manipulación de arreglos NumPy para acceder a datos y subarreglos, y para dividir, remodelar y unir los arreglos. Si bien los tipos de operaciones que se muestran aquí pueden parecer un poco áridos y pedantes, comprenden los componentes básicos de muchos otros ejemplos que se usan a lo largo del libro. ¡Conócelos bien!\n",
    "\n",
    "Cubriremos algunas categorías de manipulaciones básicas de matrices aquí:\n",
    "\n",
    "Atributos de los arreglos: determinación del tamaño, la forma, el consumo de memoria y los tipos de datos de los arreglos\n",
    "Indexación de arreglos: Obtener y establecer el valor de elementos de arreglo individuales\n",
    "Segmentación de arreglos: obtención y configuración de subarreglos más pequeños dentro de un arreglo más grande\n",
    "Remodelación de arreglos: Cambiar la forma de un arreglo dado\n",
    "Unión y división de arreglos: combinación de múltiples arreglos en uno y división de un arreglo en muchos"
   ]
  },
  {
   "cell_type": "code",
   "execution_count": 7,
   "id": "5bed6e55-1774-4cfa-b237-07e886b64976",
   "metadata": {},
   "outputs": [],
   "source": [
    "np.random.seed(0)\n",
    "\n",
    "x1 = np.random.randint(10, size=6)  # dim 1\n",
    "x2 = np.random.randint(10, size=(3, 4))  # dim 2\n",
    "x3 = np.random.randint(10, size=(3, 4, 5))  # dim 3"
   ]
  },
  {
   "cell_type": "code",
   "execution_count": 8,
   "id": "4a8958ec-a9f9-4744-bc55-a6a0ffd309ae",
   "metadata": {},
   "outputs": [
    {
     "data": {
      "text/plain": [
       "(array([5, 0, 3, 3, 7, 9]),\n",
       " array([[3, 5, 2, 4],\n",
       "        [7, 6, 8, 8],\n",
       "        [1, 6, 7, 7]]),\n",
       " array([[[8, 1, 5, 9, 8],\n",
       "         [9, 4, 3, 0, 3],\n",
       "         [5, 0, 2, 3, 8],\n",
       "         [1, 3, 3, 3, 7]],\n",
       " \n",
       "        [[0, 1, 9, 9, 0],\n",
       "         [4, 7, 3, 2, 7],\n",
       "         [2, 0, 0, 4, 5],\n",
       "         [5, 6, 8, 4, 1]],\n",
       " \n",
       "        [[4, 9, 8, 1, 1],\n",
       "         [7, 9, 9, 3, 6],\n",
       "         [7, 2, 0, 3, 5],\n",
       "         [9, 4, 4, 6, 4]]]))"
      ]
     },
     "execution_count": 8,
     "metadata": {},
     "output_type": "execute_result"
    }
   ],
   "source": [
    "x1, x2, x3"
   ]
  },
  {
   "cell_type": "code",
   "execution_count": 9,
   "id": "2a706d96-bcd0-4d56-987b-ed3147f1386e",
   "metadata": {},
   "outputs": [
    {
     "name": "stdout",
     "output_type": "stream",
     "text": [
      "x3 ndim:  3\n",
      "x3 shape: (3, 4, 5)\n",
      "x3 size:  60\n"
     ]
    }
   ],
   "source": [
    "print(\"x3 ndim: \", x3.ndim)\n",
    "print(\"x3 shape:\", x3.shape)\n",
    "print(\"x3 size: \", x3.size)"
   ]
  },
  {
   "cell_type": "code",
   "execution_count": 10,
   "id": "24968e5c-cf84-4c70-ad6e-41e114100911",
   "metadata": {},
   "outputs": [
    {
     "data": {
      "text/plain": [
       "(array([5, 0, 3, 3, 7, 9]), 5, 3)"
      ]
     },
     "execution_count": 10,
     "metadata": {},
     "output_type": "execute_result"
    }
   ],
   "source": [
    "x1, x1[0], x2[0, 0]"
   ]
  },
  {
   "cell_type": "code",
   "execution_count": 11,
   "id": "12459eb3-bfd2-4303-8e3d-7a331019b187",
   "metadata": {},
   "outputs": [],
   "source": [
    "x2[0, 0] = 12"
   ]
  },
  {
   "cell_type": "code",
   "execution_count": 12,
   "id": "e24415cc-d650-4263-89bc-c381f7d3e039",
   "metadata": {},
   "outputs": [
    {
     "data": {
      "text/plain": [
       "(array([5, 0, 3, 3, 7]), array([5, 3, 7]), array([0, 3, 9]))"
      ]
     },
     "execution_count": 12,
     "metadata": {},
     "output_type": "execute_result"
    }
   ],
   "source": [
    "#x[start:stop:step]\n",
    "\n",
    "x1[:5], x1[::2], x1[1::2]"
   ]
  },
  {
   "cell_type": "markdown",
   "id": "8cdd35f2-e9c3-472c-95a6-4881fea423e7",
   "metadata": {},
   "source": [
    "Crando copias "
   ]
  },
  {
   "cell_type": "code",
   "execution_count": 13,
   "id": "3423ae62-7597-446a-8203-8c3dae66174f",
   "metadata": {},
   "outputs": [
    {
     "name": "stdout",
     "output_type": "stream",
     "text": [
      "[[12  5]\n",
      " [ 7  6]]\n"
     ]
    }
   ],
   "source": [
    "x2_sub_copy = x2[:2, :2].copy()\n",
    "print(x2_sub_copy)"
   ]
  },
  {
   "cell_type": "code",
   "execution_count": 10,
   "id": "37950bfa-93aa-43c5-9f5b-e9b07cf95f3e",
   "metadata": {},
   "outputs": [
    {
     "name": "stdout",
     "output_type": "stream",
     "text": [
      "[[1 2 3]\n",
      " [4 5 6]\n",
      " [7 8 9]]\n"
     ]
    }
   ],
   "source": [
    "grid = np.arange(1, 10).reshape((3, 3))\n",
    "print(grid)"
   ]
  },
  {
   "cell_type": "markdown",
   "id": "ae623263-1613-4141-b687-452ca0147619",
   "metadata": {},
   "source": [
    "Concatenar y Dividir arreglos"
   ]
  },
  {
   "cell_type": "code",
   "execution_count": 15,
   "id": "ac5cc79b-b47c-401b-a943-4ad629be2daa",
   "metadata": {},
   "outputs": [
    {
     "data": {
      "text/plain": [
       "array([1, 2, 3, 3, 2, 1])"
      ]
     },
     "execution_count": 15,
     "metadata": {},
     "output_type": "execute_result"
    }
   ],
   "source": [
    "x = np.array([1, 2, 3])\n",
    "y = np.array([3, 2, 1])\n",
    "np.concatenate([x, y])"
   ]
  },
  {
   "cell_type": "code",
   "execution_count": 16,
   "id": "e6d64300-e3c0-4269-8e97-4f09b06ee959",
   "metadata": {},
   "outputs": [
    {
     "name": "stdout",
     "output_type": "stream",
     "text": [
      "[1 2 3] [99 99] [3 2 1]\n"
     ]
    }
   ],
   "source": [
    "x = [1, 2, 3, 99, 99, 3, 2, 1]\n",
    "x1, x2, x3 = np.split(x, [3, 5])\n",
    "print(x1, x2, x3)"
   ]
  },
  {
   "cell_type": "markdown",
   "id": "06860717-afc7-4e44-8011-13ef2963f475",
   "metadata": {},
   "source": [
    "### Cálculo en matrices NumPy: funciones universales"
   ]
  },
  {
   "cell_type": "markdown",
   "id": "f32689d6-afb8-4f93-a749-e45da50f8265",
   "metadata": {},
   "source": [
    "Hasta ahora, hemos discutido algunos de los aspectos básicos de NumPy; En las próximas secciones, profundizaremos en las razones por las que NumPy es tan importante en el mundo de la ciencia de datos de Python. Es decir, proporciona una interfaz fácil y flexible para el cálculo optimizado con matrices de datos.\n",
    "\n",
    "El cálculo en matrices NumPy puede ser muy rápido o muy lento. La clave para hacerlo rápido es usar operaciones vectorizadas, generalmente implementadas a través de las funciones universales de NumPy (ufuncs). Esta sección motiva la necesidad de los ufuncs de NumPy, que se pueden usar para hacer que los cálculos repetidos en los elementos de la matriz sean mucho más eficientes. Luego presenta muchos de los ufuncs aritméticos más comunes y útiles disponibles en el paquete NumPy."
   ]
  },
  {
   "cell_type": "markdown",
   "id": "a2af11da-d220-462d-b0ea-50fafb3e7c9e",
   "metadata": {},
   "source": [
    "La relativa lentitud de Python generalmente se manifiesta en situaciones en las que se repiten muchas operaciones pequeñas, por ejemplo, recorriendo matrices para operar en cada elemento. Por ejemplo, imagina que tenemos una matriz de valores y nos gustaría calcular el recíproco de cada uno. Un enfoque sencillo podría verse así:"
   ]
  },
  {
   "cell_type": "code",
   "execution_count": 17,
   "id": "945bc3ab-a5a6-42b3-98ee-08d7a3174a87",
   "metadata": {},
   "outputs": [
    {
     "data": {
      "text/plain": [
       "array([0.2       , 0.25      , 0.2       , 0.2       , 0.11111111])"
      ]
     },
     "execution_count": 17,
     "metadata": {},
     "output_type": "execute_result"
    }
   ],
   "source": [
    "def compute_reciprocals(values):\n",
    "    output = np.empty(len(values))\n",
    "    for i in range(len(values)):\n",
    "        output[i] = 1.0 / values[i]\n",
    "    return output\n",
    "        \n",
    "values = np.random.randint(1, 10, size=5)\n",
    "compute_reciprocals(values)"
   ]
  },
  {
   "cell_type": "markdown",
   "id": "1592b73a-2c21-4061-b601-0e304d720a89",
   "metadata": {},
   "source": [
    "Operación sobre arreglos"
   ]
  },
  {
   "cell_type": "code",
   "execution_count": 18,
   "id": "d9555630-6d79-41fa-a219-f776af1e634b",
   "metadata": {},
   "outputs": [
    {
     "name": "stdout",
     "output_type": "stream",
     "text": [
      "x     = [0 1 2 3]\n",
      "x + 5 = [5 6 7 8]\n",
      "x - 5 = [-5 -4 -3 -2]\n",
      "x * 2 = [0 2 4 6]\n",
      "x / 2 = [0.  0.5 1.  1.5]\n",
      "x // 2 = [0 0 1 1]\n",
      "-x     =  [ 0 -1 -2 -3]\n",
      "x ** 2 =  [0 1 4 9]\n",
      "x % 2  =  [0 1 0 1]\n"
     ]
    }
   ],
   "source": [
    "x = np.arange(4)\n",
    "print(\"x     =\", x)\n",
    "print(\"x + 5 =\", x + 5)\n",
    "print(\"x - 5 =\", x - 5)\n",
    "print(\"x * 2 =\", x * 2)\n",
    "print(\"x / 2 =\", x / 2)\n",
    "print(\"x // 2 =\", x // 2)\n",
    "print(\"-x     = \", -x)\n",
    "print(\"x ** 2 = \", x ** 2)\n",
    "print(\"x % 2  = \", x % 2)"
   ]
  },
  {
   "cell_type": "markdown",
   "id": "00f8c5a5-febf-4608-ac7e-18b65d8694be",
   "metadata": {},
   "source": [
    "Tabla con operaciones en NumPy:\n",
    "\n",
    "| Operator\t    | Equivalent ufunc    | Description                           |\n",
    "|---------------|---------------------|---------------------------------------|\n",
    "|``+``          |``np.add``           |Addition (e.g., ``1 + 1 = 2``)         |\n",
    "|``-``          |``np.subtract``      |Subtraction (e.g., ``3 - 2 = 1``)      |\n",
    "|``-``          |``np.negative``      |Unary negation (e.g., ``-2``)          |\n",
    "|``*``          |``np.multiply``      |Multiplication (e.g., ``2 * 3 = 6``)   |\n",
    "|``/``          |``np.divide``        |Division (e.g., ``3 / 2 = 1.5``)       |\n",
    "|``//``         |``np.floor_divide``  |Floor division (e.g., ``3 // 2 = 1``)  |\n",
    "|``**``         |``np.power``         |Exponentiation (e.g., ``2 ** 3 = 8``)  |\n",
    "|``%``          |``np.mod``           |Modulus/remainder (e.g., ``9 % 4 = 1``)|\n"
   ]
  },
  {
   "cell_type": "markdown",
   "id": "b5e5a497-af6b-4d6d-aab7-045dc3ea969b",
   "metadata": {},
   "source": [
    "Operaciones vectorizadas en numpy"
   ]
  },
  {
   "cell_type": "code",
   "execution_count": 11,
   "id": "694aba8f-b94d-475b-bd29-62139235b8c8",
   "metadata": {},
   "outputs": [
    {
     "data": {
      "text/plain": [
       "51.03215522829294"
      ]
     },
     "execution_count": 11,
     "metadata": {},
     "output_type": "execute_result"
    }
   ],
   "source": [
    "L = np.random.random(100)\n",
    "sum(L)"
   ]
  },
  {
   "cell_type": "code",
   "execution_count": 12,
   "id": "c6418bc4-ee27-421f-8e69-8ec2ebef990e",
   "metadata": {},
   "outputs": [
    {
     "data": {
      "text/plain": [
       "51.032155228292964"
      ]
     },
     "execution_count": 12,
     "metadata": {},
     "output_type": "execute_result"
    }
   ],
   "source": [
    "np.sum(L)"
   ]
  },
  {
   "cell_type": "code",
   "execution_count": 14,
   "id": "4c4cf161-b55d-4f5f-97bf-46a47ee9c9bb",
   "metadata": {},
   "outputs": [
    {
     "data": {
      "text/plain": [
       "51.03215522829294"
      ]
     },
     "execution_count": 14,
     "metadata": {},
     "output_type": "execute_result"
    }
   ],
   "source": [
    "def sum_lis(lista):\n",
    "    resultado = 0\n",
    "    for elemento in lista:\n",
    "        resultado = resultado + elemento\n",
    "    return resultado\n",
    "\n",
    "sum_lis(L)"
   ]
  },
  {
   "cell_type": "code",
   "execution_count": 16,
   "id": "d9f1f465-0972-4257-a9c5-fc2fb7a54f23",
   "metadata": {},
   "outputs": [
    {
     "name": "stdout",
     "output_type": "stream",
     "text": [
      "87.3 ms ± 3.09 ms per loop (mean ± std. dev. of 7 runs, 10 loops each)\n",
      "67.3 ms ± 1.64 ms per loop (mean ± std. dev. of 7 runs, 10 loops each)\n",
      "417 µs ± 29.3 µs per loop (mean ± std. dev. of 7 runs, 1000 loops each)\n"
     ]
    }
   ],
   "source": [
    "big_array = np.random.rand(1000000)\n",
    "%timeit sum_lis(big_array)\n",
    "%timeit sum(big_array)\n",
    "%timeit np.sum(big_array)"
   ]
  },
  {
   "cell_type": "code",
   "execution_count": 86,
   "id": "3d0feb4c-ca0b-4ff3-854b-f4db70119a49",
   "metadata": {},
   "outputs": [
    {
     "data": {
      "text/plain": [
       "(3.7478539993696103e-07, 0.9999969008809787)"
      ]
     },
     "execution_count": 86,
     "metadata": {},
     "output_type": "execute_result"
    }
   ],
   "source": [
    "min(big_array), max(big_array)"
   ]
  },
  {
   "cell_type": "code",
   "execution_count": 85,
   "id": "7c820581-f7b8-4b39-be38-c4f0224536da",
   "metadata": {},
   "outputs": [
    {
     "data": {
      "text/plain": [
       "(3.7478539993696103e-07, 0.9999969008809787)"
      ]
     },
     "execution_count": 85,
     "metadata": {},
     "output_type": "execute_result"
    }
   ],
   "source": [
    "np.min(big_array), np.max(big_array)"
   ]
  },
  {
   "cell_type": "code",
   "execution_count": 49,
   "id": "b087b2f4-69ef-48e1-829a-e51cf3efdca4",
   "metadata": {},
   "outputs": [
    {
     "data": {
      "text/plain": [
       "1"
      ]
     },
     "execution_count": 49,
     "metadata": {},
     "output_type": "execute_result"
    }
   ],
   "source": [
    "def minimo(lista):\n",
    "    try:\n",
    "        minimo = lista[0]\n",
    "        for elemento in lista:\n",
    "            if(elemento < minimo):\n",
    "                minimo = elemento\n",
    "        return minimo\n",
    "\n",
    "    except:\n",
    "        print(\"lista vacia o tipo incorrecto de dato\")\n",
    "        \n",
    "minimo([1, 2])"
   ]
  },
  {
   "cell_type": "code",
   "execution_count": 50,
   "id": "94218320-f90b-47a8-bb0c-d06037830ab7",
   "metadata": {},
   "outputs": [
    {
     "name": "stdout",
     "output_type": "stream",
     "text": [
      "58.1 ms ± 847 µs per loop (mean ± std. dev. of 7 runs, 10 loops each)\n",
      "55.5 ms ± 3.16 ms per loop (mean ± std. dev. of 7 runs, 10 loops each)\n",
      "403 µs ± 8.9 µs per loop (mean ± std. dev. of 7 runs, 1000 loops each)\n"
     ]
    }
   ],
   "source": [
    "%timeit minimo(big_array)\n",
    "%timeit min(big_array)\n",
    "%timeit np.min(big_array)"
   ]
  },
  {
   "cell_type": "markdown",
   "id": "46c5a4c6-8b96-4e82-aa95-0d4e746a570f",
   "metadata": {},
   "source": [
    "Operaciones en arreglos multidimensionales"
   ]
  },
  {
   "cell_type": "code",
   "execution_count": 87,
   "id": "a911d672-042a-462e-a7fa-e0cb2c09663a",
   "metadata": {},
   "outputs": [
    {
     "name": "stdout",
     "output_type": "stream",
     "text": [
      "[[0.11464698 0.04117815 0.65193476 0.44198471]\n",
      " [0.83601581 0.29635297 0.06593708 0.8543327 ]\n",
      " [0.2948394  0.80389698 0.48729255 0.630261  ]]\n"
     ]
    }
   ],
   "source": [
    "M = np.random.random((3, 4))\n",
    "print(M)"
   ]
  },
  {
   "cell_type": "code",
   "execution_count": 88,
   "id": "2d6d84b5-be21-42b5-8b24-8890060a71ff",
   "metadata": {},
   "outputs": [
    {
     "data": {
      "text/plain": [
       "(5.518673096575353,\n",
       " array([0.11464698, 0.04117815, 0.06593708, 0.44198471]),\n",
       " array([0.65193476, 0.8543327 , 0.80389698]))"
      ]
     },
     "execution_count": 88,
     "metadata": {},
     "output_type": "execute_result"
    }
   ],
   "source": [
    "M.sum(), M.min(axis=0), M.max(axis=1)"
   ]
  },
  {
   "cell_type": "markdown",
   "id": "394ebcfa-fc8c-4635-88f3-d85290f41353",
   "metadata": {},
   "source": [
    "Tabla con otras operaciones\n",
    "\n",
    "Function Name  Version\tDescription\n",
    "\n",
    "np.sum\tnp.nansum\tCompute sum of elements\n",
    "\n",
    "np.prod\tnp.nanprod\tCompute product of elements\n",
    "\n",
    "np.mean\tnp.nanmean\tCompute mean of elements\n",
    "\n",
    "np.std\tnp.nanstd\tCompute standard deviation\n",
    "\n",
    "np.var\tnp.nanvar\tCompute variance\n",
    "\n",
    "np.min\tnp.nanmin\tFind minimum value\n",
    "\n",
    "np.max\tnp.nanmax\tFind maximum value\n",
    "\n",
    "np.argmin\tnp.nanargmin\tFind index of minimum value\n",
    "\n",
    "np.argmax\tnp.nanargmax\tFind index of maximum value\n",
    "\n",
    "np.median\tnp.nanmedian\tCompute median of elements\n",
    "\n",
    "np.percentile\tnp.nanpercentile\tCompute rank-based statistics of elements\n",
    "\n",
    "np.any\tN/A\tEvaluate whether any elements are true\n",
    "\n",
    "np.all\tN/A\tEvaluate whether all elements are true"
   ]
  },
  {
   "cell_type": "code",
   "execution_count": 89,
   "id": "e8ea467b-a9c5-4e79-9a6d-5b6b6fd021ef",
   "metadata": {},
   "outputs": [
    {
     "name": "stdout",
     "output_type": "stream",
     "text": [
      "order,name,height(cm)\n",
      "1,George Washington,189\n",
      "2,John Adams,170\n",
      "3,Thomas Jefferson,189\n",
      "4,James Madison,163\n",
      "5,James Monroe,183\n",
      "6,John Quincy Adams,171\n",
      "7,Andrew Jackson,185\n",
      "8,Martin Van Buren,168\n",
      "9,William Henry Harrison,173\n"
     ]
    }
   ],
   "source": [
    "!head ../data/president_heights.csv"
   ]
  },
  {
   "cell_type": "code",
   "execution_count": 91,
   "id": "d95a4a7b-64fc-41ca-bdc9-a1f4b7e18bed",
   "metadata": {},
   "outputs": [
    {
     "name": "stdout",
     "output_type": "stream",
     "text": [
      "179.73809523809524\n",
      "<class 'numpy.ndarray'>\n",
      "[189 170 189 163 183 171 185 168 173 183 173 173 175 178 183 193 178 173\n",
      " 174 183 183 168 170 178 182 180 183 178 182 188 175 179 183 193 182 183\n",
      " 177 185 188 188 182 185]\n"
     ]
    }
   ],
   "source": [
    "import pandas as pd\n",
    "data = pd.read_csv('../data/president_heights.csv')\n",
    "heights = np.array(data['height(cm)'])\n",
    "print(type(heights))\n",
    "print(heights)"
   ]
  },
  {
   "cell_type": "code",
   "execution_count": 93,
   "id": "5a45b1cb-ab24-4945-be6d-9d5e8c8fd832",
   "metadata": {},
   "outputs": [
    {
     "name": "stdout",
     "output_type": "stream",
     "text": [
      "72.9 µs ± 1.13 µs per loop (mean ± std. dev. of 7 runs, 10000 loops each)\n",
      "7.62 µs ± 445 ns per loop (mean ± std. dev. of 7 runs, 100000 loops each)\n"
     ]
    }
   ],
   "source": [
    "%timeit data['height(cm)'].mean() \n",
    "%timeit heights.mean()"
   ]
  },
  {
   "cell_type": "code",
   "execution_count": 29,
   "id": "51720f93-419e-42cc-bc09-4590b1cb7ef8",
   "metadata": {},
   "outputs": [
    {
     "name": "stdout",
     "output_type": "stream",
     "text": [
      "Promedio alturas:        179.73809523809524\n",
      "Desviación estándar: 6.931843442745892\n",
      "Mínimo de altras:     163\n",
      "Máximo alturas:     193\n"
     ]
    }
   ],
   "source": [
    "print(\"Promedio alturas:       \", heights.mean())\n",
    "print(\"Desviación estándar:\", heights.std())\n",
    "print(\"Mínimo de altras:    \", heights.min())\n",
    "print(\"Máximo alturas:    \", heights.max())"
   ]
  },
  {
   "cell_type": "code",
   "execution_count": 94,
   "id": "0b087127-aa26-4d93-9ab1-535e17da300b",
   "metadata": {},
   "outputs": [
    {
     "name": "stdout",
     "output_type": "stream",
     "text": [
      "Percentil 25:    174.25\n",
      "Promedio:             182.0\n",
      "Percentil 75:    183.0\n"
     ]
    }
   ],
   "source": [
    "print(\"Percentil 25:   \", np.percentile(heights, 25))\n",
    "print(\"Promedio:            \", np.median(heights))\n",
    "print(\"Percentil 75:   \", np.percentile(heights, 75))"
   ]
  },
  {
   "cell_type": "code",
   "execution_count": 96,
   "id": "886ecb77-2304-46b7-be33-860632ea2a28",
   "metadata": {},
   "outputs": [],
   "source": [
    "%matplotlib inline\n",
    "import matplotlib.pyplot as plt\n",
    "import seaborn; seaborn.set()  # set plot style"
   ]
  },
  {
   "cell_type": "code",
   "execution_count": 102,
   "id": "1a5ebccb-81df-44bb-8f43-ceb91a965902",
   "metadata": {},
   "outputs": [
    {
     "data": {
      "image/png": "[encoded data removed]",
      "text/plain": [
       "<Figure size 432x288 with 1 Axes>"
      ]
     },
     "metadata": {},
     "output_type": "display_data"
    }
   ],
   "source": [
    "plt.hist(heights)\n",
    "plt.title('Distribución de alturas de presidentes de estados unidos')\n",
    "plt.xlabel('Altura (cm)')\n",
    "plt.ylabel('Número');"
   ]
  },
  {
   "cell_type": "markdown",
   "id": "2dfbddef-c7ce-4e86-ac3f-bc19853dd428",
   "metadata": {},
   "source": [
    "Ejemplo valores booleanos"
   ]
  },
  {
   "cell_type": "code",
   "execution_count": 103,
   "id": "f83d10cb-a5c6-439e-89a1-da5fa9b5b71c",
   "metadata": {},
   "outputs": [
    {
     "name": "stdout",
     "output_type": "stream",
     "text": [
      "[0.         0.16141732 0.05905512 0.         0.         0.01181102\n",
      " 0.48031496 0.38188976 0.22834646 0.16929134 0.83858268 0.05905512\n",
      " 0.         0.         0.         0.         0.         0.\n",
      " 0.         0.         0.         0.01968504 0.         0.\n",
      " 0.         0.         0.         0.3503937  0.8503937  0.\n",
      " 0.09055118 0.07874016 0.         0.         0.         0.\n",
      " 0.         0.         0.2007874  0.01968504 0.72047244 0.66929134\n",
      " 0.18110236 0.07086614 0.37007874 0.46062992 1.03937008 0.57086614\n",
      " 0.5984252  0.03937008 0.11811024 0.11023622 0.0984252  0.24015748\n",
      " 0.51181102 0.01181102 0.         0.         0.         0.01968504\n",
      " 0.7519685  0.42125984 0.6496063  1.83858268 0.11811024 0.\n",
      " 1.27165354 0.16929134 0.74015748 0.         0.         0.01968504\n",
      " 0.27165354 0.31889764 1.09055118 0.01181102 0.         0.01968504\n",
      " 0.         0.         0.         0.         0.         0.16141732\n",
      " 0.14173228 0.01181102 0.87007874 0.5511811  0.         0.\n",
      " 0.         0.         0.0984252  0.         0.18110236 0.\n",
      " 0.         0.18110236 0.         0.         0.         0.\n",
      " 0.         0.         0.01968504 0.42913386 0.72834646 0.\n",
      " 0.53937008 0.         0.2007874  0.55905512 0.3503937  0.48818898\n",
      " 0.         0.12992126 0.27165354 0.         0.         0.\n",
      " 0.         0.         1.31102362 0.62992126 0.2007874  0.\n",
      " 0.         0.53937008 0.07874016 0.01968504 0.         0.\n",
      " 0.         0.         0.         0.         0.         0.\n",
      " 0.         0.         0.         0.         0.1496063  0.\n",
      " 0.22047244 0.         0.         0.         0.         0.\n",
      " 0.         0.         0.         0.         0.         0.\n",
      " 0.         0.         0.         0.         0.         0.\n",
      " 0.07086614 0.2519685  0.         0.01968504 0.14173228 0.0511811\n",
      " 0.         0.03149606 0.01181102 0.         0.         0.\n",
      " 0.         0.         0.         0.07086614 0.09055118 0.\n",
      " 0.         0.         0.         0.         0.         0.\n",
      " 0.         0.         0.         0.         0.         0.\n",
      " 0.         0.         0.         0.         0.         0.\n",
      " 0.         0.         0.         0.         0.01181102 0.75984252\n",
      " 0.         0.         0.         0.         0.         0.\n",
      " 0.         0.         0.         0.01968504 0.         0.\n",
      " 0.         0.         0.         0.         0.         0.\n",
      " 0.01968504 0.5        0.8503937  0.         0.03937008 0.\n",
      " 0.         0.         0.         0.         0.         0.\n",
      " 0.         0.         0.         0.         0.         0.\n",
      " 0.         0.33070866 0.0511811  0.         0.11811024 0.\n",
      " 0.         0.         0.         0.         0.         0.\n",
      " 0.         0.         0.         0.         0.         0.\n",
      " 0.         0.01968504 0.01181102 0.         0.         0.\n",
      " 0.01181102 0.72047244 0.7992126  0.16929134 0.3503937  0.\n",
      " 0.         0.03149606 0.         0.         0.         0.\n",
      " 0.         0.         0.         0.         0.         0.\n",
      " 0.01181102 0.29133858 0.         0.2992126  0.27952756 0.33858268\n",
      " 0.         0.12992126 0.59055118 0.         0.46062992 0.03937008\n",
      " 1.25984252 0.37007874 0.16141732 0.24015748 0.05905512 0.03149606\n",
      " 0.5        0.01968504 1.         0.66929134 0.         0.07086614\n",
      " 0.42913386 0.16141732 0.18897638 0.16141732 0.         0.\n",
      " 0.2007874  0.         0.         0.         0.         0.\n",
      " 0.         0.         0.         0.         0.         0.14173228\n",
      " 0.5984252  0.01968504 0.46850394 0.0511811  0.72047244 0.01181102\n",
      " 0.12992126 1.3503937  0.14173228 0.         0.         0.\n",
      " 0.         0.03149606 0.11811024 0.29133858 0.         0.35826772\n",
      " 0.38976378 0.51181102 0.27165354 0.         0.         0.\n",
      " 0.         0.         0.11023622 0.51181102 0.11811024 0.77165354\n",
      " 0.         0.         0.81102362 0.20866142 0.         0.\n",
      " 0.12992126 0.16141732 0.         0.         0.        ]\n"
     ]
    }
   ],
   "source": [
    "# use pandas to extract rainfall inches as a NumPy array\n",
    "rainfall = pd.read_csv('../data/Seattle2014.csv')['PRCP'].values\n",
    "inches = rainfall / 254.0  # 1/10mm -> inches\n",
    "inches.shape\n",
    "print(inches)"
   ]
  },
  {
   "cell_type": "code",
   "execution_count": 104,
   "id": "fcf794f8-8279-41ee-aa76-7f12a14e2485",
   "metadata": {},
   "outputs": [
    {
     "data": {
      "image/png": "[encoded data removed]",
      "text/plain": [
       "<Figure size 432x288 with 1 Axes>"
      ]
     },
     "metadata": {},
     "output_type": "display_data"
    }
   ],
   "source": [
    "plt.hist(inches, 10);"
   ]
  },
  {
   "cell_type": "code",
   "execution_count": 106,
   "id": "c1f0b805-125a-4825-adf7-c376cc30e41b",
   "metadata": {},
   "outputs": [
    {
     "data": {
      "text/plain": [
       "(array([ True,  True, False, False, False]),\n",
       " array([False, False,  True,  True,  True]),\n",
       " array([ True,  True, False,  True,  True]),\n",
       " array([False, False,  True, False, False]),\n",
       " array([False,  True, False, False, False]))"
      ]
     },
     "execution_count": 106,
     "metadata": {},
     "output_type": "execute_result"
    }
   ],
   "source": [
    "x = np.array([1, 2, 3, 4, 5])\n",
    "x < 3, x >= 3, x != 3, x == 3, (2 * x) == (x ** 2) "
   ]
  },
  {
   "cell_type": "code",
   "execution_count": 107,
   "id": "9935ed1e-2aa7-4216-a77f-0c351a54c19c",
   "metadata": {},
   "outputs": [
    {
     "data": {
      "text/plain": [
       "[False, False, False, False, False]"
      ]
     },
     "execution_count": 107,
     "metadata": {},
     "output_type": "execute_result"
    }
   ],
   "source": [
    "def intersetion_two_arrays(array1, array2):\n",
    "    inter_list = []\n",
    "    for i,j in zip(array1, array2):\n",
    "        inter_list.append(i and j)\n",
    "    return inter_list\n",
    "\n",
    "intersetion_two_arrays(x>3, x==3)"
   ]
  },
  {
   "cell_type": "code",
   "execution_count": 109,
   "id": "30d320f5-0a5d-4ab3-b9ca-c725e1e9745b",
   "metadata": {},
   "outputs": [
    {
     "data": {
      "text/plain": [
       "0"
      ]
     },
     "execution_count": 109,
     "metadata": {},
     "output_type": "execute_result"
    }
   ],
   "source": [
    "np.count_nonzero(intersetion_two_arrays(x>3, x==3))"
   ]
  },
  {
   "cell_type": "markdown",
   "id": "74d791a2-f101-4863-ad87-0bf09bf9c9a4",
   "metadata": {},
   "source": [
    "Trabajando con valores booleanos y pandas\n",
    "\n",
    "A and B = not(not(A) or not(B))"
   ]
  },
  {
   "cell_type": "code",
   "execution_count": 110,
   "id": "af481855-9292-4a16-a42e-6112f5f4a95b",
   "metadata": {},
   "outputs": [
    {
     "data": {
      "text/plain": [
       "(29, 29)"
      ]
     },
     "execution_count": 110,
     "metadata": {},
     "output_type": "execute_result"
    }
   ],
   "source": [
    "np.sum((inches > 0.5) & (inches < 1)), np.sum(~( (inches <= 0.5) | (inches >= 1) ))"
   ]
  },
  {
   "cell_type": "markdown",
   "id": "efd43a29-7f13-4d5e-84bc-632ef91f5d68",
   "metadata": {},
   "source": [
    "Filtrando valores"
   ]
  },
  {
   "cell_type": "code",
   "execution_count": 117,
   "id": "f5bcf302-aabd-4d2b-9f7e-05655ed01429",
   "metadata": {},
   "outputs": [
    {
     "data": {
      "text/plain": [
       "array([1, 2, 3, 4])"
      ]
     },
     "execution_count": 117,
     "metadata": {},
     "output_type": "execute_result"
    }
   ],
   "source": [
    "x[x < 5]"
   ]
  },
  {
   "cell_type": "code",
   "execution_count": 118,
   "id": "3007833c-718d-4d59-97e0-47eeb8681830",
   "metadata": {},
   "outputs": [
    {
     "name": "stdout",
     "output_type": "stream",
     "text": [
      "Promedio de precipitación en días lluviosos 2014:    0.19488188976377951\n",
      "Promedio de precipitación en días de verano 2014:   0.0\n",
      "Máxima precipitación en días de verano 2014:  0.8503937007874016\n",
      "Promedio de precipitación en días que no son de verano 2014: 0.20078740157480315\n"
     ]
    }
   ],
   "source": [
    "rainy = (inches > 0)\n",
    "\n",
    "# Filtrar valores Junio 21 aSeptiembre 21\n",
    "days = np.arange(365)\n",
    "summer = (days > 172) & (days < 262)\n",
    "\n",
    "print(\"Promedio de precipitación en días lluviosos 2014:   \",\n",
    "      np.median(inches[rainy]))\n",
    "print(\"Promedio de precipitación en días de verano 2014:  \",\n",
    "      np.median(inches[summer]))\n",
    "print(\"Máxima precipitación en días de verano 2014: \",\n",
    "      np.max(inches[summer]))\n",
    "print(\"Promedio de precipitación en días que no son de verano 2014:\",\n",
    "      np.median(inches[rainy & ~summer]))"
   ]
  },
  {
   "cell_type": "markdown",
   "id": "ef015fe9-81ae-4779-a1d1-38606c9e6eba",
   "metadata": {},
   "source": [
    "### Explorando la indexación elegante\n",
    "\n",
    "La indexación elegante es conceptualmente simple: significa pasar un arreglo de índices para acceder a varios \n",
    "elementos de la matriz a la vez. Por ejemplo, considere la siguiente matriz:"
   ]
  },
  {
   "cell_type": "code",
   "execution_count": 120,
   "id": "05bda967-741e-44ca-97c2-44b6afa8d58e",
   "metadata": {},
   "outputs": [
    {
     "name": "stdout",
     "output_type": "stream",
     "text": [
      "[51 92 14 71 60 20 82 86 74 74]\n"
     ]
    }
   ],
   "source": [
    "rand = np.random.RandomState(42)\n",
    "\n",
    "x = rand.randint(100, size=10)\n",
    "print(x)"
   ]
  },
  {
   "cell_type": "code",
   "execution_count": 121,
   "id": "64fa8f2f-2886-4350-bbb4-14341c5e9ca9",
   "metadata": {},
   "outputs": [
    {
     "name": "stdout",
     "output_type": "stream",
     "text": [
      "<class 'numpy.int64'>\n"
     ]
    },
    {
     "data": {
      "text/plain": [
       "([71, 86, 60], array([71, 86, 60]))"
      ]
     },
     "execution_count": 121,
     "metadata": {},
     "output_type": "execute_result"
    }
   ],
   "source": [
    "ind = [3, 7, 4]\n",
    "[x[3], x[7], x[4]], x[ind]"
   ]
  },
  {
   "cell_type": "code",
   "execution_count": 122,
   "id": "b0e44939-5aec-4763-83ca-0175a4d2e839",
   "metadata": {},
   "outputs": [
    {
     "data": {
      "text/plain": [
       "(array([[ 0,  1,  2,  3],\n",
       "        [ 4,  5,  6,  7],\n",
       "        [ 8,  9, 10, 11]]),\n",
       " array([ 2,  5, 11]))"
      ]
     },
     "execution_count": 122,
     "metadata": {},
     "output_type": "execute_result"
    }
   ],
   "source": [
    "X = np.arange(12).reshape((3, 4))\n",
    "row = np.array([0, 1, 2])\n",
    "col = np.array([2, 1, 3])\n",
    "X, X[row, col]"
   ]
  },
  {
   "cell_type": "markdown",
   "id": "d281bd12-5cce-4b5d-b541-1af939ac853f",
   "metadata": {},
   "source": [
    "Índices combinados"
   ]
  },
  {
   "cell_type": "code",
   "execution_count": 124,
   "id": "4aca7ed2-360b-4301-9c66-25422ca97423",
   "metadata": {},
   "outputs": [
    {
     "data": {
      "text/plain": [
       "(array([10,  8,  9]),\n",
       " array([[ 6,  4,  5],\n",
       "        [10,  8,  9]]))"
      ]
     },
     "execution_count": 124,
     "metadata": {},
     "output_type": "execute_result"
    }
   ],
   "source": [
    "X[2, [2, 0, 1]], X[1:, [2, 0, 1]]"
   ]
  },
  {
   "cell_type": "markdown",
   "id": "b1d0c491-f0b7-4f3f-8fac-2a251e9ce0e1",
   "metadata": {},
   "source": [
    "### Algoritmos de ordenamiento\n",
    "\n",
    "[1,0,4,2,-1] -> [-1,0,1,2,4]\n",
    "\n",
    "1 er paso \n",
    "\n",
    "[1,0,4,2,-1] []\n",
    "\n",
    "[1,0,4,2] [-1]\n",
    "\n",
    "[1,4,2] [-1,0]\n",
    "\n",
    "[4,2] [-1,0,1]\n",
    "\n",
    "[4] [-1,0,1,2]\n",
    "\n",
    "[] [-1,0,1,2,4]"
   ]
  },
  {
   "cell_type": "code",
   "execution_count": 130,
   "id": "2bcc3254-8dc0-4d33-8149-5802090a7d28",
   "metadata": {},
   "outputs": [
    {
     "data": {
      "text/plain": [
       "[-1, 0, 1, 2, 4]"
      ]
     },
     "execution_count": 130,
     "metadata": {},
     "output_type": "execute_result"
    }
   ],
   "source": [
    "def min_lista(lista):\n",
    "    minimo = min(lista)\n",
    "    lista.remove(minimo)\n",
    "    return minimo, lista\n",
    "\n",
    "def min_sort(lista, lista_ordeada=[]):\n",
    "    if len(lista)==0:\n",
    "        return lista_ordeada\n",
    "    else:\n",
    "        minimo, sublista = min_lista(lista)\n",
    "        lista_ordeada.append(minimo)\n",
    "        return min_sort(sublista, lista_ordeada)\n",
    "\n",
    "min_sort([1,0,4,2,-1])"
   ]
  },
  {
   "cell_type": "code",
   "execution_count": 131,
   "id": "64496b36-12f6-43f1-a45c-342b1587b24f",
   "metadata": {},
   "outputs": [],
   "source": [
    "def selection_sort(x):\n",
    "    for i in range(len(x)):\n",
    "        swap = i + np.argmin(x[i:])\n",
    "        (x[i], x[swap]) = (x[swap], x[i])\n",
    "    return x"
   ]
  },
  {
   "cell_type": "code",
   "execution_count": 132,
   "id": "87d72d67-0e0d-4335-b980-3a95ecd28473",
   "metadata": {},
   "outputs": [
    {
     "data": {
      "text/plain": [
       "array([1, 2, 3, 4, 5])"
      ]
     },
     "execution_count": 132,
     "metadata": {},
     "output_type": "execute_result"
    }
   ],
   "source": [
    "x = np.array([2, 1, 4, 3, 5])\n",
    "selection_sort(x)"
   ]
  },
  {
   "cell_type": "code",
   "execution_count": 133,
   "id": "3abce4f1-38ad-4458-964f-6dda10032dc5",
   "metadata": {},
   "outputs": [],
   "source": [
    "def bogosort(x):\n",
    "    while np.any(x[:-1] > x[1:]):\n",
    "        np.random.shuffle(x)\n",
    "    return x"
   ]
  },
  {
   "cell_type": "code",
   "execution_count": 134,
   "id": "b9d5abce-2f9e-44bf-bc1e-518ae5087df6",
   "metadata": {},
   "outputs": [
    {
     "data": {
      "text/plain": [
       "array([1, 2, 3, 4, 5])"
      ]
     },
     "execution_count": 134,
     "metadata": {},
     "output_type": "execute_result"
    }
   ],
   "source": [
    "x = np.array([2, 1, 4, 3, 5])\n",
    "bogosort(x)"
   ]
  },
  {
   "cell_type": "code",
   "execution_count": 15,
   "id": "24eb9765-65b3-4436-a276-c9cef58b3d3d",
   "metadata": {},
   "outputs": [
    {
     "data": {
      "text/plain": [
       "array([1, 2, 3, 4, 5])"
      ]
     },
     "execution_count": 15,
     "metadata": {},
     "output_type": "execute_result"
    }
   ],
   "source": [
    "x = np.array([2, 1, 4, 3, 5])\n",
    "np.sort(x)"
   ]
  },
  {
   "cell_type": "markdown",
   "id": "ca37c958-b01d-4db9-918a-8ba5a50cf59a",
   "metadata": {},
   "source": [
    "Referencia de vectorize y apply https://stackoverflow.com/questions/52673285/performance-of-pandas-apply-vs-np-vectorize-to-create-new-column-from-existing-c"
   ]
  },
  {
   "cell_type": "code",
   "execution_count": 138,
   "id": "430f299c-4530-4d10-85ff-93add3bdbd23",
   "metadata": {},
   "outputs": [
    {
     "name": "stdout",
     "output_type": "stream",
     "text": [
      "\n",
      "N=1000, df.apply: 0 sec, np.vectorize: 0 sec\n",
      "\n",
      "N=10000, df.apply: 0 sec, np.vectorize: 0 sec\n",
      "\n",
      "N=100000, df.apply: 2 sec, np.vectorize: 0 sec\n",
      "\n",
      "N=1000000, df.apply: 17 sec, np.vectorize: 0 sec\n"
     ]
    }
   ],
   "source": [
    "def divide(a, b):\n",
    "    if b == 0:\n",
    "        return 0.0\n",
    "    return float(a)/b\n",
    "\n",
    "for N in [1000, 10000, 100000, 1000000]:    \n",
    "\n",
    "    print ('')\n",
    "    A_list = np.random.randint(1, 100, N)\n",
    "    B_list = np.random.randint(1, 100, N)\n",
    "    df = pd.DataFrame({'A': A_list, 'B': B_list})\n",
    "\n",
    "    start_epoch_sec = int(time.time())\n",
    "    df['result'] = df.apply(lambda row: divide(row['A'], row['B']), axis=1)\n",
    "    end_epoch_sec = int(time.time())\n",
    "    result_apply = end_epoch_sec - start_epoch_sec\n",
    "\n",
    "    start_epoch_sec = int(time.time())\n",
    "    df['result2'] = np.vectorize(divide)(df['A'], df['B'])\n",
    "    end_epoch_sec = int(time.time())\n",
    "    result_vectorize = end_epoch_sec - start_epoch_sec\n",
    "\n",
    "\n",
    "    print ('N=%d, df.apply: %d sec, np.vectorize: %d sec' % \\\n",
    "            (N, result_apply, result_vectorize))\n"
   ]
  },
  {
   "cell_type": "code",
   "execution_count": 141,
   "id": "2be2614b-89f5-4d49-871a-92bf01cf0f97",
   "metadata": {},
   "outputs": [
    {
     "name": "stdout",
     "output_type": "stream",
     "text": [
      "58.2 ms ± 805 µs per loop (mean ± std. dev. of 7 runs, 10 loops each)\n",
      "70.5 µs ± 876 ns per loop (mean ± std. dev. of 7 runs, 10000 loops each)\n",
      "74.2 µs ± 1.16 µs per loop (mean ± std. dev. of 7 runs, 10000 loops each)\n"
     ]
    }
   ],
   "source": [
    "big_array = np.random.rand(10000)\n",
    "\n",
    "%timeit selection_sort(big_array)\n",
    "#%timeit min_sort(big_array)\n",
    "%timeit big_array.sort()\n",
    "%timeit np.sort(big_array)"
   ]
  },
  {
   "cell_type": "markdown",
   "id": "fa587337-bbf8-4298-8b31-9c5955cd1959",
   "metadata": {},
   "source": [
    "### Datos estructurados: arreglos estructurados de NumPy"
   ]
  },
  {
   "cell_type": "markdown",
   "id": "d9bbac27-c5bc-4b4b-9985-7c44d5049e91",
   "metadata": {},
   "source": [
    "Si bien a menudo nuestros datos pueden estar bien representados por una matriz homogénea de valores, a veces este no es el caso. Esta sección demuestra el uso de matrices estructuradas y matrices de registros de NumPy, que brindan un almacenamiento eficiente para datos compuestos y heterogéneos."
   ]
  },
  {
   "cell_type": "code",
   "execution_count": 142,
   "id": "4bd6c1ae-d6a1-42dc-9d40-fc449e418b9a",
   "metadata": {},
   "outputs": [],
   "source": [
    "name = ['Alice', 'Bob', 'Cathy', 'Doug']\n",
    "age = [25, 45, 37, 19]\n",
    "weight = [55.0, 85.5, 68.0, 61.5]"
   ]
  },
  {
   "cell_type": "code",
   "execution_count": 151,
   "id": "35483ff9-a97e-4361-99ee-fbd36da017f7",
   "metadata": {},
   "outputs": [
    {
     "name": "stdout",
     "output_type": "stream",
     "text": [
      "[('name', '<U10'), ('age', '<i4'), ('weight', '<f8')]\n"
     ]
    }
   ],
   "source": [
    "data = np.zeros(4, dtype={'names':('name', 'age', 'weight'),\n",
    "                          'formats':('U10', 'i4', 'f8')})\n",
    "print(data.dtype)"
   ]
  },
  {
   "cell_type": "code",
   "execution_count": 152,
   "id": "a09a2b3b-afe3-423d-94a5-04680b13fe1b",
   "metadata": {},
   "outputs": [
    {
     "name": "stdout",
     "output_type": "stream",
     "text": [
      "[('Alice', 25, 55. ) ('Bob', 45, 85.5) ('Cathy', 37, 68. )\n",
      " ('Doug', 19, 61.5)]\n"
     ]
    }
   ],
   "source": [
    "data['name'] = name\n",
    "data['age'] = age\n",
    "data['weight'] = weight\n",
    "print(data)"
   ]
  },
  {
   "cell_type": "code",
   "execution_count": 154,
   "id": "ebf125b0-3abe-4d53-b212-0510e1362a19",
   "metadata": {},
   "outputs": [
    {
     "data": {
      "text/plain": [
       "array(['Alice', 'Doug'], dtype='<U10')"
      ]
     },
     "execution_count": 154,
     "metadata": {},
     "output_type": "execute_result"
    }
   ],
   "source": [
    "data[data['age'] < 30]['name']"
   ]
  },
  {
   "cell_type": "markdown",
   "id": "91c8b35f-957b-4f44-a249-72bfca829bf4",
   "metadata": {},
   "source": [
    "## Manipulación de Datos con Pandas"
   ]
  },
  {
   "cell_type": "code",
   "execution_count": 3,
   "id": "4e6ec03d-3cc3-4765-85a2-c75becb317fc",
   "metadata": {},
   "outputs": [
    {
     "data": {
      "text/plain": [
       "0    0.25\n",
       "1    0.50\n",
       "2    0.75\n",
       "3    1.00\n",
       "dtype: float64"
      ]
     },
     "execution_count": 3,
     "metadata": {},
     "output_type": "execute_result"
    }
   ],
   "source": [
    "data = pd.Series([0.25, 0.5, 0.75, 1.0])\n",
    "data"
   ]
  },
  {
   "cell_type": "code",
   "execution_count": 4,
   "id": "70910463-0e0c-4a1c-838d-6a46d57c2c20",
   "metadata": {},
   "outputs": [
    {
     "data": {
      "text/plain": [
       "array([0.25, 0.5 , 0.75, 1.  ])"
      ]
     },
     "execution_count": 4,
     "metadata": {},
     "output_type": "execute_result"
    }
   ],
   "source": [
    "data.values"
   ]
  },
  {
   "cell_type": "markdown",
   "id": "f1c3ca94-0587-4ce6-9522-c936bd0a2f55",
   "metadata": {},
   "source": [
    "data[1], data[1:3]"
   ]
  },
  {
   "cell_type": "code",
   "execution_count": 6,
   "id": "a34b7e54-8032-4619-84cf-74fa6b58f160",
   "metadata": {},
   "outputs": [
    {
     "data": {
      "text/plain": [
       "a    0.25\n",
       "b    0.50\n",
       "c    0.75\n",
       "d    1.00\n",
       "dtype: float64"
      ]
     },
     "execution_count": 6,
     "metadata": {},
     "output_type": "execute_result"
    }
   ],
   "source": [
    "data = pd.Series([0.25, 0.5, 0.75, 1.0],\n",
    "                 index=['a', 'b', 'c', 'd'])\n",
    "data"
   ]
  },
  {
   "cell_type": "code",
   "execution_count": 7,
   "id": "fa178445-f0c9-41e0-9f93-d2f608165d4a",
   "metadata": {},
   "outputs": [
    {
     "data": {
      "text/plain": [
       "0.5"
      ]
     },
     "execution_count": 7,
     "metadata": {},
     "output_type": "execute_result"
    }
   ],
   "source": [
    "data['b']"
   ]
  },
  {
   "cell_type": "code",
   "execution_count": 8,
   "id": "0ecea7d9-4ac2-4b88-8660-b2669096f172",
   "metadata": {},
   "outputs": [
    {
     "data": {
      "text/plain": [
       "2    0.25\n",
       "5    0.50\n",
       "3    0.75\n",
       "7    1.00\n",
       "dtype: float64"
      ]
     },
     "execution_count": 8,
     "metadata": {},
     "output_type": "execute_result"
    }
   ],
   "source": [
    "data = pd.Series([0.25, 0.5, 0.75, 1.0],\n",
    "                 index=[2, 5, 3, 7])\n",
    "data"
   ]
  },
  {
   "cell_type": "code",
   "execution_count": 9,
   "id": "5fa1deb0-8168-424a-a656-1254241a627b",
   "metadata": {},
   "outputs": [
    {
     "data": {
      "text/plain": [
       "0.5"
      ]
     },
     "execution_count": 9,
     "metadata": {},
     "output_type": "execute_result"
    }
   ],
   "source": [
    "data[5]"
   ]
  },
  {
   "cell_type": "markdown",
   "id": "3de3cb8b-40cc-4416-807b-e1b1e47b6a50",
   "metadata": {},
   "source": [
    "### Series de diccionarios"
   ]
  },
  {
   "cell_type": "code",
   "execution_count": 11,
   "id": "8003ed8c-1c5e-47cf-8db1-3ca5957cd710",
   "metadata": {},
   "outputs": [
    {
     "data": {
      "text/plain": [
       "California    38332521\n",
       "Texas         26448193\n",
       "New York      19651127\n",
       "Florida       19552860\n",
       "Illinois      12882135\n",
       "dtype: int64"
      ]
     },
     "execution_count": 11,
     "metadata": {},
     "output_type": "execute_result"
    }
   ],
   "source": [
    "population_dict = {'California': 38332521,\n",
    "                   'Texas': 26448193,\n",
    "                   'New York': 19651127,\n",
    "                   'Florida': 19552860,\n",
    "                   'Illinois': 12882135}\n",
    "population = pd.Series(population_dict)\n",
    "population"
   ]
  },
  {
   "cell_type": "code",
   "execution_count": 12,
   "id": "20826f33-4ead-4a4a-a256-532bc4277022",
   "metadata": {},
   "outputs": [
    {
     "data": {
      "text/plain": [
       "(38332521,\n",
       " California    38332521\n",
       " Texas         26448193\n",
       " New York      19651127\n",
       " Florida       19552860\n",
       " Illinois      12882135\n",
       " dtype: int64)"
      ]
     },
     "execution_count": 12,
     "metadata": {},
     "output_type": "execute_result"
    }
   ],
   "source": [
    "population['California'], population['California':'Illinois']"
   ]
  },
  {
   "cell_type": "code",
   "execution_count": 13,
   "id": "8248fccf-8280-4c84-abc0-0dc2796271f6",
   "metadata": {},
   "outputs": [
    {
     "data": {
      "text/plain": [
       "California    423967\n",
       "Texas         695662\n",
       "New York      141297\n",
       "Florida       170312\n",
       "Illinois      149995\n",
       "dtype: int64"
      ]
     },
     "execution_count": 13,
     "metadata": {},
     "output_type": "execute_result"
    }
   ],
   "source": [
    "#pd.Series(data, index=index)\n",
    "area_dict = {'California': 423967, 'Texas': 695662, 'New York': 141297,\n",
    "             'Florida': 170312, 'Illinois': 149995}\n",
    "area = pd.Series(area_dict)\n",
    "area\n"
   ]
  },
  {
   "cell_type": "code",
   "execution_count": 29,
   "id": "833b8221-c90b-4c70-96f5-3eb7adc84d74",
   "metadata": {},
   "outputs": [
    {
     "data": {
      "text/plain": [
       "California    1\n",
       "Texas         1\n",
       "New York      0\n",
       "Florida       1\n",
       "Illinois      0\n",
       "dtype: int64"
      ]
     },
     "execution_count": 29,
     "metadata": {},
     "output_type": "execute_result"
    }
   ],
   "source": [
    "#pd.Series(data, index=index)\n",
    "south_dict = {'California': 1, 'Texas': 1, 'New York': 0,\n",
    "             'Florida': 1, 'Illinois': 0}\n",
    "south = pd.Series(south_dict)\n",
    "south"
   ]
  },
  {
   "cell_type": "code",
   "execution_count": 34,
   "id": "c54e2a83-9e9c-4c94-961f-39f63e76898c",
   "metadata": {},
   "outputs": [
    {
     "data": {
      "text/html": [
       "<div>\n",
       "<style scoped>\n",
       "    .dataframe tbody tr th:only-of-type {\n",
       "        vertical-align: middle;\n",
       "    }\n",
       "\n",
       "    .dataframe tbody tr th {\n",
       "        vertical-align: top;\n",
       "    }\n",
       "\n",
       "    .dataframe thead th {\n",
       "        text-align: right;\n",
       "    }\n",
       "</style>\n",
       "<table border=\"1\" class=\"dataframe\">\n",
       "  <thead>\n",
       "    <tr style=\"text-align: right;\">\n",
       "      <th></th>\n",
       "      <th>population</th>\n",
       "      <th>area</th>\n",
       "      <th>south</th>\n",
       "    </tr>\n",
       "  </thead>\n",
       "  <tbody>\n",
       "    <tr>\n",
       "      <th>California</th>\n",
       "      <td>38332521</td>\n",
       "      <td>423967</td>\n",
       "      <td>1</td>\n",
       "    </tr>\n",
       "    <tr>\n",
       "      <th>Texas</th>\n",
       "      <td>26448193</td>\n",
       "      <td>695662</td>\n",
       "      <td>1</td>\n",
       "    </tr>\n",
       "    <tr>\n",
       "      <th>New York</th>\n",
       "      <td>19651127</td>\n",
       "      <td>141297</td>\n",
       "      <td>0</td>\n",
       "    </tr>\n",
       "    <tr>\n",
       "      <th>Florida</th>\n",
       "      <td>19552860</td>\n",
       "      <td>170312</td>\n",
       "      <td>1</td>\n",
       "    </tr>\n",
       "    <tr>\n",
       "      <th>Illinois</th>\n",
       "      <td>12882135</td>\n",
       "      <td>149995</td>\n",
       "      <td>0</td>\n",
       "    </tr>\n",
       "  </tbody>\n",
       "</table>\n",
       "</div>"
      ],
      "text/plain": [
       "            population    area  south\n",
       "California    38332521  423967      1\n",
       "Texas         26448193  695662      1\n",
       "New York      19651127  141297      0\n",
       "Florida       19552860  170312      1\n",
       "Illinois      12882135  149995      0"
      ]
     },
     "execution_count": 34,
     "metadata": {},
     "output_type": "execute_result"
    }
   ],
   "source": [
    "states = pd.DataFrame({'population': population,\n",
    "                       'area': area,\n",
    "                      'south': south})\n",
    "states"
   ]
  },
  {
   "cell_type": "code",
   "execution_count": 35,
   "id": "35ed3260-2e70-4b85-8c51-d30e280bab64",
   "metadata": {},
   "outputs": [
    {
     "data": {
      "text/plain": [
       "Index(['population', 'area', 'south'], dtype='object')"
      ]
     },
     "execution_count": 35,
     "metadata": {},
     "output_type": "execute_result"
    }
   ],
   "source": [
    "states.columns"
   ]
  },
  {
   "cell_type": "markdown",
   "id": "64fde07f-a7b1-4ba4-89e8-75cbb5ed41e0",
   "metadata": {},
   "source": [
    "Series es una matriz etiquetada unidimensional capaz de contener cualquier tipo de datos (enteros, cadenas, números de punto flotante, objetos de Python, etc.). Las etiquetas de eje se denominan colectivamente como el índice.\n",
    "\n",
    "DataFrame es una estructura de datos etiquetada bidimensional con columnas de tipos potencialmente diferentes."
   ]
  },
  {
   "cell_type": "markdown",
   "id": "de46865a-3fa8-4612-8bd8-2e1dc04f70a7",
   "metadata": {},
   "source": [
    "\n",
    "Aggregation     |     Description           |\n",
    "\n",
    "count()         |     Total number of items |\n",
    "\n",
    "first(), last()  |    First and last item   |\n",
    "\n",
    "mean(), median()  |    Mean and median      |\n",
    "\n",
    "min(), max()     |    Minimum and maximum   |\n",
    "\n",
    "std(), var()     |    Standard deviation    \n",
    "                        and variance\n",
    "\n",
    "mad()            |    Mean absolute deviation |\n",
    "\n",
    "prod()           |    Product of all items    |\n",
    "\n",
    "sum()            |   Sum of all items         |"
   ]
  },
  {
   "cell_type": "code",
   "execution_count": 39,
   "id": "daa108e2-a183-4de7-b4d9-d6c76c8f8e0a",
   "metadata": {},
   "outputs": [
    {
     "data": {
      "text/html": [
       "<div>\n",
       "<style scoped>\n",
       "    .dataframe tbody tr th:only-of-type {\n",
       "        vertical-align: middle;\n",
       "    }\n",
       "\n",
       "    .dataframe tbody tr th {\n",
       "        vertical-align: top;\n",
       "    }\n",
       "\n",
       "    .dataframe thead th {\n",
       "        text-align: right;\n",
       "    }\n",
       "</style>\n",
       "<table border=\"1\" class=\"dataframe\">\n",
       "  <thead>\n",
       "    <tr style=\"text-align: right;\">\n",
       "      <th></th>\n",
       "      <th>population</th>\n",
       "      <th>area</th>\n",
       "      <th>south</th>\n",
       "    </tr>\n",
       "  </thead>\n",
       "  <tbody>\n",
       "    <tr>\n",
       "      <th>New York</th>\n",
       "      <td>19651127</td>\n",
       "      <td>141297</td>\n",
       "      <td>0</td>\n",
       "    </tr>\n",
       "    <tr>\n",
       "      <th>Illinois</th>\n",
       "      <td>12882135</td>\n",
       "      <td>149995</td>\n",
       "      <td>0</td>\n",
       "    </tr>\n",
       "  </tbody>\n",
       "</table>\n",
       "</div>"
      ],
      "text/plain": [
       "          population    area  south\n",
       "New York    19651127  141297      0\n",
       "Illinois    12882135  149995      0"
      ]
     },
     "execution_count": 39,
     "metadata": {},
     "output_type": "execute_result"
    }
   ],
   "source": [
    "# Se puede agregar varias columnas para agrupar.\n",
    "state_south = states.groupby('south')\n",
    "state_south.get_group(0)\n"
   ]
  },
  {
   "cell_type": "code",
   "execution_count": null,
   "id": "45e03f9a-84c8-487c-9169-5f0a4cb6a938",
   "metadata": {},
   "outputs": [],
   "source": []
  }
 ],
 "metadata": {
  "kernelspec": {
   "display_name": "Python 3",
   "language": "python",
   "name": "python3"
  },
  "language_info": {
   "codemirror_mode": {
    "name": "ipython",
    "version": 3
   },
   "file_extension": ".py",
   "mimetype": "text/x-python",
   "name": "python",
   "nbconvert_exporter": "python",
   "pygments_lexer": "ipython3",
   "version": "3.8.2"
  }
 },
 "nbformat": 4,
 "nbformat_minor": 5
}
