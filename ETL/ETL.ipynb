{
 "cells": [
  {
   "cell_type": "markdown",
   "id": "ed53676a-8111-467e-ad6e-b4200244b106",
   "metadata": {},
   "source": [
    "\n",
    "<a href=\"https://colab.research.google.com/drive/1E6EBkVrgkr8iWlUB958b_VUyTnK9YdpA\" target=\"_parent\"><img src=\"https://colab.research.google.com/assets/colab-badge.svg\" alt=\"Open In Colab\"/></a>\n"
   ]
  },
  {
   "cell_type": "markdown",
   "id": "a66e35f9-e9f8-456d-bea3-6f1d9d341b26",
   "metadata": {},
   "source": [
    "### Árboles binarios"
   ]
  },
  {
   "cell_type": "code",
   "execution_count": 7,
   "id": "00b3d59a-086f-4ed2-827d-f021155899de",
   "metadata": {},
   "outputs": [
    {
     "name": "stdout",
     "output_type": "stream",
     "text": [
      "WARNING: pip is being invoked by an old script wrapper. This will fail in a future version of pip.\n",
      "Please see https://github.com/pypa/pip/issues/5599 for advice on fixing the underlying issue.\n",
      "To avoid this problem you can invoke Python with '-m pip' instead of running pip directly.\n",
      "/home/gibran/.local/lib/python3.8/site-packages/secretstorage/dhcrypto.py:16: CryptographyDeprecationWarning: int_from_bytes is deprecated, use int.from_bytes instead\n",
      "  from cryptography.utils import int_from_bytes\n",
      "/home/gibran/.local/lib/python3.8/site-packages/secretstorage/util.py:25: CryptographyDeprecationWarning: int_from_bytes is deprecated, use int.from_bytes instead\n",
      "  from cryptography.utils import int_from_bytes\n",
      "Collecting binarytree\n",
      "  Downloading binarytree-6.5.1-py3-none-any.whl (18 kB)\n",
      "Requirement already satisfied: graphviz in /home/gibran/.pyenv/versions/3.8.2/lib/python3.8/site-packages (from binarytree) (0.19.1)\n",
      "Collecting setuptools-scm[toml]>=5.0.1\n",
      "  Downloading setuptools_scm-6.4.2-py3-none-any.whl (37 kB)\n",
      "Requirement already satisfied: packaging>=20.0 in /home/gibran/.local/lib/python3.8/site-packages (from setuptools-scm[toml]>=5.0.1->binarytree) (20.4)\n",
      "Requirement already satisfied: tomli>=1.0.0 in /home/gibran/.pyenv/versions/3.8.2/lib/python3.8/site-packages (from setuptools-scm[toml]>=5.0.1->binarytree) (1.2.3)\n",
      "Requirement already satisfied: pyparsing>=2.0.2 in /home/gibran/.pyenv/versions/3.8.2/lib/python3.8/site-packages (from packaging>=20.0->setuptools-scm[toml]>=5.0.1->binarytree) (2.1.10)\n",
      "Requirement already satisfied: six in /home/gibran/.pyenv/versions/3.8.2/lib/python3.8/site-packages (from packaging>=20.0->setuptools-scm[toml]>=5.0.1->binarytree) (1.16.0)\n",
      "Collecting setuptools>=60.8.2\n",
      "  Using cached setuptools-62.1.0-py3-none-any.whl (1.1 MB)\n",
      "Installing collected packages: setuptools, setuptools-scm, binarytree\n",
      "  Attempting uninstall: setuptools\n",
      "    Found existing installation: setuptools 41.2.0\n",
      "    Uninstalling setuptools-41.2.0:\n",
      "      Successfully uninstalled setuptools-41.2.0\n",
      "Successfully installed binarytree-6.5.1 setuptools-62.1.0 setuptools-scm-6.4.2\n",
      "\u001b[33mWARNING: You are using pip version 20.3.3; however, version 22.0.4 is available.\n",
      "You should consider upgrading via the '/home/gibran/.pyenv/versions/3.8.2/bin/python3.8 -m pip install --upgrade pip' command.\u001b[0m\n"
     ]
    }
   ],
   "source": [
    "!pip install binarytree"
   ]
  },
  {
   "cell_type": "code",
   "execution_count": 1,
   "id": "db367710-8d3a-4a18-8263-b672c29838b6",
   "metadata": {},
   "outputs": [],
   "source": [
    "from binarytree import Node\n",
    "from binarytree import build\n",
    "import numpy as np\n",
    "import pandas as pd\n",
    "import time"
   ]
  },
  {
   "cell_type": "code",
   "execution_count": 2,
   "id": "1841b8a7-a023-46bb-8fa0-853c61b93a44",
   "metadata": {},
   "outputs": [
    {
     "name": "stdout",
     "output_type": "stream",
     "text": [
      "Árbol binario : \n",
      "  3\n",
      " / \\\n",
      "6   8\n",
      "\n",
      "Lista de nodos : [Node(3), Node(6), Node(8)]\n",
      "Inorder de nodos : [Node(6), Node(3), Node(8)]\n",
      "tamano de árbol : 3\n",
      "Altura de árbol : 1\n",
      "Propiedades del árbol : \n",
      " {'height': 1, 'size': 3, 'is_max_heap': False, 'is_min_heap': True, 'is_perfect': True, 'is_strict': True, 'is_complete': True, 'leaf_count': 2, 'min_node_value': 3, 'max_node_value': 8, 'min_leaf_depth': 1, 'max_leaf_depth': 1, 'is_balanced': True, 'is_bst': False, 'is_symmetric': False}\n"
     ]
    }
   ],
   "source": [
    "root = Node(3)\n",
    "root.left = Node(6)\n",
    "root.right = Node(8)\n",
    " \n",
    "# árbol binario\n",
    "print('Árbol binario :', root)\n",
    " \n",
    "# Lista de nodos\n",
    "print('Lista de nodos :', list(root))\n",
    " \n",
    "# recorrido inorder de nodos \n",
    "print('Inorder de nodos :', root.inorder)\n",
    " \n",
    "# Propiedades de árboles\n",
    "print('tamano de árbol :', root.size)\n",
    "print('Altura de árbol :', root.height)\n",
    " \n",
    "# Obten todas las propiedades\n",
    "print('Propiedades del árbol : \\n', root.properties)"
   ]
  },
  {
   "cell_type": "code",
   "execution_count": 3,
   "id": "5f8cb646-7225-4f16-9b16-64606c38afae",
   "metadata": {},
   "outputs": [
    {
     "name": "stdout",
     "output_type": "stream",
     "text": [
      "Lista del árbolo binario :\n",
      " \n",
      "    ___3\n",
      "   /    \\\n",
      "  6      8\n",
      " / \\      \\\n",
      "2   11     13\n",
      "\n",
      "\n",
      "Lista del árbol binario : [3, 6, 8, 2, 11, None, 13]\n"
     ]
    }
   ],
   "source": [
    "nodes = [3, 6, 8, 2, 11, None, 13]\n",
    " \n",
    "binary_tree = build(nodes)\n",
    "\n",
    "print('Lista del árbolo binario :\\n',\n",
    "      binary_tree)\n",
    " \n",
    "print('\\nLista del árbol binario :',\n",
    "      binary_tree.values)"
   ]
  },
  {
   "cell_type": "markdown",
   "id": "b62b40c6-cabf-4eb8-908c-960b21a782f4",
   "metadata": {},
   "source": [
    "Join Zoom Meeting\n",
    "https://cuaieed-unam.zoom.us/j/9898924040?pwd=Q2gwcnYyek9GUTlhVHZIMk1waElMdz09\n",
    "\n",
    "Meeting ID: 989 892 4040\n",
    "Passcode: 527043\n",
    "### Expresiones regulares\n",
    "1. Símbolo de escape:\n",
    "    \\\n",
    " 2. Agrupación o captura:\n",
    "    (...) (?:...) (?=...) (?!...) (?<=...) (?<!...)\n",
    " 3. Cantidad (cuantificadores)\n",
    "    a* a+ a? a{n, m}\n",
    " 4. Secuencia y ancla\n",
    "    abc ^ $ \\b \\B\n",
    " 5. O (alternancia)\n",
    "    a|b|c\n",
    " 6. Átomos\n",
    "    a [^abc] \\t \\r \\n \\d \\D \\s \\S \\w \\W .\n",
    "\n"
   ]
  },
  {
   "cell_type": "markdown",
   "id": "38756171-2690-4ac5-a387-1242044ae078",
   "metadata": {},
   "source": [
    "\\ d Cualquier número; equivalente a [0-9]\n",
    "\n",
    " \\ D Cualquier que no sea un dígito; equivalente a [^ 0-9]\n",
    " \n",
    " \\ w Cualquier carácter literal; equivalente a [a-zA-Z0-9_]\n",
    " \n",
    " \\ W Cualquier carácter no literal; equivalente a [^ a-zA-Z0-9_]\n",
    " \n",
    " \\ s Cualquier espacio en blanco; equivalente a [\\ f \\ n \\ r \\ t \\ v] (tenga en cuenta que el primer carácter entre corchetes es un símbolo de espacio)\n",
    " \n",
    " \\ S Cualquier que no esté en blanco; equivalente a [^ \\ f \\ n \\ r \\ t \\ v] (tenga en cuenta que inmediatamente después de ^ hay un símbolo de espacio)\n",
    " \n",
    " . Cualquier carácter excepto \\ r \\ n; equivalente a [^ \\ r \\ n]\n"
   ]
  },
  {
   "cell_type": "code",
   "execution_count": 4,
   "id": "56d2ba79-35b3-4b63-9caa-b737d64cdbe1",
   "metadata": {},
   "outputs": [
    {
     "name": "stdout",
     "output_type": "stream",
     "text": [
      "['542-4256', '270-9664']\n"
     ]
    }
   ],
   "source": [
    "import re\n",
    "\n",
    "str = '<dl>(843) 542-4256</dl> <dl>(431) 270-9664</dl>'\n",
    "# Busque todos los caracteres en el formato \"número-número\" en la cadena, donde el primer número es de tres dígitos y el segundo número es de cuatro dígitos\n",
    "pttn = r'\\d\\d\\d\\-\\d\\d\\d\\d'\n",
    "print(re.findall(pttn, str))"
   ]
  },
  {
   "cell_type": "code",
   "execution_count": 5,
   "id": "f36cd053-5a76-4ea6-b133-8855cccfe4aa",
   "metadata": {},
   "outputs": [
    {
     "name": "stdout",
     "output_type": "stream",
     "text": [
      "['er', 'er', 'er']\n",
      "['er', 'er']\n"
     ]
    }
   ],
   "source": [
    "str = 'never ever verb however everest'\n",
    "pttn = r'er\\b'\n",
    "print(re.findall(pttn, str))\n",
    "pttn = r'er\\B'\n",
    "print(re.findall(pttn, str))\n"
   ]
  },
  {
   "cell_type": "markdown",
   "id": "188b7cbb-e30c-405c-87f1-d58693e5f0d5",
   "metadata": {},
   "source": [
    "^ Coincide con la posición inicial de la cadena buscada;\n",
    "\n",
    " $ Coincide con la posición final de la cadena buscada;\n",
    "    \n",
    " \\ b coincide con el límite de una palabra; er \\ b puede coincidir con er en el codificador, pero no puede coincidir con er por error;\n",
    "\n",
    " \\ B coincide con un límite sin palabras; er \\ B puede coincidir con er por error, pero no en el codificador.\n"
   ]
  },
  {
   "cell_type": "markdown",
   "id": "206f5e16-577f-4aba-9ba8-9f5c2c102bcc",
   "metadata": {},
   "source": [
    "+ Significa que el átomo anterior debe aparecer al menos una vez, es decir: número de apariciones ≧ 1\n",
    " ? Indica que el átomo anterior solo puede aparecer una vez como máximo, es decir: 0 ≦ número de ocurrencias ≦ 1\n",
    " * Representa que el átomo anterior puede no aparecer, o aparecer una o más veces, es decir: número de apariciones ≧ 0\n",
    " {n} representa n veces que aparece el átomo anterior;\n",
    " {n,} significa que el átomo anterior aparece al menos n veces;\n",
    " {n, m} significa que el átomo anterior aparece al menos n veces y como máximo m veces"
   ]
  },
  {
   "cell_type": "code",
   "execution_count": 6,
   "id": "fccbd343-e6fe-4c07-8376-f6da31239b54",
   "metadata": {},
   "outputs": [
    {
     "name": "stdout",
     "output_type": "stream",
     "text": [
      "primero\n",
      "['gogle']\n",
      "['gogle']\n",
      "['gogle']\n",
      "cuarto\n",
      "[]\n",
      "['go']\n",
      "primero\n",
      "['google']\n",
      "[]\n",
      "[]\n",
      "cuarto\n",
      "['google']\n",
      "[]\n",
      "primero\n",
      "['gooogle']\n",
      "[]\n",
      "[]\n",
      "cuarto\n",
      "['gooogle']\n",
      "[]\n",
      "primero\n",
      "['goooogle']\n",
      "[]\n",
      "[]\n",
      "cuarto\n",
      "['goooogle']\n",
      "[]\n",
      "primero\n",
      "['goooooogle']\n",
      "[]\n",
      "[]\n",
      "cuarto\n",
      "[]\n",
      "[]\n"
     ]
    }
   ],
   "source": [
    "# Match string\n",
    "str = ['gogle','google', 'gooogle', 'goooogle', 'goooooogle']\n",
    "\n",
    " # Atraviesa la cuerda\n",
    "for str_per in str:\n",
    "         # o aparece al menos una vez \n",
    "    pttn = r'go+gle'\n",
    "    print(\"primero\")\n",
    "    print(re.findall(pttn, str_per))\n",
    "    \n",
    "         # o aparece como máximo una vez \n",
    "    pttn = r'go?gle'\n",
    "    print(re.findall(pttn, str_per))\n",
    "\n",
    "         # o Número de ocurrencias ≧ 0\n",
    "    pttn = r'go?gle'\n",
    "    print(re.findall(pttn, str_per))\n",
    "    \n",
    "         # o aparece al menos 2 veces y como máximo 5 veces\n",
    "    print(\"cuarto\")\n",
    "    pttn = r'go{2,5}gle'\n",
    "    print(re.findall(pttn, str_per))\n",
    "    \n",
    "         # Advance: combinación simultánea de átomos\n",
    "         # go o aparece al menos una vez\n",
    "    pttn = r'[go]+gle'\n",
    "    \n",
    "         # go aparece al menos una vez\n",
    "    pttn = r'(go)+gle'\n",
    "    print(re.findall(pttn, str_per))"
   ]
  },
  {
   "cell_type": "markdown",
   "id": "da85d27b-55ca-4fc7-b6b9-fe66cf801cbb",
   "metadata": {},
   "source": [
    "1. Entendimiento del negocio: Determinar los objetivos del negocio, cuáles son sus necesidades y lo que se desea abarcar.\n",
    "\n",
    "2. Entendimiento de los datos: De acuerdo a la fase anterior, con que datos cuento, que datos son útiles y cuáles necesito.\n",
    "\n",
    "3. Preparación de datos: En esta fase se exploran los datos, se manipulan y se limpian, se hace la unión entre lo que quiere/necesita el negocio con los datos con los que cuenta la organización\n",
    "\n",
    "4. Modelamiento: Teniendo en cuenta los puntos anteriores se realiza el análisis y se obtienen resultados.\n",
    "\n",
    "5. Evaluación: Una vez se obtienen los resultados se evalúa el modelo teniendo en cuenta el objetivo del análisis\n",
    "\n",
    "6. Despliegue: Una vez validado el modelo se realiza la implementación en producción, así como monitoreo y mantenimiento."
   ]
  },
  {
   "cell_type": "markdown",
   "id": "af90622e-0424-48b6-95a7-84c65e8f48d2",
   "metadata": {},
   "source": [
    "![python-ecosystem](https://miro.medium.com/max/1400/0*qc2yUKqzRGIfpICx.png)\n",
    "<div style=\"text-align: center\"> https://lauralpezb.medium.com/</div>"
   ]
  },
  {
   "cell_type": "markdown",
   "id": "1c70c0f7-bedf-4d82-83d4-7ca579c00e2a",
   "metadata": {},
   "source": [
    "### Los fundamentos de las matrices NumPy"
   ]
  },
  {
   "cell_type": "markdown",
   "id": "b2422270-1aa7-46d7-8cf8-3d1c40372325",
   "metadata": {},
   "source": [
    "La manipulación de datos en Python es casi sinónimo de la manipulación de matrices NumPy: incluso las herramientas más nuevas, como Pandas (Capítulo 3), se construyen alrededor de la matriz NumPy. Esta sección presentará varios ejemplos del uso de la manipulación de arreglos NumPy para acceder a datos y subarreglos, y para dividir, remodelar y unir los arreglos. Si bien los tipos de operaciones que se muestran aquí pueden parecer un poco áridos y pedantes, comprenden los componentes básicos de muchos otros ejemplos que se usan a lo largo del libro. ¡Conócelos bien!\n",
    "\n",
    "Cubriremos algunas categorías de manipulaciones básicas de matrices aquí:\n",
    "\n",
    "Atributos de los arreglos: determinación del tamaño, la forma, el consumo de memoria y los tipos de datos de los arreglos\n",
    "Indexación de arreglos: Obtener y establecer el valor de elementos de arreglo individuales\n",
    "Segmentación de arreglos: obtención y configuración de subarreglos más pequeños dentro de un arreglo más grande\n",
    "Remodelación de arreglos: Cambiar la forma de un arreglo dado\n",
    "Unión y división de arreglos: combinación de múltiples arreglos en uno y división de un arreglo en muchos"
   ]
  },
  {
   "cell_type": "code",
   "execution_count": 7,
   "id": "5bed6e55-1774-4cfa-b237-07e886b64976",
   "metadata": {},
   "outputs": [],
   "source": [
    "np.random.seed(0)\n",
    "\n",
    "x1 = np.random.randint(10, size=6)  # dim 1\n",
    "x2 = np.random.randint(10, size=(3, 4))  # dim 2\n",
    "x3 = np.random.randint(10, size=(3, 4, 5))  # dim 3"
   ]
  },
  {
   "cell_type": "code",
   "execution_count": 8,
   "id": "4a8958ec-a9f9-4744-bc55-a6a0ffd309ae",
   "metadata": {},
   "outputs": [
    {
     "data": {
      "text/plain": [
       "(array([5, 0, 3, 3, 7, 9]),\n",
       " array([[3, 5, 2, 4],\n",
       "        [7, 6, 8, 8],\n",
       "        [1, 6, 7, 7]]),\n",
       " array([[[8, 1, 5, 9, 8],\n",
       "         [9, 4, 3, 0, 3],\n",
       "         [5, 0, 2, 3, 8],\n",
       "         [1, 3, 3, 3, 7]],\n",
       " \n",
       "        [[0, 1, 9, 9, 0],\n",
       "         [4, 7, 3, 2, 7],\n",
       "         [2, 0, 0, 4, 5],\n",
       "         [5, 6, 8, 4, 1]],\n",
       " \n",
       "        [[4, 9, 8, 1, 1],\n",
       "         [7, 9, 9, 3, 6],\n",
       "         [7, 2, 0, 3, 5],\n",
       "         [9, 4, 4, 6, 4]]]))"
      ]
     },
     "execution_count": 8,
     "metadata": {},
     "output_type": "execute_result"
    }
   ],
   "source": [
    "x1, x2, x3"
   ]
  },
  {
   "cell_type": "code",
   "execution_count": 9,
   "id": "2a706d96-bcd0-4d56-987b-ed3147f1386e",
   "metadata": {},
   "outputs": [
    {
     "name": "stdout",
     "output_type": "stream",
     "text": [
      "x3 ndim:  3\n",
      "x3 shape: (3, 4, 5)\n",
      "x3 size:  60\n"
     ]
    }
   ],
   "source": [
    "print(\"x3 ndim: \", x3.ndim)\n",
    "print(\"x3 shape:\", x3.shape)\n",
    "print(\"x3 size: \", x3.size)"
   ]
  },
  {
   "cell_type": "code",
   "execution_count": 10,
   "id": "24968e5c-cf84-4c70-ad6e-41e114100911",
   "metadata": {},
   "outputs": [
    {
     "data": {
      "text/plain": [
       "(array([5, 0, 3, 3, 7, 9]), 5, 3)"
      ]
     },
     "execution_count": 10,
     "metadata": {},
     "output_type": "execute_result"
    }
   ],
   "source": [
    "x1, x1[0], x2[0, 0]"
   ]
  },
  {
   "cell_type": "code",
   "execution_count": 11,
   "id": "12459eb3-bfd2-4303-8e3d-7a331019b187",
   "metadata": {},
   "outputs": [],
   "source": [
    "x2[0, 0] = 12"
   ]
  },
  {
   "cell_type": "code",
   "execution_count": 12,
   "id": "e24415cc-d650-4263-89bc-c381f7d3e039",
   "metadata": {},
   "outputs": [
    {
     "data": {
      "text/plain": [
       "(array([5, 0, 3, 3, 7]), array([5, 3, 7]), array([0, 3, 9]))"
      ]
     },
     "execution_count": 12,
     "metadata": {},
     "output_type": "execute_result"
    }
   ],
   "source": [
    "#x[start:stop:step]\n",
    "\n",
    "x1[:5], x1[::2], x1[1::2]"
   ]
  },
  {
   "cell_type": "markdown",
   "id": "8cdd35f2-e9c3-472c-95a6-4881fea423e7",
   "metadata": {},
   "source": [
    "Crando copias "
   ]
  },
  {
   "cell_type": "code",
   "execution_count": 13,
   "id": "3423ae62-7597-446a-8203-8c3dae66174f",
   "metadata": {},
   "outputs": [
    {
     "name": "stdout",
     "output_type": "stream",
     "text": [
      "[[12  5]\n",
      " [ 7  6]]\n"
     ]
    }
   ],
   "source": [
    "x2_sub_copy = x2[:2, :2].copy()\n",
    "print(x2_sub_copy)"
   ]
  },
  {
   "cell_type": "code",
   "execution_count": 14,
   "id": "37950bfa-93aa-43c5-9f5b-e9b07cf95f3e",
   "metadata": {},
   "outputs": [
    {
     "name": "stdout",
     "output_type": "stream",
     "text": [
      "[[1 2 3]\n",
      " [4 5 6]\n",
      " [7 8 9]]\n"
     ]
    }
   ],
   "source": [
    "grid = np.arange(1, 10).reshape((3, 3))\n",
    "print(grid)"
   ]
  },
  {
   "cell_type": "markdown",
   "id": "ae623263-1613-4141-b687-452ca0147619",
   "metadata": {},
   "source": [
    "Concatenar y Dividir arreglos"
   ]
  },
  {
   "cell_type": "code",
   "execution_count": 15,
   "id": "ac5cc79b-b47c-401b-a943-4ad629be2daa",
   "metadata": {},
   "outputs": [
    {
     "data": {
      "text/plain": [
       "array([1, 2, 3, 3, 2, 1])"
      ]
     },
     "execution_count": 15,
     "metadata": {},
     "output_type": "execute_result"
    }
   ],
   "source": [
    "x = np.array([1, 2, 3])\n",
    "y = np.array([3, 2, 1])\n",
    "np.concatenate([x, y])"
   ]
  },
  {
   "cell_type": "code",
   "execution_count": 16,
   "id": "e6d64300-e3c0-4269-8e97-4f09b06ee959",
   "metadata": {},
   "outputs": [
    {
     "name": "stdout",
     "output_type": "stream",
     "text": [
      "[1 2 3] [99 99] [3 2 1]\n"
     ]
    }
   ],
   "source": [
    "x = [1, 2, 3, 99, 99, 3, 2, 1]\n",
    "x1, x2, x3 = np.split(x, [3, 5])\n",
    "print(x1, x2, x3)"
   ]
  },
  {
   "cell_type": "markdown",
   "id": "06860717-afc7-4e44-8011-13ef2963f475",
   "metadata": {},
   "source": [
    "### Cálculo en matrices NumPy: funciones universales"
   ]
  },
  {
   "cell_type": "markdown",
   "id": "f32689d6-afb8-4f93-a749-e45da50f8265",
   "metadata": {},
   "source": [
    "Hasta ahora, hemos discutido algunos de los aspectos básicos de NumPy; En las próximas secciones, profundizaremos en las razones por las que NumPy es tan importante en el mundo de la ciencia de datos de Python. Es decir, proporciona una interfaz fácil y flexible para el cálculo optimizado con matrices de datos.\n",
    "\n",
    "El cálculo en matrices NumPy puede ser muy rápido o muy lento. La clave para hacerlo rápido es usar operaciones vectorizadas, generalmente implementadas a través de las funciones universales de NumPy (ufuncs). Esta sección motiva la necesidad de los ufuncs de NumPy, que se pueden usar para hacer que los cálculos repetidos en los elementos de la matriz sean mucho más eficientes. Luego presenta muchos de los ufuncs aritméticos más comunes y útiles disponibles en el paquete NumPy."
   ]
  },
  {
   "cell_type": "markdown",
   "id": "a2af11da-d220-462d-b0ea-50fafb3e7c9e",
   "metadata": {},
   "source": [
    "La relativa lentitud de Python generalmente se manifiesta en situaciones en las que se repiten muchas operaciones pequeñas, por ejemplo, recorriendo matrices para operar en cada elemento. Por ejemplo, imagina que tenemos una matriz de valores y nos gustaría calcular el recíproco de cada uno. Un enfoque sencillo podría verse así:"
   ]
  },
  {
   "cell_type": "code",
   "execution_count": 17,
   "id": "945bc3ab-a5a6-42b3-98ee-08d7a3174a87",
   "metadata": {},
   "outputs": [
    {
     "data": {
      "text/plain": [
       "array([0.2       , 0.25      , 0.2       , 0.2       , 0.11111111])"
      ]
     },
     "execution_count": 17,
     "metadata": {},
     "output_type": "execute_result"
    }
   ],
   "source": [
    "def compute_reciprocals(values):\n",
    "    output = np.empty(len(values))\n",
    "    for i in range(len(values)):\n",
    "        output[i] = 1.0 / values[i]\n",
    "    return output\n",
    "        \n",
    "values = np.random.randint(1, 10, size=5)\n",
    "compute_reciprocals(values)"
   ]
  },
  {
   "cell_type": "markdown",
   "id": "1592b73a-2c21-4061-b601-0e304d720a89",
   "metadata": {},
   "source": [
    "Operación sobre arreglos"
   ]
  },
  {
   "cell_type": "code",
   "execution_count": 18,
   "id": "d9555630-6d79-41fa-a219-f776af1e634b",
   "metadata": {},
   "outputs": [
    {
     "name": "stdout",
     "output_type": "stream",
     "text": [
      "x     = [0 1 2 3]\n",
      "x + 5 = [5 6 7 8]\n",
      "x - 5 = [-5 -4 -3 -2]\n",
      "x * 2 = [0 2 4 6]\n",
      "x / 2 = [0.  0.5 1.  1.5]\n",
      "x // 2 = [0 0 1 1]\n",
      "-x     =  [ 0 -1 -2 -3]\n",
      "x ** 2 =  [0 1 4 9]\n",
      "x % 2  =  [0 1 0 1]\n"
     ]
    }
   ],
   "source": [
    "x = np.arange(4)\n",
    "print(\"x     =\", x)\n",
    "print(\"x + 5 =\", x + 5)\n",
    "print(\"x - 5 =\", x - 5)\n",
    "print(\"x * 2 =\", x * 2)\n",
    "print(\"x / 2 =\", x / 2)\n",
    "print(\"x // 2 =\", x // 2)\n",
    "print(\"-x     = \", -x)\n",
    "print(\"x ** 2 = \", x ** 2)\n",
    "print(\"x % 2  = \", x % 2)"
   ]
  },
  {
   "cell_type": "markdown",
   "id": "00f8c5a5-febf-4608-ac7e-18b65d8694be",
   "metadata": {},
   "source": [
    "Tabla con operaciones en NumPy:\n",
    "\n",
    "| Operator\t    | Equivalent ufunc    | Description                           |\n",
    "|---------------|---------------------|---------------------------------------|\n",
    "|``+``          |``np.add``           |Addition (e.g., ``1 + 1 = 2``)         |\n",
    "|``-``          |``np.subtract``      |Subtraction (e.g., ``3 - 2 = 1``)      |\n",
    "|``-``          |``np.negative``      |Unary negation (e.g., ``-2``)          |\n",
    "|``*``          |``np.multiply``      |Multiplication (e.g., ``2 * 3 = 6``)   |\n",
    "|``/``          |``np.divide``        |Division (e.g., ``3 / 2 = 1.5``)       |\n",
    "|``//``         |``np.floor_divide``  |Floor division (e.g., ``3 // 2 = 1``)  |\n",
    "|``**``         |``np.power``         |Exponentiation (e.g., ``2 ** 3 = 8``)  |\n",
    "|``%``          |``np.mod``           |Modulus/remainder (e.g., ``9 % 4 = 1``)|\n"
   ]
  },
  {
   "cell_type": "markdown",
   "id": "b5e5a497-af6b-4d6d-aab7-045dc3ea969b",
   "metadata": {},
   "source": [
    "Operaciones vectorizadas en numpy"
   ]
  },
  {
   "cell_type": "code",
   "execution_count": 19,
   "id": "694aba8f-b94d-475b-bd29-62139235b8c8",
   "metadata": {},
   "outputs": [
    {
     "data": {
      "text/plain": [
       "51.48541005262704"
      ]
     },
     "execution_count": 19,
     "metadata": {},
     "output_type": "execute_result"
    }
   ],
   "source": [
    "L = np.random.random(100)\n",
    "sum(L)"
   ]
  },
  {
   "cell_type": "code",
   "execution_count": 20,
   "id": "c6418bc4-ee27-421f-8e69-8ec2ebef990e",
   "metadata": {},
   "outputs": [
    {
     "data": {
      "text/plain": [
       "51.485410052627024"
      ]
     },
     "execution_count": 20,
     "metadata": {},
     "output_type": "execute_result"
    }
   ],
   "source": [
    "np.sum(L)"
   ]
  },
  {
   "cell_type": "code",
   "execution_count": 21,
   "id": "4c4cf161-b55d-4f5f-97bf-46a47ee9c9bb",
   "metadata": {},
   "outputs": [
    {
     "data": {
      "text/plain": [
       "51.48541005262704"
      ]
     },
     "execution_count": 21,
     "metadata": {},
     "output_type": "execute_result"
    }
   ],
   "source": [
    "def sum_lis(lista):\n",
    "    resultado = 0\n",
    "    for elemento in lista:\n",
    "        resultado = resultado + elemento\n",
    "    return resultado\n",
    "\n",
    "sum_lis(L)"
   ]
  },
  {
   "cell_type": "code",
   "execution_count": 22,
   "id": "d9f1f465-0972-4257-a9c5-fc2fb7a54f23",
   "metadata": {},
   "outputs": [
    {
     "name": "stdout",
     "output_type": "stream",
     "text": [
      "90.1 ms ± 10.4 ms per loop (mean ± std. dev. of 7 runs, 10 loops each)\n",
      "74.2 ms ± 3.95 ms per loop (mean ± std. dev. of 7 runs, 10 loops each)\n",
      "430 µs ± 37.8 µs per loop (mean ± std. dev. of 7 runs, 1000 loops each)\n"
     ]
    }
   ],
   "source": [
    "big_array = np.random.rand(1000000)\n",
    "%timeit sum_lis(big_array)\n",
    "%timeit sum(big_array)\n",
    "%timeit np.sum(big_array)"
   ]
  },
  {
   "cell_type": "code",
   "execution_count": 23,
   "id": "3d0feb4c-ca0b-4ff3-854b-f4db70119a49",
   "metadata": {},
   "outputs": [
    {
     "data": {
      "text/plain": [
       "(1.4057692298008462e-06, 0.9999994392723005)"
      ]
     },
     "execution_count": 23,
     "metadata": {},
     "output_type": "execute_result"
    }
   ],
   "source": [
    "min(big_array), max(big_array)"
   ]
  },
  {
   "cell_type": "code",
   "execution_count": 24,
   "id": "7c820581-f7b8-4b39-be38-c4f0224536da",
   "metadata": {},
   "outputs": [
    {
     "data": {
      "text/plain": [
       "(1.4057692298008462e-06, 0.9999994392723005)"
      ]
     },
     "execution_count": 24,
     "metadata": {},
     "output_type": "execute_result"
    }
   ],
   "source": [
    "np.min(big_array), np.max(big_array)"
   ]
  },
  {
   "cell_type": "code",
   "execution_count": 25,
   "id": "b087b2f4-69ef-48e1-829a-e51cf3efdca4",
   "metadata": {},
   "outputs": [
    {
     "data": {
      "text/plain": [
       "1"
      ]
     },
     "execution_count": 25,
     "metadata": {},
     "output_type": "execute_result"
    }
   ],
   "source": [
    "def minimo(lista):\n",
    "    try:\n",
    "        minimo = lista[0]\n",
    "        for elemento in lista:\n",
    "            if(elemento < minimo):\n",
    "                minimo = elemento\n",
    "        return minimo\n",
    "\n",
    "    except:\n",
    "        print(\"lista vacia o tipo incorrecto de dato\")\n",
    "        \n",
    "minimo([1, 2])"
   ]
  },
  {
   "cell_type": "code",
   "execution_count": 26,
   "id": "94218320-f90b-47a8-bb0c-d06037830ab7",
   "metadata": {},
   "outputs": [
    {
     "name": "stdout",
     "output_type": "stream",
     "text": [
      "60.8 ms ± 2.62 ms per loop (mean ± std. dev. of 7 runs, 10 loops each)\n",
      "57.7 ms ± 5.44 ms per loop (mean ± std. dev. of 7 runs, 10 loops each)\n",
      "436 µs ± 57.6 µs per loop (mean ± std. dev. of 7 runs, 1000 loops each)\n"
     ]
    }
   ],
   "source": [
    "%timeit minimo(big_array)\n",
    "%timeit min(big_array)\n",
    "%timeit np.min(big_array)"
   ]
  },
  {
   "cell_type": "markdown",
   "id": "46c5a4c6-8b96-4e82-aa95-0d4e746a570f",
   "metadata": {},
   "source": [
    "Operaciones en arreglos multidimensionales"
   ]
  },
  {
   "cell_type": "code",
   "execution_count": 27,
   "id": "a911d672-042a-462e-a7fa-e0cb2c09663a",
   "metadata": {},
   "outputs": [
    {
     "name": "stdout",
     "output_type": "stream",
     "text": [
      "[[0.84926562 0.10226215 0.99559424 0.59250301]\n",
      " [0.53509    0.88518089 0.25518136 0.13130483]\n",
      " [0.95884927 0.17809462 0.61130112 0.7044003 ]]\n"
     ]
    }
   ],
   "source": [
    "M = np.random.random((3, 4))\n",
    "print(M)"
   ]
  },
  {
   "cell_type": "code",
   "execution_count": 28,
   "id": "2d6d84b5-be21-42b5-8b24-8890060a71ff",
   "metadata": {},
   "outputs": [
    {
     "data": {
      "text/plain": [
       "(6.799027404710029,\n",
       " array([0.53509   , 0.10226215, 0.25518136, 0.13130483]),\n",
       " array([0.99559424, 0.88518089, 0.95884927]))"
      ]
     },
     "execution_count": 28,
     "metadata": {},
     "output_type": "execute_result"
    }
   ],
   "source": [
    "M.sum(), M.min(axis=0), M.max(axis=1)"
   ]
  },
  {
   "cell_type": "markdown",
   "id": "394ebcfa-fc8c-4635-88f3-d85290f41353",
   "metadata": {},
   "source": [
    "Tabla con otras operaciones\n",
    "\n",
    "Function Name  Version\tDescription\n",
    "\n",
    "np.sum\tnp.nansum\tCompute sum of elements\n",
    "\n",
    "np.prod\tnp.nanprod\tCompute product of elements\n",
    "\n",
    "np.mean\tnp.nanmean\tCompute mean of elements\n",
    "\n",
    "np.std\tnp.nanstd\tCompute standard deviation\n",
    "\n",
    "np.var\tnp.nanvar\tCompute variance\n",
    "\n",
    "np.min\tnp.nanmin\tFind minimum value\n",
    "\n",
    "np.max\tnp.nanmax\tFind maximum value\n",
    "\n",
    "np.argmin\tnp.nanargmin\tFind index of minimum value\n",
    "\n",
    "np.argmax\tnp.nanargmax\tFind index of maximum value\n",
    "\n",
    "np.median\tnp.nanmedian\tCompute median of elements\n",
    "\n",
    "np.percentile\tnp.nanpercentile\tCompute rank-based statistics of elements\n",
    "\n",
    "np.any\tN/A\tEvaluate whether any elements are true\n",
    "\n",
    "np.all\tN/A\tEvaluate whether all elements are true"
   ]
  },
  {
   "cell_type": "code",
   "execution_count": 29,
   "id": "e8ea467b-a9c5-4e79-9a6d-5b6b6fd021ef",
   "metadata": {},
   "outputs": [
    {
     "name": "stdout",
     "output_type": "stream",
     "text": [
      "order,name,height(cm)\n",
      "1,George Washington,189\n",
      "2,John Adams,170\n",
      "3,Thomas Jefferson,189\n",
      "4,James Madison,163\n",
      "5,James Monroe,183\n",
      "6,John Quincy Adams,171\n",
      "7,Andrew Jackson,185\n",
      "8,Martin Van Buren,168\n",
      "9,William Henry Harrison,173\n"
     ]
    }
   ],
   "source": [
    "!head ../data/president_heights.csv"
   ]
  },
  {
   "cell_type": "code",
   "execution_count": 30,
   "id": "d95a4a7b-64fc-41ca-bdc9-a1f4b7e18bed",
   "metadata": {},
   "outputs": [
    {
     "name": "stdout",
     "output_type": "stream",
     "text": [
      "<class 'numpy.ndarray'>\n",
      "[189 170 189 163 183 171 185 168 173 183 173 173 175 178 183 193 178 173\n",
      " 174 183 183 168 170 178 182 180 183 178 182 188 175 179 183 193 182 183\n",
      " 177 185 188 188 182 185]\n"
     ]
    }
   ],
   "source": [
    "import pandas as pd\n",
    "data = pd.read_csv('../data/president_heights.csv')\n",
    "heights = np.array(data['height(cm)'])\n",
    "print(type(heights))\n",
    "print(heights)"
   ]
  },
  {
   "cell_type": "code",
   "execution_count": 31,
   "id": "5a45b1cb-ab24-4945-be6d-9d5e8c8fd832",
   "metadata": {},
   "outputs": [
    {
     "name": "stdout",
     "output_type": "stream",
     "text": [
      "54.9 µs ± 1.52 µs per loop (mean ± std. dev. of 7 runs, 10000 loops each)\n",
      "5.65 µs ± 361 ns per loop (mean ± std. dev. of 7 runs, 100000 loops each)\n"
     ]
    }
   ],
   "source": [
    "%timeit data['height(cm)'].mean() \n",
    "%timeit heights.mean()"
   ]
  },
  {
   "cell_type": "code",
   "execution_count": 32,
   "id": "51720f93-419e-42cc-bc09-4590b1cb7ef8",
   "metadata": {},
   "outputs": [
    {
     "name": "stdout",
     "output_type": "stream",
     "text": [
      "Promedio alturas:        179.73809523809524\n",
      "Desviación estándar: 6.931843442745892\n",
      "Mínimo de altras:     163\n",
      "Máximo alturas:     193\n"
     ]
    }
   ],
   "source": [
    "print(\"Promedio alturas:       \", heights.mean())\n",
    "print(\"Desviación estándar:\", heights.std())\n",
    "print(\"Mínimo de altras:    \", heights.min())\n",
    "print(\"Máximo alturas:    \", heights.max())"
   ]
  },
  {
   "cell_type": "code",
   "execution_count": 33,
   "id": "0b087127-aa26-4d93-9ab1-535e17da300b",
   "metadata": {},
   "outputs": [
    {
     "name": "stdout",
     "output_type": "stream",
     "text": [
      "Percentil 25:    174.25\n",
      "Promedio:             182.0\n",
      "Percentil 75:    183.0\n"
     ]
    }
   ],
   "source": [
    "print(\"Percentil 25:   \", np.percentile(heights, 25))\n",
    "print(\"Promedio:            \", np.median(heights))\n",
    "print(\"Percentil 75:   \", np.percentile(heights, 75))"
   ]
  },
  {
   "cell_type": "code",
   "execution_count": 34,
   "id": "886ecb77-2304-46b7-be33-860632ea2a28",
   "metadata": {},
   "outputs": [],
   "source": [
    "%matplotlib inline\n",
    "import matplotlib.pyplot as plt\n",
    "import seaborn; seaborn.set()  # set plot style"
   ]
  },
  {
   "cell_type": "code",
   "execution_count": 35,
   "id": "1a5ebccb-81df-44bb-8f43-ceb91a965902",
   "metadata": {},
   "outputs": [
    {
     "data": {
      "image/png": "[encoded data removed]",
      "text/plain": [
       "<Figure size 432x288 with 1 Axes>"
      ]
     },
     "metadata": {},
     "output_type": "display_data"
    }
   ],
   "source": [
    "plt.hist(heights)\n",
    "plt.title('Distribución de alturas de presidentes de estados unidos')\n",
    "plt.xlabel('Altura (cm)')\n",
    "plt.ylabel('Número');"
   ]
  },
  {
   "cell_type": "markdown",
   "id": "2dfbddef-c7ce-4e86-ac3f-bc19853dd428",
   "metadata": {},
   "source": [
    "Ejemplo valores booleanos"
   ]
  },
  {
   "cell_type": "code",
   "execution_count": 36,
   "id": "f83d10cb-a5c6-439e-89a1-da5fa9b5b71c",
   "metadata": {},
   "outputs": [
    {
     "name": "stdout",
     "output_type": "stream",
     "text": [
      "[0.         0.16141732 0.05905512 0.         0.         0.01181102\n",
      " 0.48031496 0.38188976 0.22834646 0.16929134 0.83858268 0.05905512\n",
      " 0.         0.         0.         0.         0.         0.\n",
      " 0.         0.         0.         0.01968504 0.         0.\n",
      " 0.         0.         0.         0.3503937  0.8503937  0.\n",
      " 0.09055118 0.07874016 0.         0.         0.         0.\n",
      " 0.         0.         0.2007874  0.01968504 0.72047244 0.66929134\n",
      " 0.18110236 0.07086614 0.37007874 0.46062992 1.03937008 0.57086614\n",
      " 0.5984252  0.03937008 0.11811024 0.11023622 0.0984252  0.24015748\n",
      " 0.51181102 0.01181102 0.         0.         0.         0.01968504\n",
      " 0.7519685  0.42125984 0.6496063  1.83858268 0.11811024 0.\n",
      " 1.27165354 0.16929134 0.74015748 0.         0.         0.01968504\n",
      " 0.27165354 0.31889764 1.09055118 0.01181102 0.         0.01968504\n",
      " 0.         0.         0.         0.         0.         0.16141732\n",
      " 0.14173228 0.01181102 0.87007874 0.5511811  0.         0.\n",
      " 0.         0.         0.0984252  0.         0.18110236 0.\n",
      " 0.         0.18110236 0.         0.         0.         0.\n",
      " 0.         0.         0.01968504 0.42913386 0.72834646 0.\n",
      " 0.53937008 0.         0.2007874  0.55905512 0.3503937  0.48818898\n",
      " 0.         0.12992126 0.27165354 0.         0.         0.\n",
      " 0.         0.         1.31102362 0.62992126 0.2007874  0.\n",
      " 0.         0.53937008 0.07874016 0.01968504 0.         0.\n",
      " 0.         0.         0.         0.         0.         0.\n",
      " 0.         0.         0.         0.         0.1496063  0.\n",
      " 0.22047244 0.         0.         0.         0.         0.\n",
      " 0.         0.         0.         0.         0.         0.\n",
      " 0.         0.         0.         0.         0.         0.\n",
      " 0.07086614 0.2519685  0.         0.01968504 0.14173228 0.0511811\n",
      " 0.         0.03149606 0.01181102 0.         0.         0.\n",
      " 0.         0.         0.         0.07086614 0.09055118 0.\n",
      " 0.         0.         0.         0.         0.         0.\n",
      " 0.         0.         0.         0.         0.         0.\n",
      " 0.         0.         0.         0.         0.         0.\n",
      " 0.         0.         0.         0.         0.01181102 0.75984252\n",
      " 0.         0.         0.         0.         0.         0.\n",
      " 0.         0.         0.         0.01968504 0.         0.\n",
      " 0.         0.         0.         0.         0.         0.\n",
      " 0.01968504 0.5        0.8503937  0.         0.03937008 0.\n",
      " 0.         0.         0.         0.         0.         0.\n",
      " 0.         0.         0.         0.         0.         0.\n",
      " 0.         0.33070866 0.0511811  0.         0.11811024 0.\n",
      " 0.         0.         0.         0.         0.         0.\n",
      " 0.         0.         0.         0.         0.         0.\n",
      " 0.         0.01968504 0.01181102 0.         0.         0.\n",
      " 0.01181102 0.72047244 0.7992126  0.16929134 0.3503937  0.\n",
      " 0.         0.03149606 0.         0.         0.         0.\n",
      " 0.         0.         0.         0.         0.         0.\n",
      " 0.01181102 0.29133858 0.         0.2992126  0.27952756 0.33858268\n",
      " 0.         0.12992126 0.59055118 0.         0.46062992 0.03937008\n",
      " 1.25984252 0.37007874 0.16141732 0.24015748 0.05905512 0.03149606\n",
      " 0.5        0.01968504 1.         0.66929134 0.         0.07086614\n",
      " 0.42913386 0.16141732 0.18897638 0.16141732 0.         0.\n",
      " 0.2007874  0.         0.         0.         0.         0.\n",
      " 0.         0.         0.         0.         0.         0.14173228\n",
      " 0.5984252  0.01968504 0.46850394 0.0511811  0.72047244 0.01181102\n",
      " 0.12992126 1.3503937  0.14173228 0.         0.         0.\n",
      " 0.         0.03149606 0.11811024 0.29133858 0.         0.35826772\n",
      " 0.38976378 0.51181102 0.27165354 0.         0.         0.\n",
      " 0.         0.         0.11023622 0.51181102 0.11811024 0.77165354\n",
      " 0.         0.         0.81102362 0.20866142 0.         0.\n",
      " 0.12992126 0.16141732 0.         0.         0.        ]\n"
     ]
    }
   ],
   "source": [
    "# use pandas to extract rainfall inches as a NumPy array\n",
    "rainfall = pd.read_csv('../data/Seattle2014.csv')['PRCP'].values\n",
    "inches = rainfall / 254.0  # 1/10mm -> inches\n",
    "inches.shape\n",
    "print(inches)"
   ]
  },
  {
   "cell_type": "code",
   "execution_count": 37,
   "id": "fcf794f8-8279-41ee-aa76-7f12a14e2485",
   "metadata": {},
   "outputs": [
    {
     "data": {
      "image/png": "[encoded data removed]",
      "text/plain": [
       "<Figure size 432x288 with 1 Axes>"
      ]
     },
     "metadata": {},
     "output_type": "display_data"
    }
   ],
   "source": [
    "plt.hist(inches, 10);"
   ]
  },
  {
   "cell_type": "code",
   "execution_count": 38,
   "id": "c1f0b805-125a-4825-adf7-c376cc30e41b",
   "metadata": {},
   "outputs": [
    {
     "data": {
      "text/plain": [
       "(array([ True,  True, False, False, False]),\n",
       " array([False, False,  True,  True,  True]),\n",
       " array([ True,  True, False,  True,  True]),\n",
       " array([False, False,  True, False, False]),\n",
       " array([False,  True, False, False, False]))"
      ]
     },
     "execution_count": 38,
     "metadata": {},
     "output_type": "execute_result"
    }
   ],
   "source": [
    "x = np.array([1, 2, 3, 4, 5])\n",
    "x < 3, x >= 3, x != 3, x == 3, (2 * x) == (x ** 2) "
   ]
  },
  {
   "cell_type": "code",
   "execution_count": 39,
   "id": "9935ed1e-2aa7-4216-a77f-0c351a54c19c",
   "metadata": {},
   "outputs": [
    {
     "data": {
      "text/plain": [
       "[False, False, False, False, False]"
      ]
     },
     "execution_count": 39,
     "metadata": {},
     "output_type": "execute_result"
    }
   ],
   "source": [
    "def intersetion_two_arrays(array1, array2):\n",
    "    inter_list = []\n",
    "    for i,j in zip(array1, array2):\n",
    "        inter_list.append(i and j)\n",
    "    return inter_list\n",
    "\n",
    "intersetion_two_arrays(x>3, x==3)"
   ]
  },
  {
   "cell_type": "code",
   "execution_count": 40,
   "id": "30d320f5-0a5d-4ab3-b9ca-c725e1e9745b",
   "metadata": {},
   "outputs": [
    {
     "data": {
      "text/plain": [
       "0"
      ]
     },
     "execution_count": 40,
     "metadata": {},
     "output_type": "execute_result"
    }
   ],
   "source": [
    "np.count_nonzero(intersetion_two_arrays(x>3, x==3))"
   ]
  },
  {
   "cell_type": "markdown",
   "id": "74d791a2-f101-4863-ad87-0bf09bf9c9a4",
   "metadata": {},
   "source": [
    "Trabajando con valores booleanos y pandas\n",
    "\n",
    "A and B = not(not(A) or not(B))"
   ]
  },
  {
   "cell_type": "code",
   "execution_count": 41,
   "id": "af481855-9292-4a16-a42e-6112f5f4a95b",
   "metadata": {},
   "outputs": [
    {
     "data": {
      "text/plain": [
       "(29, 29)"
      ]
     },
     "execution_count": 41,
     "metadata": {},
     "output_type": "execute_result"
    }
   ],
   "source": [
    "np.sum((inches > 0.5) & (inches < 1)), np.sum(~( (inches <= 0.5) | (inches >= 1) ))"
   ]
  },
  {
   "cell_type": "markdown",
   "id": "efd43a29-7f13-4d5e-84bc-632ef91f5d68",
   "metadata": {},
   "source": [
    "Filtrando valores"
   ]
  },
  {
   "cell_type": "code",
   "execution_count": 42,
   "id": "f5bcf302-aabd-4d2b-9f7e-05655ed01429",
   "metadata": {},
   "outputs": [
    {
     "data": {
      "text/plain": [
       "array([1, 2, 3, 4])"
      ]
     },
     "execution_count": 42,
     "metadata": {},
     "output_type": "execute_result"
    }
   ],
   "source": [
    "x[x < 5]"
   ]
  },
  {
   "cell_type": "code",
   "execution_count": 43,
   "id": "3007833c-718d-4d59-97e0-47eeb8681830",
   "metadata": {},
   "outputs": [
    {
     "name": "stdout",
     "output_type": "stream",
     "text": [
      "Promedio de precipitación en días lluviosos 2014:    0.19488188976377951\n",
      "Promedio de precipitación en días de verano 2014:   0.0\n",
      "Máxima precipitación en días de verano 2014:  0.8503937007874016\n",
      "Promedio de precipitación en días que no son de verano 2014: 0.20078740157480315\n"
     ]
    }
   ],
   "source": [
    "rainy = (inches > 0)\n",
    "\n",
    "# Filtrar valores Junio 21 aSeptiembre 21\n",
    "days = np.arange(365)\n",
    "summer = (days > 172) & (days < 262)\n",
    "\n",
    "print(\"Promedio de precipitación en días lluviosos 2014:   \",\n",
    "      np.median(inches[rainy]))\n",
    "print(\"Promedio de precipitación en días de verano 2014:  \",\n",
    "      np.median(inches[summer]))\n",
    "print(\"Máxima precipitación en días de verano 2014: \",\n",
    "      np.max(inches[summer]))\n",
    "print(\"Promedio de precipitación en días que no son de verano 2014:\",\n",
    "      np.median(inches[rainy & ~summer]))"
   ]
  },
  {
   "cell_type": "markdown",
   "id": "ef015fe9-81ae-4779-a1d1-38606c9e6eba",
   "metadata": {},
   "source": [
    "### Explorando la indexación elegante\n",
    "\n",
    "La indexación elegante es conceptualmente simple: significa pasar un arreglo de índices para acceder a varios \n",
    "elementos de la matriz a la vez. Por ejemplo, considere la siguiente matriz:"
   ]
  },
  {
   "cell_type": "code",
   "execution_count": 44,
   "id": "05bda967-741e-44ca-97c2-44b6afa8d58e",
   "metadata": {},
   "outputs": [
    {
     "name": "stdout",
     "output_type": "stream",
     "text": [
      "[51 92 14 71 60 20 82 86 74 74]\n"
     ]
    }
   ],
   "source": [
    "rand = np.random.RandomState(42)\n",
    "\n",
    "x = rand.randint(100, size=10)\n",
    "print(x)"
   ]
  },
  {
   "cell_type": "code",
   "execution_count": 45,
   "id": "64fa8f2f-2886-4350-bbb4-14341c5e9ca9",
   "metadata": {},
   "outputs": [
    {
     "data": {
      "text/plain": [
       "([71, 86, 60], array([71, 86, 60]))"
      ]
     },
     "execution_count": 45,
     "metadata": {},
     "output_type": "execute_result"
    }
   ],
   "source": [
    "ind = [3, 7, 4]\n",
    "[x[3], x[7], x[4]], x[ind]"
   ]
  },
  {
   "cell_type": "code",
   "execution_count": 46,
   "id": "b0e44939-5aec-4763-83ca-0175a4d2e839",
   "metadata": {},
   "outputs": [
    {
     "data": {
      "text/plain": [
       "(array([[ 0,  1,  2,  3],\n",
       "        [ 4,  5,  6,  7],\n",
       "        [ 8,  9, 10, 11]]),\n",
       " array([ 2,  5, 11]))"
      ]
     },
     "execution_count": 46,
     "metadata": {},
     "output_type": "execute_result"
    }
   ],
   "source": [
    "X = np.arange(12).reshape((3, 4))\n",
    "row = np.array([0, 1, 2])\n",
    "col = np.array([2, 1, 3])\n",
    "X, X[row, col]"
   ]
  },
  {
   "cell_type": "markdown",
   "id": "d281bd12-5cce-4b5d-b541-1af939ac853f",
   "metadata": {},
   "source": [
    "Índices combinados"
   ]
  },
  {
   "cell_type": "code",
   "execution_count": 47,
   "id": "4aca7ed2-360b-4301-9c66-25422ca97423",
   "metadata": {},
   "outputs": [
    {
     "data": {
      "text/plain": [
       "(array([10,  8,  9]),\n",
       " array([[ 6,  4,  5],\n",
       "        [10,  8,  9]]))"
      ]
     },
     "execution_count": 47,
     "metadata": {},
     "output_type": "execute_result"
    }
   ],
   "source": [
    "X[2, [2, 0, 1]], X[1:, [2, 0, 1]]"
   ]
  },
  {
   "cell_type": "markdown",
   "id": "b1d0c491-f0b7-4f3f-8fac-2a251e9ce0e1",
   "metadata": {},
   "source": [
    "### Algoritmos de ordenamiento\n",
    "\n",
    "[1,0,4,2,-1] -> [-1,0,1,2,4]\n",
    "\n",
    "1 er paso \n",
    "\n",
    "[1,0,4,2,-1] []\n",
    "\n",
    "[1,0,4,2] [-1]\n",
    "\n",
    "[1,4,2] [-1,0]\n",
    "\n",
    "[4,2] [-1,0,1]\n",
    "\n",
    "[4] [-1,0,1,2]\n",
    "\n",
    "[] [-1,0,1,2,4]"
   ]
  },
  {
   "cell_type": "code",
   "execution_count": 48,
   "id": "2bcc3254-8dc0-4d33-8149-5802090a7d28",
   "metadata": {},
   "outputs": [
    {
     "data": {
      "text/plain": [
       "[-1, 0, 1, 2, 4]"
      ]
     },
     "execution_count": 48,
     "metadata": {},
     "output_type": "execute_result"
    }
   ],
   "source": [
    "def min_lista(lista):\n",
    "    minimo = min(lista)\n",
    "    lista.remove(minimo)\n",
    "    return minimo, lista\n",
    "\n",
    "def min_sort(lista, lista_ordeada=[]):\n",
    "    if len(lista)==0:\n",
    "        return lista_ordeada\n",
    "    else:\n",
    "        minimo, sublista = min_lista(lista)\n",
    "        lista_ordeada.append(minimo)\n",
    "        return min_sort(sublista, lista_ordeada)\n",
    "\n",
    "min_sort([1,0,4,2,-1])"
   ]
  },
  {
   "cell_type": "code",
   "execution_count": 49,
   "id": "64496b36-12f6-43f1-a45c-342b1587b24f",
   "metadata": {},
   "outputs": [],
   "source": [
    "def selection_sort(x):\n",
    "    for i in range(len(x)):\n",
    "        swap = i + np.argmin(x[i:])\n",
    "        (x[i], x[swap]) = (x[swap], x[i])\n",
    "    return x"
   ]
  },
  {
   "cell_type": "code",
   "execution_count": 50,
   "id": "87d72d67-0e0d-4335-b980-3a95ecd28473",
   "metadata": {},
   "outputs": [
    {
     "data": {
      "text/plain": [
       "array([1, 2, 3, 4, 5])"
      ]
     },
     "execution_count": 50,
     "metadata": {},
     "output_type": "execute_result"
    }
   ],
   "source": [
    "x = np.array([2, 1, 4, 3, 5])\n",
    "selection_sort(x)"
   ]
  },
  {
   "cell_type": "code",
   "execution_count": 51,
   "id": "3abce4f1-38ad-4458-964f-6dda10032dc5",
   "metadata": {},
   "outputs": [],
   "source": [
    "def bogosort(x):\n",
    "    while np.any(x[:-1] > x[1:]):\n",
    "        np.random.shuffle(x)\n",
    "    return x"
   ]
  },
  {
   "cell_type": "code",
   "execution_count": 52,
   "id": "b9d5abce-2f9e-44bf-bc1e-518ae5087df6",
   "metadata": {},
   "outputs": [
    {
     "data": {
      "text/plain": [
       "array([1, 2, 3, 4, 5])"
      ]
     },
     "execution_count": 52,
     "metadata": {},
     "output_type": "execute_result"
    }
   ],
   "source": [
    "x = np.array([2, 1, 4, 3, 5])\n",
    "bogosort(x)"
   ]
  },
  {
   "cell_type": "code",
   "execution_count": 15,
   "id": "24eb9765-65b3-4436-a276-c9cef58b3d3d",
   "metadata": {},
   "outputs": [
    {
     "data": {
      "text/plain": [
       "array([1, 2, 3, 4, 5])"
      ]
     },
     "execution_count": 15,
     "metadata": {},
     "output_type": "execute_result"
    }
   ],
   "source": [
    "x = np.array([2, 1, 4, 3, 5])\n",
    "np.sort(x)"
   ]
  },
  {
   "cell_type": "markdown",
   "id": "ca37c958-b01d-4db9-918a-8ba5a50cf59a",
   "metadata": {},
   "source": [
    "Referencia de vectorize y apply https://stackoverflow.com/questions/52673285/performance-of-pandas-apply-vs-np-vectorize-to-create-new-column-from-existing-c"
   ]
  },
  {
   "cell_type": "code",
   "execution_count": 54,
   "id": "430f299c-4530-4d10-85ff-93add3bdbd23",
   "metadata": {},
   "outputs": [
    {
     "name": "stdout",
     "output_type": "stream",
     "text": [
      "\n",
      "N=1000, df.apply: 0 sec, np.vectorize: 0 sec\n",
      "\n",
      "N=10000, df.apply: 0 sec, np.vectorize: 0 sec\n",
      "\n",
      "N=100000, df.apply: 1 sec, np.vectorize: 0 sec\n",
      "\n",
      "N=1000000, df.apply: 16 sec, np.vectorize: 0 sec\n"
     ]
    },
    {
     "data": {
      "text/html": [
       "<div>\n",
       "<style scoped>\n",
       "    .dataframe tbody tr th:only-of-type {\n",
       "        vertical-align: middle;\n",
       "    }\n",
       "\n",
       "    .dataframe tbody tr th {\n",
       "        vertical-align: top;\n",
       "    }\n",
       "\n",
       "    .dataframe thead th {\n",
       "        text-align: right;\n",
       "    }\n",
       "</style>\n",
       "<table border=\"1\" class=\"dataframe\">\n",
       "  <thead>\n",
       "    <tr style=\"text-align: right;\">\n",
       "      <th></th>\n",
       "      <th>A</th>\n",
       "      <th>B</th>\n",
       "      <th>result</th>\n",
       "      <th>result2</th>\n",
       "    </tr>\n",
       "  </thead>\n",
       "  <tbody>\n",
       "    <tr>\n",
       "      <th>0</th>\n",
       "      <td>71</td>\n",
       "      <td>56</td>\n",
       "      <td>1.267857</td>\n",
       "      <td>1.267857</td>\n",
       "    </tr>\n",
       "    <tr>\n",
       "      <th>1</th>\n",
       "      <td>92</td>\n",
       "      <td>4</td>\n",
       "      <td>23.000000</td>\n",
       "      <td>23.000000</td>\n",
       "    </tr>\n",
       "    <tr>\n",
       "      <th>2</th>\n",
       "      <td>19</td>\n",
       "      <td>20</td>\n",
       "      <td>0.950000</td>\n",
       "      <td>0.950000</td>\n",
       "    </tr>\n",
       "    <tr>\n",
       "      <th>3</th>\n",
       "      <td>79</td>\n",
       "      <td>46</td>\n",
       "      <td>1.717391</td>\n",
       "      <td>1.717391</td>\n",
       "    </tr>\n",
       "    <tr>\n",
       "      <th>4</th>\n",
       "      <td>12</td>\n",
       "      <td>50</td>\n",
       "      <td>0.240000</td>\n",
       "      <td>0.240000</td>\n",
       "    </tr>\n",
       "    <tr>\n",
       "      <th>...</th>\n",
       "      <td>...</td>\n",
       "      <td>...</td>\n",
       "      <td>...</td>\n",
       "      <td>...</td>\n",
       "    </tr>\n",
       "    <tr>\n",
       "      <th>999995</th>\n",
       "      <td>37</td>\n",
       "      <td>48</td>\n",
       "      <td>0.770833</td>\n",
       "      <td>0.770833</td>\n",
       "    </tr>\n",
       "    <tr>\n",
       "      <th>999996</th>\n",
       "      <td>86</td>\n",
       "      <td>80</td>\n",
       "      <td>1.075000</td>\n",
       "      <td>1.075000</td>\n",
       "    </tr>\n",
       "    <tr>\n",
       "      <th>999997</th>\n",
       "      <td>11</td>\n",
       "      <td>64</td>\n",
       "      <td>0.171875</td>\n",
       "      <td>0.171875</td>\n",
       "    </tr>\n",
       "    <tr>\n",
       "      <th>999998</th>\n",
       "      <td>76</td>\n",
       "      <td>62</td>\n",
       "      <td>1.225806</td>\n",
       "      <td>1.225806</td>\n",
       "    </tr>\n",
       "    <tr>\n",
       "      <th>999999</th>\n",
       "      <td>98</td>\n",
       "      <td>58</td>\n",
       "      <td>1.689655</td>\n",
       "      <td>1.689655</td>\n",
       "    </tr>\n",
       "  </tbody>\n",
       "</table>\n",
       "<p>1000000 rows × 4 columns</p>\n",
       "</div>"
      ],
      "text/plain": [
       "         A   B     result    result2\n",
       "0       71  56   1.267857   1.267857\n",
       "1       92   4  23.000000  23.000000\n",
       "2       19  20   0.950000   0.950000\n",
       "3       79  46   1.717391   1.717391\n",
       "4       12  50   0.240000   0.240000\n",
       "...     ..  ..        ...        ...\n",
       "999995  37  48   0.770833   0.770833\n",
       "999996  86  80   1.075000   1.075000\n",
       "999997  11  64   0.171875   0.171875\n",
       "999998  76  62   1.225806   1.225806\n",
       "999999  98  58   1.689655   1.689655\n",
       "\n",
       "[1000000 rows x 4 columns]"
      ]
     },
     "execution_count": 54,
     "metadata": {},
     "output_type": "execute_result"
    }
   ],
   "source": [
    "def divide(a, b):\n",
    "    if b == 0:\n",
    "        return 0.0\n",
    "    return float(a)/b\n",
    "\n",
    "for N in [1000, 10000, 100000, 1000000]:    \n",
    "\n",
    "    print ('')\n",
    "    A_list = np.random.randint(1, 100, N)\n",
    "    B_list = np.random.randint(1, 100, N)\n",
    "    df = pd.DataFrame({'A': A_list, 'B': B_list})\n",
    "\n",
    "    start_epoch_sec = time.time()\n",
    "    df['result'] = df.apply(lambda row: divide(row['A'], row['B']), axis=1)\n",
    "    end_epoch_sec = time.time()\n",
    "    result_apply = end_epoch_sec - start_epoch_sec\n",
    "\n",
    "    start_epoch_sec = time.time()\n",
    "    df['result2'] = np.vectorize(divide)(df['A'], df['B'])\n",
    "    end_epoch_sec = time.time()\n",
    "    result_vectorize = end_epoch_sec - start_epoch_sec\n",
    "\n",
    "\n",
    "    print ('N=%d, df.apply: %d sec, np.vectorize: %d sec' % \\\n",
    "            (N, result_apply, result_vectorize))\n",
    "df"
   ]
  },
  {
   "cell_type": "code",
   "execution_count": 58,
   "id": "2be2614b-89f5-4d49-871a-92bf01cf0f97",
   "metadata": {},
   "outputs": [
    {
     "name": "stdout",
     "output_type": "stream",
     "text": [
      "6.25 ms ± 173 µs per loop (mean ± std. dev. of 7 runs, 100 loops each)\n",
      "137 ns ± 4.57 ns per loop (mean ± std. dev. of 7 runs, 10000000 loops each)\n",
      "11.5 µs ± 129 ns per loop (mean ± std. dev. of 7 runs, 100000 loops each)\n",
      "13.8 µs ± 323 ns per loop (mean ± std. dev. of 7 runs, 100000 loops each)\n"
     ]
    }
   ],
   "source": [
    "big_array = np.random.rand(2000)\n",
    "big_list = list(big_array)\n",
    "\n",
    "%timeit selection_sort(big_array)\n",
    "%timeit min_sort(big_list)\n",
    "%timeit big_array.sort()\n",
    "%timeit np.sort(big_array)"
   ]
  },
  {
   "cell_type": "markdown",
   "id": "fa587337-bbf8-4298-8b31-9c5955cd1959",
   "metadata": {},
   "source": [
    "### Datos estructurados: arreglos estructurados de NumPy"
   ]
  },
  {
   "cell_type": "markdown",
   "id": "d9bbac27-c5bc-4b4b-9985-7c44d5049e91",
   "metadata": {},
   "source": [
    "Si bien a menudo nuestros datos pueden estar bien representados por una matriz homogénea de valores, a veces este no es el caso. Esta sección demuestra el uso de matrices estructuradas y matrices de registros de NumPy, que brindan un almacenamiento eficiente para datos compuestos y heterogéneos."
   ]
  },
  {
   "cell_type": "code",
   "execution_count": 17,
   "id": "4bd6c1ae-d6a1-42dc-9d40-fc449e418b9a",
   "metadata": {},
   "outputs": [],
   "source": [
    "name = ['Alice', 'Bob', 'Cathy', 'Doug']\n",
    "age = [25, 45, 37, 19]\n",
    "weight = [55.0, 85.5, 68.0, 61.5]"
   ]
  },
  {
   "cell_type": "code",
   "execution_count": 18,
   "id": "35483ff9-a97e-4361-99ee-fbd36da017f7",
   "metadata": {},
   "outputs": [
    {
     "name": "stdout",
     "output_type": "stream",
     "text": [
      "[('name', '<U20'), ('age', '<i2'), ('weight', '<f4')]\n"
     ]
    }
   ],
   "source": [
    "data = np.zeros(4, dtype={'names':('name', 'age', 'weight'),\n",
    "                          'formats':('U20', 'i2', 'f4')})\n",
    "print(data.dtype)"
   ]
  },
  {
   "cell_type": "code",
   "execution_count": 19,
   "id": "a09a2b3b-afe3-423d-94a5-04680b13fe1b",
   "metadata": {},
   "outputs": [
    {
     "name": "stdout",
     "output_type": "stream",
     "text": [
      "[('Alice', 25, 55. ) ('Bob', 45, 85.5) ('Cathy', 37, 68. )\n",
      " ('Doug', 19, 61.5)]\n"
     ]
    }
   ],
   "source": [
    "data['name'] = name\n",
    "data['age'] = age\n",
    "data['weight'] = weight\n",
    "print(data)"
   ]
  },
  {
   "cell_type": "code",
   "execution_count": 23,
   "id": "ebf125b0-3abe-4d53-b212-0510e1362a19",
   "metadata": {},
   "outputs": [
    {
     "data": {
      "text/plain": [
       "array(['Alice', 'Bob', 'Cathy'], dtype='<U20')"
      ]
     },
     "execution_count": 23,
     "metadata": {},
     "output_type": "execute_result"
    }
   ],
   "source": [
    "data[data['age'] > 20]['name']"
   ]
  },
  {
   "cell_type": "markdown",
   "id": "91c8b35f-957b-4f44-a249-72bfca829bf4",
   "metadata": {},
   "source": [
    "## Manipulación de Datos con Pandas"
   ]
  },
  {
   "cell_type": "code",
   "execution_count": 59,
   "id": "4e6ec03d-3cc3-4765-85a2-c75becb317fc",
   "metadata": {},
   "outputs": [
    {
     "data": {
      "text/plain": [
       "0    0.25\n",
       "1    0.50\n",
       "2    0.75\n",
       "3    1.00\n",
       "dtype: float64"
      ]
     },
     "execution_count": 59,
     "metadata": {},
     "output_type": "execute_result"
    }
   ],
   "source": [
    "data = pd.Series([0.25, 0.5, 0.75, 1.0])\n",
    "data"
   ]
  },
  {
   "cell_type": "code",
   "execution_count": 60,
   "id": "70910463-0e0c-4a1c-838d-6a46d57c2c20",
   "metadata": {},
   "outputs": [
    {
     "data": {
      "text/plain": [
       "array([0.25, 0.5 , 0.75, 1.  ])"
      ]
     },
     "execution_count": 60,
     "metadata": {},
     "output_type": "execute_result"
    }
   ],
   "source": [
    "data.values"
   ]
  },
  {
   "cell_type": "markdown",
   "id": "f1c3ca94-0587-4ce6-9522-c936bd0a2f55",
   "metadata": {},
   "source": [
    "data[1], data[1:3]"
   ]
  },
  {
   "cell_type": "code",
   "execution_count": 61,
   "id": "a34b7e54-8032-4619-84cf-74fa6b58f160",
   "metadata": {},
   "outputs": [
    {
     "data": {
      "text/plain": [
       "a    0.25\n",
       "b    0.50\n",
       "c    0.75\n",
       "d    1.00\n",
       "dtype: float64"
      ]
     },
     "execution_count": 61,
     "metadata": {},
     "output_type": "execute_result"
    }
   ],
   "source": [
    "data = pd.Series([0.25, 0.5, 0.75, 1.0],\n",
    "                 index=['a', 'b', 'c', 'd'])\n",
    "data"
   ]
  },
  {
   "cell_type": "code",
   "execution_count": 62,
   "id": "fa178445-f0c9-41e0-9f93-d2f608165d4a",
   "metadata": {},
   "outputs": [
    {
     "data": {
      "text/plain": [
       "0.5"
      ]
     },
     "execution_count": 62,
     "metadata": {},
     "output_type": "execute_result"
    }
   ],
   "source": [
    "data['b']"
   ]
  },
  {
   "cell_type": "code",
   "execution_count": 63,
   "id": "0ecea7d9-4ac2-4b88-8660-b2669096f172",
   "metadata": {},
   "outputs": [
    {
     "data": {
      "text/plain": [
       "2    0.25\n",
       "5    0.50\n",
       "3    0.75\n",
       "7    1.00\n",
       "dtype: float64"
      ]
     },
     "execution_count": 63,
     "metadata": {},
     "output_type": "execute_result"
    }
   ],
   "source": [
    "data = pd.Series([0.25, 0.5, 0.75, 1.0],\n",
    "                 index=[2, 5, 3, 7])\n",
    "data"
   ]
  },
  {
   "cell_type": "code",
   "execution_count": 64,
   "id": "5fa1deb0-8168-424a-a656-1254241a627b",
   "metadata": {},
   "outputs": [
    {
     "data": {
      "text/plain": [
       "0.5"
      ]
     },
     "execution_count": 64,
     "metadata": {},
     "output_type": "execute_result"
    }
   ],
   "source": [
    "data[5]"
   ]
  },
  {
   "cell_type": "markdown",
   "id": "3de3cb8b-40cc-4416-807b-e1b1e47b6a50",
   "metadata": {},
   "source": [
    "### Series de diccionarios"
   ]
  },
  {
   "cell_type": "code",
   "execution_count": 67,
   "id": "8003ed8c-1c5e-47cf-8db1-3ca5957cd710",
   "metadata": {},
   "outputs": [
    {
     "data": {
      "text/plain": [
       "California    38332521\n",
       "Texas         26448193\n",
       "New York      19651127\n",
       "Florida       19552860\n",
       "Illinois      12882135\n",
       "dtype: int64"
      ]
     },
     "execution_count": 67,
     "metadata": {},
     "output_type": "execute_result"
    }
   ],
   "source": [
    "population_dict = {'California': 38332521,\n",
    "                   'Texas': 26448193,\n",
    "                   'New York': 19651127,\n",
    "                   'Florida': 19552860,\n",
    "                   'Illinois': 12882135}\n",
    "population = pd.Series(population_dict)\n",
    "population"
   ]
  },
  {
   "cell_type": "code",
   "execution_count": 68,
   "id": "20826f33-4ead-4a4a-a256-532bc4277022",
   "metadata": {},
   "outputs": [
    {
     "data": {
      "text/plain": [
       "(38332521,\n",
       " California    38332521\n",
       " Texas         26448193\n",
       " New York      19651127\n",
       " Florida       19552860\n",
       " dtype: int64)"
      ]
     },
     "execution_count": 68,
     "metadata": {},
     "output_type": "execute_result"
    }
   ],
   "source": [
    "population['California'], population['California':'Florida']"
   ]
  },
  {
   "cell_type": "code",
   "execution_count": 69,
   "id": "8248fccf-8280-4c84-abc0-0dc2796271f6",
   "metadata": {},
   "outputs": [
    {
     "data": {
      "text/plain": [
       "California    423967\n",
       "Texas         695662\n",
       "New York      141297\n",
       "Florida       170312\n",
       "Illinois      149995\n",
       "dtype: int64"
      ]
     },
     "execution_count": 69,
     "metadata": {},
     "output_type": "execute_result"
    }
   ],
   "source": [
    "#pd.Series(data, index=index)\n",
    "area_dict = {'California': 423967, 'Texas': 695662, 'New York': 141297,\n",
    "             'Florida': 170312, 'Illinois': 149995}\n",
    "area = pd.Series(area_dict)\n",
    "area\n"
   ]
  },
  {
   "cell_type": "code",
   "execution_count": 71,
   "id": "833b8221-c90b-4c70-96f5-3eb7adc84d74",
   "metadata": {},
   "outputs": [
    {
     "data": {
      "text/plain": [
       "California    1\n",
       "Texas         1\n",
       "New York      0\n",
       "Florida       1\n",
       "Illinois      0\n",
       "dtype: int64"
      ]
     },
     "execution_count": 71,
     "metadata": {},
     "output_type": "execute_result"
    }
   ],
   "source": [
    "#pd.Series(data, index=index)\n",
    "south_dict = {'California': 1, 'Texas': 1, 'New York': 0,\n",
    "             'Florida': 1, 'Illinois': 0}\n",
    "is_south = pd.Series(south_dict)\n",
    "is_south"
   ]
  },
  {
   "cell_type": "code",
   "execution_count": 74,
   "id": "c54e2a83-9e9c-4c94-961f-39f63e76898c",
   "metadata": {},
   "outputs": [
    {
     "data": {
      "text/html": [
       "<div>\n",
       "<style scoped>\n",
       "    .dataframe tbody tr th:only-of-type {\n",
       "        vertical-align: middle;\n",
       "    }\n",
       "\n",
       "    .dataframe tbody tr th {\n",
       "        vertical-align: top;\n",
       "    }\n",
       "\n",
       "    .dataframe thead th {\n",
       "        text-align: right;\n",
       "    }\n",
       "</style>\n",
       "<table border=\"1\" class=\"dataframe\">\n",
       "  <thead>\n",
       "    <tr style=\"text-align: right;\">\n",
       "      <th></th>\n",
       "      <th>population</th>\n",
       "      <th>area</th>\n",
       "      <th>is_south</th>\n",
       "    </tr>\n",
       "  </thead>\n",
       "  <tbody>\n",
       "    <tr>\n",
       "      <th>California</th>\n",
       "      <td>38332521</td>\n",
       "      <td>423967</td>\n",
       "      <td>1</td>\n",
       "    </tr>\n",
       "    <tr>\n",
       "      <th>Texas</th>\n",
       "      <td>26448193</td>\n",
       "      <td>695662</td>\n",
       "      <td>1</td>\n",
       "    </tr>\n",
       "    <tr>\n",
       "      <th>New York</th>\n",
       "      <td>19651127</td>\n",
       "      <td>141297</td>\n",
       "      <td>0</td>\n",
       "    </tr>\n",
       "    <tr>\n",
       "      <th>Florida</th>\n",
       "      <td>19552860</td>\n",
       "      <td>170312</td>\n",
       "      <td>1</td>\n",
       "    </tr>\n",
       "    <tr>\n",
       "      <th>Illinois</th>\n",
       "      <td>12882135</td>\n",
       "      <td>149995</td>\n",
       "      <td>0</td>\n",
       "    </tr>\n",
       "  </tbody>\n",
       "</table>\n",
       "</div>"
      ],
      "text/plain": [
       "            population    area  is_south\n",
       "California    38332521  423967         1\n",
       "Texas         26448193  695662         1\n",
       "New York      19651127  141297         0\n",
       "Florida       19552860  170312         1\n",
       "Illinois      12882135  149995         0"
      ]
     },
     "execution_count": 74,
     "metadata": {},
     "output_type": "execute_result"
    }
   ],
   "source": [
    "states = pd.DataFrame({'population': population,\n",
    "                       'area': area,\n",
    "                      'is_south': is_south})\n",
    "states"
   ]
  },
  {
   "cell_type": "code",
   "execution_count": 75,
   "id": "35ed3260-2e70-4b85-8c51-d30e280bab64",
   "metadata": {},
   "outputs": [
    {
     "data": {
      "text/plain": [
       "Index(['population', 'area', 'is_south'], dtype='object')"
      ]
     },
     "execution_count": 75,
     "metadata": {},
     "output_type": "execute_result"
    }
   ],
   "source": [
    "states.columns"
   ]
  },
  {
   "cell_type": "markdown",
   "id": "64fde07f-a7b1-4ba4-89e8-75cbb5ed41e0",
   "metadata": {},
   "source": [
    "Series es una matriz etiquetada unidimensional capaz de contener cualquier tipo de datos (enteros, cadenas, números de punto flotante, objetos de Python, etc.). Las etiquetas de eje se denominan colectivamente como el índice.\n",
    "\n",
    "DataFrame es una estructura de datos etiquetada bidimensional con columnas de tipos potencialmente diferentes."
   ]
  },
  {
   "cell_type": "markdown",
   "id": "de46865a-3fa8-4612-8bd8-2e1dc04f70a7",
   "metadata": {},
   "source": [
    "\n",
    "Aggregation     |     Description           |\n",
    "\n",
    "count()         |     Total number of items |\n",
    "\n",
    "first(), last()  |    First and last item   |\n",
    "\n",
    "mean(), median()  |    Mean and median      |\n",
    "\n",
    "min(), max()     |    Minimum and maximum   |\n",
    "\n",
    "std(), var()     |    Standard deviation    \n",
    "                        and variance\n",
    "\n",
    "mad()            |    Mean absolute deviation |\n",
    "\n",
    "prod()           |    Product of all items    |\n",
    "\n",
    "sum()            |   Sum of all items         |"
   ]
  },
  {
   "cell_type": "code",
   "execution_count": 79,
   "id": "daa108e2-a183-4de7-b4d9-d6c76c8f8e0a",
   "metadata": {},
   "outputs": [
    {
     "data": {
      "text/html": [
       "<div>\n",
       "<style scoped>\n",
       "    .dataframe tbody tr th:only-of-type {\n",
       "        vertical-align: middle;\n",
       "    }\n",
       "\n",
       "    .dataframe tbody tr th {\n",
       "        vertical-align: top;\n",
       "    }\n",
       "\n",
       "    .dataframe thead th {\n",
       "        text-align: right;\n",
       "    }\n",
       "</style>\n",
       "<table border=\"1\" class=\"dataframe\">\n",
       "  <thead>\n",
       "    <tr style=\"text-align: right;\">\n",
       "      <th></th>\n",
       "      <th>population</th>\n",
       "      <th>area</th>\n",
       "      <th>is_south</th>\n",
       "    </tr>\n",
       "  </thead>\n",
       "  <tbody>\n",
       "    <tr>\n",
       "      <th>New York</th>\n",
       "      <td>19651127</td>\n",
       "      <td>141297</td>\n",
       "      <td>0</td>\n",
       "    </tr>\n",
       "    <tr>\n",
       "      <th>Illinois</th>\n",
       "      <td>12882135</td>\n",
       "      <td>149995</td>\n",
       "      <td>0</td>\n",
       "    </tr>\n",
       "  </tbody>\n",
       "</table>\n",
       "</div>"
      ],
      "text/plain": [
       "          population    area  is_south\n",
       "New York    19651127  141297         0\n",
       "Illinois    12882135  149995         0"
      ]
     },
     "execution_count": 79,
     "metadata": {},
     "output_type": "execute_result"
    }
   ],
   "source": [
    "# Se puede agregar varias columnas para agrupar.\n",
    "state_south = states.groupby('is_south')\n",
    "state_south.get_group(0)\n"
   ]
  },
  {
   "cell_type": "markdown",
   "id": "d4752255-5510-4300-9447-8c27bcd0ac25",
   "metadata": {},
   "source": [
    "### Tratamiento de datos faltantes\n",
    "\n",
    "La forma en que Pandas maneja los valores faltantes está restringida por su dependencia del paquete NumPy, que no tiene una noción integrada de valores NA para tipos de datos que no son de punto flotante.\n",
    "\n",
    "El primer valor centinela utilizado por Pandas es Ninguno, un objeto único de Python que a menudo se usa para datos faltantes en el código de Python. Debido a que es un objeto de Python, Ninguno no se puede usar en ninguna matriz NumPy/Pandas arbitraria, sino solo en matrices con el tipo de datos 'objeto'"
   ]
  },
  {
   "cell_type": "code",
   "execution_count": 81,
   "id": "aac137f8-10f2-4cfa-995b-4e54e82fce3f",
   "metadata": {},
   "outputs": [
    {
     "data": {
      "text/plain": [
       "array([1, None, 3, 4], dtype=object)"
      ]
     },
     "execution_count": 81,
     "metadata": {},
     "output_type": "execute_result"
    }
   ],
   "source": [
    "vals1 = np.array([1, None, 3, 4])\n",
    "vals1"
   ]
  },
  {
   "cell_type": "markdown",
   "id": "6ea4e6e9-31a1-4282-a9ab-ce7cfea16b0e",
   "metadata": {},
   "source": [
    "Este dtype=object significa que la mejor representación de tipo común que NumPy podría inferir para el contenido de la matriz es que son objetos de Python. Si bien este tipo de matriz de objetos es útil para algunos propósitos, cualquier operación en los datos se realizará en el nivel de Python, con mucha más sobrecarga que las operaciones típicamente rápidas que se ven para las matrices con tipos nativos:"
   ]
  },
  {
   "cell_type": "code",
   "execution_count": 82,
   "id": "cbbad738-5047-4215-9969-e630531a9665",
   "metadata": {},
   "outputs": [
    {
     "name": "stdout",
     "output_type": "stream",
     "text": [
      "dtype = object\n",
      "56.5 ms ± 1.02 ms per loop (mean ± std. dev. of 7 runs, 10 loops each)\n",
      "\n",
      "dtype = int\n",
      "1.28 ms ± 105 µs per loop (mean ± std. dev. of 7 runs, 1000 loops each)\n",
      "\n"
     ]
    }
   ],
   "source": [
    "for dtype in ['object', 'int']:\n",
    "    print(\"dtype =\", dtype)\n",
    "    %timeit np.arange(1E6, dtype=dtype).sum()\n",
    "    print()"
   ]
  },
  {
   "cell_type": "code",
   "execution_count": 83,
   "id": "d20b7517-fe77-4140-a531-05fb744cfeae",
   "metadata": {},
   "outputs": [
    {
     "ename": "TypeError",
     "evalue": "unsupported operand type(s) for +: 'int' and 'NoneType'",
     "output_type": "error",
     "traceback": [
      "\u001b[0;31m---------------------------------------------------------------------------\u001b[0m",
      "\u001b[0;31mTypeError\u001b[0m                                 Traceback (most recent call last)",
      "\u001b[0;32m<ipython-input-83-30a3fc8c6726>\u001b[0m in \u001b[0;36m<module>\u001b[0;34m\u001b[0m\n\u001b[0;32m----> 1\u001b[0;31m \u001b[0mvals1\u001b[0m\u001b[0;34m.\u001b[0m\u001b[0msum\u001b[0m\u001b[0;34m(\u001b[0m\u001b[0;34m)\u001b[0m\u001b[0;34m\u001b[0m\u001b[0;34m\u001b[0m\u001b[0m\n\u001b[0m",
      "\u001b[0;32m~/.pyenv/versions/3.8.2/lib/python3.8/site-packages/numpy/core/_methods.py\u001b[0m in \u001b[0;36m_sum\u001b[0;34m(a, axis, dtype, out, keepdims, initial, where)\u001b[0m\n\u001b[1;32m     46\u001b[0m def _sum(a, axis=None, dtype=None, out=None, keepdims=False,\n\u001b[1;32m     47\u001b[0m          initial=_NoValue, where=True):\n\u001b[0;32m---> 48\u001b[0;31m     \u001b[0;32mreturn\u001b[0m \u001b[0mumr_sum\u001b[0m\u001b[0;34m(\u001b[0m\u001b[0ma\u001b[0m\u001b[0;34m,\u001b[0m \u001b[0maxis\u001b[0m\u001b[0;34m,\u001b[0m \u001b[0mdtype\u001b[0m\u001b[0;34m,\u001b[0m \u001b[0mout\u001b[0m\u001b[0;34m,\u001b[0m \u001b[0mkeepdims\u001b[0m\u001b[0;34m,\u001b[0m \u001b[0minitial\u001b[0m\u001b[0;34m,\u001b[0m \u001b[0mwhere\u001b[0m\u001b[0;34m)\u001b[0m\u001b[0;34m\u001b[0m\u001b[0;34m\u001b[0m\u001b[0m\n\u001b[0m\u001b[1;32m     49\u001b[0m \u001b[0;34m\u001b[0m\u001b[0m\n\u001b[1;32m     50\u001b[0m def _prod(a, axis=None, dtype=None, out=None, keepdims=False,\n",
      "\u001b[0;31mTypeError\u001b[0m: unsupported operand type(s) for +: 'int' and 'NoneType'"
     ]
    }
   ],
   "source": [
    "vals1.sum()"
   ]
  },
  {
   "cell_type": "code",
   "execution_count": 84,
   "id": "f67815ea-d050-4871-93cf-b68d77c5990c",
   "metadata": {},
   "outputs": [
    {
     "data": {
      "text/plain": [
       "dtype('float64')"
      ]
     },
     "execution_count": 84,
     "metadata": {},
     "output_type": "execute_result"
    }
   ],
   "source": [
    "vals2 = np.array([1, np.nan, 3, 4]) \n",
    "vals2.dtype"
   ]
  },
  {
   "cell_type": "code",
   "execution_count": 94,
   "id": "0c4d2727-0fa1-4f7c-8b90-8d04bcdc6c31",
   "metadata": {},
   "outputs": [
    {
     "data": {
      "text/plain": [
       "(nan, nan)"
      ]
     },
     "execution_count": 94,
     "metadata": {},
     "output_type": "execute_result"
    }
   ],
   "source": [
    "1 + np.nan, 0 *  np.nan"
   ]
  },
  {
   "cell_type": "code",
   "execution_count": 95,
   "id": "4da06358-d5d3-4e16-a8a4-80ee16457365",
   "metadata": {},
   "outputs": [
    {
     "data": {
      "text/plain": [
       "(nan, nan, nan)"
      ]
     },
     "execution_count": 95,
     "metadata": {},
     "output_type": "execute_result"
    }
   ],
   "source": [
    "vals2.sum(), vals2.min(), vals2.max()"
   ]
  },
  {
   "cell_type": "markdown",
   "id": "549e107e-b02f-4233-86ec-3d0e11078524",
   "metadata": {},
   "source": [
    "Funciones de agregación con valores nan"
   ]
  },
  {
   "cell_type": "code",
   "execution_count": 9,
   "id": "01edf552-a543-4d93-b76e-24cd76078c23",
   "metadata": {},
   "outputs": [
    {
     "data": {
      "text/plain": [
       "(8.0, 1.0, 4.0)"
      ]
     },
     "execution_count": 9,
     "metadata": {},
     "output_type": "execute_result"
    }
   ],
   "source": [
    "np.nansum(vals2), np.nanmin(vals2), np.nanmax(vals2)"
   ]
  },
  {
   "cell_type": "markdown",
   "id": "fc149415-64c9-4546-b6fd-3e845a4014d4",
   "metadata": {},
   "source": [
    "Manejo de nan y none"
   ]
  },
  {
   "cell_type": "code",
   "execution_count": 87,
   "id": "09a10908-4cb4-4861-b8be-bc06ccb2b885",
   "metadata": {},
   "outputs": [
    {
     "data": {
      "text/plain": [
       "0    1.0\n",
       "1    NaN\n",
       "2    2.0\n",
       "3    NaN\n",
       "dtype: float64"
      ]
     },
     "execution_count": 87,
     "metadata": {},
     "output_type": "execute_result"
    }
   ],
   "source": [
    "pd.Series([1, np.nan, 2, None])"
   ]
  },
  {
   "cell_type": "code",
   "execution_count": 88,
   "id": "0bce5d27-9e1b-4e8c-ae86-ce7aec54b1c7",
   "metadata": {},
   "outputs": [
    {
     "data": {
      "text/plain": [
       "0    0\n",
       "1    1\n",
       "dtype: int64"
      ]
     },
     "execution_count": 88,
     "metadata": {},
     "output_type": "execute_result"
    }
   ],
   "source": [
    "x = pd.Series(range(2), dtype=int)\n",
    "x"
   ]
  },
  {
   "cell_type": "code",
   "execution_count": 89,
   "id": "bc7a58e4-e32e-432f-b5ae-9042d5e81ee5",
   "metadata": {},
   "outputs": [
    {
     "data": {
      "text/plain": [
       "0    NaN\n",
       "1    1.0\n",
       "dtype: float64"
      ]
     },
     "execution_count": 89,
     "metadata": {},
     "output_type": "execute_result"
    }
   ],
   "source": [
    "x[0] = None\n",
    "x"
   ]
  },
  {
   "cell_type": "raw",
   "id": "4ed26f8a-eb4e-4d06-909d-aae547ab60a6",
   "metadata": {},
   "source": [
    "\n",
    "Typeclas   Conversion When Storing NAs   NA Sentinel Value\n",
    "floating   No change         np.nan\n",
    "object     No change           None or np.nan\n",
    "integer    Cast to float64    np.nan\n",
    "boolean    Cast to object     None or np.nan\n"
   ]
  },
  {
   "cell_type": "markdown",
   "id": "05f9e964-042c-4a94-bed0-72e13398fc81",
   "metadata": {},
   "source": [
    "### Operando en valores nulos\n",
    "\n",
    "Como hemos visto, Pandas trata a None y NaN como esencialmente intercambiables para indicar valores faltantes o nulos. Para facilitar esta convención, existen varios métodos útiles para detectar, eliminar y reemplazar valores nulos en las estructuras de datos de Pandas. Ellos son:\n",
    "\n",
    "    isnull(): Generate a boolean mask indicating missing values\n",
    "    notnull(): Opposite of isnull()\n",
    "    dropna(): Return a filtered version of the data\n",
    "    fillna(): Return a copy of the data with missing values filled or imputed\n"
   ]
  },
  {
   "cell_type": "code",
   "execution_count": 97,
   "id": "811fb08c-e8f7-4c6a-abc7-c362a58b03b8",
   "metadata": {},
   "outputs": [],
   "source": [
    "data = pd.Series([1, np.nan, 'hello', None])"
   ]
  },
  {
   "cell_type": "code",
   "execution_count": 98,
   "id": "19f003d1-2997-4848-8178-2997ef7e40e4",
   "metadata": {},
   "outputs": [
    {
     "data": {
      "text/plain": [
       "0    False\n",
       "1     True\n",
       "2    False\n",
       "3     True\n",
       "dtype: bool"
      ]
     },
     "execution_count": 98,
     "metadata": {},
     "output_type": "execute_result"
    }
   ],
   "source": [
    "data.isnull()"
   ]
  },
  {
   "cell_type": "code",
   "execution_count": 99,
   "id": "ea6b7b25-f744-48eb-b831-0022e51d89c4",
   "metadata": {},
   "outputs": [
    {
     "data": {
      "text/plain": [
       "0        1\n",
       "2    hello\n",
       "dtype: object"
      ]
     },
     "execution_count": 99,
     "metadata": {},
     "output_type": "execute_result"
    }
   ],
   "source": [
    "data[data.notnull()]"
   ]
  },
  {
   "cell_type": "code",
   "execution_count": 100,
   "id": "de96f43a-c010-456c-9554-8a04185f02df",
   "metadata": {},
   "outputs": [
    {
     "data": {
      "text/plain": [
       "0        1\n",
       "2    hello\n",
       "dtype: object"
      ]
     },
     "execution_count": 100,
     "metadata": {},
     "output_type": "execute_result"
    }
   ],
   "source": [
    "data.dropna()"
   ]
  },
  {
   "cell_type": "code",
   "execution_count": 101,
   "id": "a89e8e83-3b0c-40af-a825-71a15e86414b",
   "metadata": {},
   "outputs": [
    {
     "data": {
      "text/html": [
       "<div>\n",
       "<style scoped>\n",
       "    .dataframe tbody tr th:only-of-type {\n",
       "        vertical-align: middle;\n",
       "    }\n",
       "\n",
       "    .dataframe tbody tr th {\n",
       "        vertical-align: top;\n",
       "    }\n",
       "\n",
       "    .dataframe thead th {\n",
       "        text-align: right;\n",
       "    }\n",
       "</style>\n",
       "<table border=\"1\" class=\"dataframe\">\n",
       "  <thead>\n",
       "    <tr style=\"text-align: right;\">\n",
       "      <th></th>\n",
       "      <th>0</th>\n",
       "      <th>1</th>\n",
       "      <th>2</th>\n",
       "    </tr>\n",
       "  </thead>\n",
       "  <tbody>\n",
       "    <tr>\n",
       "      <th>0</th>\n",
       "      <td>1.0</td>\n",
       "      <td>NaN</td>\n",
       "      <td>2</td>\n",
       "    </tr>\n",
       "    <tr>\n",
       "      <th>1</th>\n",
       "      <td>2.0</td>\n",
       "      <td>3.0</td>\n",
       "      <td>5</td>\n",
       "    </tr>\n",
       "    <tr>\n",
       "      <th>2</th>\n",
       "      <td>NaN</td>\n",
       "      <td>4.0</td>\n",
       "      <td>6</td>\n",
       "    </tr>\n",
       "  </tbody>\n",
       "</table>\n",
       "</div>"
      ],
      "text/plain": [
       "     0    1  2\n",
       "0  1.0  NaN  2\n",
       "1  2.0  3.0  5\n",
       "2  NaN  4.0  6"
      ]
     },
     "execution_count": 101,
     "metadata": {},
     "output_type": "execute_result"
    }
   ],
   "source": [
    "df = pd.DataFrame([[1,      np.nan, 2],\n",
    "                   [2,      3,      5],\n",
    "                   [np.nan, 4,      6]])\n",
    "df"
   ]
  },
  {
   "cell_type": "code",
   "execution_count": 102,
   "id": "2941e9ac-55c8-45d4-b576-bbfe77fbdc2a",
   "metadata": {},
   "outputs": [
    {
     "data": {
      "text/html": [
       "<div>\n",
       "<style scoped>\n",
       "    .dataframe tbody tr th:only-of-type {\n",
       "        vertical-align: middle;\n",
       "    }\n",
       "\n",
       "    .dataframe tbody tr th {\n",
       "        vertical-align: top;\n",
       "    }\n",
       "\n",
       "    .dataframe thead th {\n",
       "        text-align: right;\n",
       "    }\n",
       "</style>\n",
       "<table border=\"1\" class=\"dataframe\">\n",
       "  <thead>\n",
       "    <tr style=\"text-align: right;\">\n",
       "      <th></th>\n",
       "      <th>0</th>\n",
       "      <th>1</th>\n",
       "      <th>2</th>\n",
       "    </tr>\n",
       "  </thead>\n",
       "  <tbody>\n",
       "    <tr>\n",
       "      <th>1</th>\n",
       "      <td>2.0</td>\n",
       "      <td>3.0</td>\n",
       "      <td>5</td>\n",
       "    </tr>\n",
       "  </tbody>\n",
       "</table>\n",
       "</div>"
      ],
      "text/plain": [
       "     0    1  2\n",
       "1  2.0  3.0  5"
      ]
     },
     "execution_count": 102,
     "metadata": {},
     "output_type": "execute_result"
    }
   ],
   "source": [
    "df.dropna()"
   ]
  },
  {
   "cell_type": "code",
   "execution_count": 103,
   "id": "647746ff-8159-4843-973f-0523f7e0f41e",
   "metadata": {},
   "outputs": [
    {
     "data": {
      "text/html": [
       "<div>\n",
       "<style scoped>\n",
       "    .dataframe tbody tr th:only-of-type {\n",
       "        vertical-align: middle;\n",
       "    }\n",
       "\n",
       "    .dataframe tbody tr th {\n",
       "        vertical-align: top;\n",
       "    }\n",
       "\n",
       "    .dataframe thead th {\n",
       "        text-align: right;\n",
       "    }\n",
       "</style>\n",
       "<table border=\"1\" class=\"dataframe\">\n",
       "  <thead>\n",
       "    <tr style=\"text-align: right;\">\n",
       "      <th></th>\n",
       "      <th>2</th>\n",
       "    </tr>\n",
       "  </thead>\n",
       "  <tbody>\n",
       "    <tr>\n",
       "      <th>0</th>\n",
       "      <td>2</td>\n",
       "    </tr>\n",
       "    <tr>\n",
       "      <th>1</th>\n",
       "      <td>5</td>\n",
       "    </tr>\n",
       "    <tr>\n",
       "      <th>2</th>\n",
       "      <td>6</td>\n",
       "    </tr>\n",
       "  </tbody>\n",
       "</table>\n",
       "</div>"
      ],
      "text/plain": [
       "   2\n",
       "0  2\n",
       "1  5\n",
       "2  6"
      ]
     },
     "execution_count": 103,
     "metadata": {},
     "output_type": "execute_result"
    }
   ],
   "source": [
    "df.dropna(axis='columns')"
   ]
  },
  {
   "cell_type": "code",
   "execution_count": 104,
   "id": "7b0fb9ff-2fcc-4210-ba52-c7d398abba3d",
   "metadata": {},
   "outputs": [
    {
     "data": {
      "text/html": [
       "<div>\n",
       "<style scoped>\n",
       "    .dataframe tbody tr th:only-of-type {\n",
       "        vertical-align: middle;\n",
       "    }\n",
       "\n",
       "    .dataframe tbody tr th {\n",
       "        vertical-align: top;\n",
       "    }\n",
       "\n",
       "    .dataframe thead th {\n",
       "        text-align: right;\n",
       "    }\n",
       "</style>\n",
       "<table border=\"1\" class=\"dataframe\">\n",
       "  <thead>\n",
       "    <tr style=\"text-align: right;\">\n",
       "      <th></th>\n",
       "      <th>0</th>\n",
       "      <th>1</th>\n",
       "      <th>2</th>\n",
       "      <th>3</th>\n",
       "    </tr>\n",
       "  </thead>\n",
       "  <tbody>\n",
       "    <tr>\n",
       "      <th>0</th>\n",
       "      <td>1.0</td>\n",
       "      <td>NaN</td>\n",
       "      <td>2</td>\n",
       "      <td>NaN</td>\n",
       "    </tr>\n",
       "    <tr>\n",
       "      <th>1</th>\n",
       "      <td>2.0</td>\n",
       "      <td>3.0</td>\n",
       "      <td>5</td>\n",
       "      <td>NaN</td>\n",
       "    </tr>\n",
       "    <tr>\n",
       "      <th>2</th>\n",
       "      <td>NaN</td>\n",
       "      <td>4.0</td>\n",
       "      <td>6</td>\n",
       "      <td>NaN</td>\n",
       "    </tr>\n",
       "  </tbody>\n",
       "</table>\n",
       "</div>"
      ],
      "text/plain": [
       "     0    1  2   3\n",
       "0  1.0  NaN  2 NaN\n",
       "1  2.0  3.0  5 NaN\n",
       "2  NaN  4.0  6 NaN"
      ]
     },
     "execution_count": 104,
     "metadata": {},
     "output_type": "execute_result"
    }
   ],
   "source": [
    "df[3] = np.nan\n",
    "df"
   ]
  },
  {
   "cell_type": "code",
   "execution_count": 106,
   "id": "ab114586-aacb-4c2d-9a0f-a366d35c131e",
   "metadata": {},
   "outputs": [
    {
     "data": {
      "text/html": [
       "<div>\n",
       "<style scoped>\n",
       "    .dataframe tbody tr th:only-of-type {\n",
       "        vertical-align: middle;\n",
       "    }\n",
       "\n",
       "    .dataframe tbody tr th {\n",
       "        vertical-align: top;\n",
       "    }\n",
       "\n",
       "    .dataframe thead th {\n",
       "        text-align: right;\n",
       "    }\n",
       "</style>\n",
       "<table border=\"1\" class=\"dataframe\">\n",
       "  <thead>\n",
       "    <tr style=\"text-align: right;\">\n",
       "      <th></th>\n",
       "      <th>0</th>\n",
       "      <th>1</th>\n",
       "      <th>2</th>\n",
       "    </tr>\n",
       "  </thead>\n",
       "  <tbody>\n",
       "    <tr>\n",
       "      <th>0</th>\n",
       "      <td>1.0</td>\n",
       "      <td>NaN</td>\n",
       "      <td>2</td>\n",
       "    </tr>\n",
       "    <tr>\n",
       "      <th>1</th>\n",
       "      <td>2.0</td>\n",
       "      <td>3.0</td>\n",
       "      <td>5</td>\n",
       "    </tr>\n",
       "    <tr>\n",
       "      <th>2</th>\n",
       "      <td>NaN</td>\n",
       "      <td>4.0</td>\n",
       "      <td>6</td>\n",
       "    </tr>\n",
       "  </tbody>\n",
       "</table>\n",
       "</div>"
      ],
      "text/plain": [
       "     0    1  2\n",
       "0  1.0  NaN  2\n",
       "1  2.0  3.0  5\n",
       "2  NaN  4.0  6"
      ]
     },
     "execution_count": 106,
     "metadata": {},
     "output_type": "execute_result"
    }
   ],
   "source": [
    "df.dropna(axis='columns', how='all')"
   ]
  },
  {
   "cell_type": "markdown",
   "id": "e4efecd1-2917-48fa-8738-d4350447c6fa",
   "metadata": {},
   "source": [
    "### Relleno de valores nulos"
   ]
  },
  {
   "cell_type": "code",
   "execution_count": 112,
   "id": "d9b6d4bb-3de3-426e-a5f0-3df58b0bfe51",
   "metadata": {},
   "outputs": [
    {
     "data": {
      "text/plain": [
       "0    1.0\n",
       "1    NaN\n",
       "2    2.0\n",
       "3    NaN\n",
       "4    3.0\n",
       "dtype: float64"
      ]
     },
     "execution_count": 112,
     "metadata": {},
     "output_type": "execute_result"
    }
   ],
   "source": [
    "data = pd.Series([1, np.nan, 2, None, 3])\n",
    "data"
   ]
  },
  {
   "cell_type": "code",
   "execution_count": 113,
   "id": "ba589128-f75c-4d0f-a761-85dbabe60171",
   "metadata": {},
   "outputs": [
    {
     "data": {
      "text/plain": [
       "0    1.0\n",
       "1    2.0\n",
       "2    2.0\n",
       "3    2.0\n",
       "4    3.0\n",
       "dtype: float64"
      ]
     },
     "execution_count": 113,
     "metadata": {},
     "output_type": "execute_result"
    }
   ],
   "source": [
    "promedio = data.dropna().mean()\n",
    "data.fillna(promedio)"
   ]
  },
  {
   "cell_type": "code",
   "execution_count": 114,
   "id": "43afb12f-8389-4fc1-b7ec-e3c7d80bf095",
   "metadata": {},
   "outputs": [
    {
     "data": {
      "text/plain": [
       "(0    1.0\n",
       " 1    1.0\n",
       " 2    2.0\n",
       " 3    2.0\n",
       " 4    3.0\n",
       " dtype: float64,\n",
       " 0    1.0\n",
       " 1    2.0\n",
       " 2    2.0\n",
       " 3    3.0\n",
       " 4    3.0\n",
       " dtype: float64)"
      ]
     },
     "execution_count": 114,
     "metadata": {},
     "output_type": "execute_result"
    }
   ],
   "source": [
    "#Valor anterior y posterior\n",
    "data.fillna(method='ffill'), data.fillna(method='bfill')"
   ]
  },
  {
   "cell_type": "markdown",
   "id": "1d38e4f5-3f6e-453c-a38e-5cc6d6896737",
   "metadata": {},
   "source": [
    "Concatenación simple"
   ]
  },
  {
   "cell_type": "code",
   "execution_count": 27,
   "id": "38414039-c017-4d1c-92e8-835dec77c355",
   "metadata": {},
   "outputs": [],
   "source": [
    "#pd.concat(objs, axis=0, join='outer', join_axes=None, ignore_index=False,\n",
    "#          keys=None, levels=None, names=None, verify_integrity=False,\n",
    "#          copy=True)"
   ]
  },
  {
   "cell_type": "code",
   "execution_count": 49,
   "id": "3bcd5618-b772-4a5b-917d-e52021328c82",
   "metadata": {},
   "outputs": [
    {
     "data": {
      "text/plain": [
       "1    A\n",
       "2    B\n",
       "3    C\n",
       "4    D\n",
       "5    E\n",
       "6    F\n",
       "dtype: object"
      ]
     },
     "execution_count": 49,
     "metadata": {},
     "output_type": "execute_result"
    }
   ],
   "source": [
    "ser1 = pd.Series(['A', 'B', 'C'], index=[1, 2, 3])\n",
    "ser2 = pd.Series(['D', 'E', 'F'], index=[4, 5, 6])\n",
    "pd.concat([ser1, ser2])"
   ]
  },
  {
   "cell_type": "code",
   "execution_count": 121,
   "id": "7d9e42ed-575e-4e01-9209-4b280a8331a6",
   "metadata": {},
   "outputs": [
    {
     "data": {
      "text/html": [
       "<div>\n",
       "<style scoped>\n",
       "    .dataframe tbody tr th:only-of-type {\n",
       "        vertical-align: middle;\n",
       "    }\n",
       "\n",
       "    .dataframe tbody tr th {\n",
       "        vertical-align: top;\n",
       "    }\n",
       "\n",
       "    .dataframe thead th {\n",
       "        text-align: right;\n",
       "    }\n",
       "</style>\n",
       "<table border=\"1\" class=\"dataframe\">\n",
       "  <thead>\n",
       "    <tr style=\"text-align: right;\">\n",
       "      <th></th>\n",
       "      <th>employee</th>\n",
       "      <th>group</th>\n",
       "      <th>hire_date</th>\n",
       "    </tr>\n",
       "  </thead>\n",
       "  <tbody>\n",
       "    <tr>\n",
       "      <th>0</th>\n",
       "      <td>True</td>\n",
       "      <td>Engineering</td>\n",
       "      <td>2004</td>\n",
       "    </tr>\n",
       "    <tr>\n",
       "      <th>1</th>\n",
       "      <td>Alan</td>\n",
       "      <td>HR</td>\n",
       "      <td>2014</td>\n",
       "    </tr>\n",
       "  </tbody>\n",
       "</table>\n",
       "</div>"
      ],
      "text/plain": [
       "  employee        group  hire_date\n",
       "0     True  Engineering       2004\n",
       "1     Alan           HR       2014"
      ]
     },
     "execution_count": 121,
     "metadata": {},
     "output_type": "execute_result"
    }
   ],
   "source": [
    "df1 = pd.DataFrame({'employee': [0, \"Tadeo\", True, \"Alan\"],\n",
    "                    'group': ['Accounting', 'Engineering', 'Engineering', 'HR']})\n",
    "df2 = pd.DataFrame({'employee': [1, \"roberto\", \"Gibran\", \"Alan\"],\n",
    "                    'hire_date': [2004, 2008, 2012, 2014]})\n",
    "\n",
    "df3 = pd.merge(df1, df2)\n",
    "df3"
   ]
  },
  {
   "cell_type": "code",
   "execution_count": 122,
   "id": "c709b551-80da-4fa4-85f8-ecb5f92bcea3",
   "metadata": {},
   "outputs": [],
   "source": [
    "class display(object):\n",
    "    \"\"\"Display HTML representation of multiple objects\"\"\"\n",
    "    template = \"\"\"<div style=\"float: left; padding: 10px;\">\n",
    "    <p style='font-family:\"Courier New\", Courier, monospace'>{0}</p>{1}\n",
    "    </div>\"\"\"\n",
    "    def __init__(self, *args):\n",
    "        self.args = args\n",
    "        \n",
    "    def _repr_html_(self):\n",
    "        return '\\n'.join(self.template.format(a, eval(a)._repr_html_())\n",
    "                         for a in self.args)\n",
    "    \n",
    "    def __repr__(self):\n",
    "        return '\\n\\n'.join(a + '\\n' + repr(eval(a))\n",
    "                           for a in self.args)"
   ]
  },
  {
   "cell_type": "code",
   "execution_count": 123,
   "id": "5d487f72-a60f-447c-8dcd-b118c2ae9a2b",
   "metadata": {},
   "outputs": [
    {
     "data": {
      "text/plain": [
       "(1035, 6)"
      ]
     },
     "execution_count": 123,
     "metadata": {},
     "output_type": "execute_result"
    }
   ],
   "source": [
    "import seaborn as sns\n",
    "planets = sns.load_dataset('planets')\n",
    "planets.shape"
   ]
  },
  {
   "cell_type": "code",
   "execution_count": 33,
   "id": "c9d63f3d-5fc4-4089-9443-76a095879320",
   "metadata": {},
   "outputs": [
    {
     "data": {
      "text/html": [
       "<div>\n",
       "<style scoped>\n",
       "    .dataframe tbody tr th:only-of-type {\n",
       "        vertical-align: middle;\n",
       "    }\n",
       "\n",
       "    .dataframe tbody tr th {\n",
       "        vertical-align: top;\n",
       "    }\n",
       "\n",
       "    .dataframe thead th {\n",
       "        text-align: right;\n",
       "    }\n",
       "</style>\n",
       "<table border=\"1\" class=\"dataframe\">\n",
       "  <thead>\n",
       "    <tr style=\"text-align: right;\">\n",
       "      <th></th>\n",
       "      <th>method</th>\n",
       "      <th>number</th>\n",
       "      <th>orbital_period</th>\n",
       "      <th>mass</th>\n",
       "      <th>distance</th>\n",
       "      <th>year</th>\n",
       "    </tr>\n",
       "  </thead>\n",
       "  <tbody>\n",
       "    <tr>\n",
       "      <th>0</th>\n",
       "      <td>Radial Velocity</td>\n",
       "      <td>1</td>\n",
       "      <td>269.300</td>\n",
       "      <td>7.10</td>\n",
       "      <td>77.40</td>\n",
       "      <td>2006</td>\n",
       "    </tr>\n",
       "    <tr>\n",
       "      <th>1</th>\n",
       "      <td>Radial Velocity</td>\n",
       "      <td>1</td>\n",
       "      <td>874.774</td>\n",
       "      <td>2.21</td>\n",
       "      <td>56.95</td>\n",
       "      <td>2008</td>\n",
       "    </tr>\n",
       "    <tr>\n",
       "      <th>2</th>\n",
       "      <td>Radial Velocity</td>\n",
       "      <td>1</td>\n",
       "      <td>763.000</td>\n",
       "      <td>2.60</td>\n",
       "      <td>19.84</td>\n",
       "      <td>2011</td>\n",
       "    </tr>\n",
       "    <tr>\n",
       "      <th>3</th>\n",
       "      <td>Radial Velocity</td>\n",
       "      <td>1</td>\n",
       "      <td>326.030</td>\n",
       "      <td>19.40</td>\n",
       "      <td>110.62</td>\n",
       "      <td>2007</td>\n",
       "    </tr>\n",
       "    <tr>\n",
       "      <th>4</th>\n",
       "      <td>Radial Velocity</td>\n",
       "      <td>1</td>\n",
       "      <td>516.220</td>\n",
       "      <td>10.50</td>\n",
       "      <td>119.47</td>\n",
       "      <td>2009</td>\n",
       "    </tr>\n",
       "  </tbody>\n",
       "</table>\n",
       "</div>"
      ],
      "text/plain": [
       "            method  number  orbital_period   mass  distance  year\n",
       "0  Radial Velocity       1         269.300   7.10     77.40  2006\n",
       "1  Radial Velocity       1         874.774   2.21     56.95  2008\n",
       "2  Radial Velocity       1         763.000   2.60     19.84  2011\n",
       "3  Radial Velocity       1         326.030  19.40    110.62  2007\n",
       "4  Radial Velocity       1         516.220  10.50    119.47  2009"
      ]
     },
     "execution_count": 33,
     "metadata": {},
     "output_type": "execute_result"
    }
   ],
   "source": [
    "planets.head()"
   ]
  },
  {
   "cell_type": "code",
   "execution_count": 34,
   "id": "db99d2ee-7a60-46bb-909d-75819d7b0447",
   "metadata": {},
   "outputs": [
    {
     "data": {
      "text/plain": [
       "0    0.374540\n",
       "1    0.950714\n",
       "2    0.731994\n",
       "3    0.598658\n",
       "4    0.156019\n",
       "dtype: float64"
      ]
     },
     "execution_count": 34,
     "metadata": {},
     "output_type": "execute_result"
    }
   ],
   "source": [
    "rng = np.random.RandomState(42)\n",
    "ser = pd.Series(rng.rand(5))\n",
    "ser"
   ]
  },
  {
   "cell_type": "code",
   "execution_count": 36,
   "id": "e8b7cec3-559b-4ca9-9baf-33362f2c0501",
   "metadata": {},
   "outputs": [
    {
     "data": {
      "text/plain": [
       "(2.811925491708157,\n",
       " 0.5623850983416314,\n",
       " 0    1.500000\n",
       " 1    3.500000\n",
       " 2    4.333333\n",
       " 3         NaN\n",
       " dtype: float64)"
      ]
     },
     "execution_count": 36,
     "metadata": {},
     "output_type": "execute_result"
    }
   ],
   "source": [
    "ser.sum(), ser.mean(), df.mean()"
   ]
  },
  {
   "cell_type": "code",
   "execution_count": 125,
   "id": "ccbd9ac2-1cb3-4be5-829f-0f3e847bae69",
   "metadata": {},
   "outputs": [],
   "source": [
    "monte = pd.Series(['Graham Chapman', 'John Cleese', 'Terry Gilliam',\n",
    "                   'Eric Idle', 'Terry Jones', 'Michael Palin'])"
   ]
  },
  {
   "cell_type": "code",
   "execution_count": 126,
   "id": "188255de-bac2-4f3d-8804-9a47507a57b8",
   "metadata": {},
   "outputs": [
    {
     "data": {
      "text/plain": [
       "(0    graham chapman\n",
       " 1       john cleese\n",
       " 2     terry gilliam\n",
       " 3         eric idle\n",
       " 4       terry jones\n",
       " 5     michael palin\n",
       " dtype: object,\n",
       " 0    14\n",
       " 1    11\n",
       " 2    13\n",
       " 3     9\n",
       " 4    11\n",
       " 5    13\n",
       " dtype: int64,\n",
       " 0    False\n",
       " 1    False\n",
       " 2     True\n",
       " 3    False\n",
       " 4     True\n",
       " 5    False\n",
       " dtype: bool)"
      ]
     },
     "execution_count": 126,
     "metadata": {},
     "output_type": "execute_result"
    }
   ],
   "source": [
    "monte.str.lower(), monte.str.len(), monte.str.startswith('T')"
   ]
  },
  {
   "cell_type": "raw",
   "id": "ea4dce47-dd09-49db-9055-f20e693d5ab8",
   "metadata": {},
   "source": [
    "Method    Description\n",
    "match()    Call re.match() on each element, returning a boolean.\n",
    "extract()  Call re.match() on each element, returning matched groups as strings.\n",
    "findall()  Call re.findall() on each element\n",
    "replace()  Replace occurrences of pattern with some other string\n",
    "contains() Call re.search() on each element, returning a boolean\n",
    "count()    Count occurrences of pattern\n",
    "split()    Equivalent to str.split(), but accepts regexps\n",
    "rsplit()   Equivalent to str.rsplit(), but accepts regexps"
   ]
  },
  {
   "cell_type": "code",
   "execution_count": 127,
   "id": "f9e5a667-34e7-4b3f-9558-35fc68b37837",
   "metadata": {},
   "outputs": [
    {
     "data": {
      "text/plain": [
       "(0     Graham\n",
       " 1       John\n",
       " 2      Terry\n",
       " 3       Eric\n",
       " 4      Terry\n",
       " 5    Michael\n",
       " dtype: object,\n",
       " 0    [Graham Chapman]\n",
       " 1                  []\n",
       " 2     [Terry Gilliam]\n",
       " 3                  []\n",
       " 4       [Terry Jones]\n",
       " 5     [Michael Palin]\n",
       " dtype: object)"
      ]
     },
     "execution_count": 127,
     "metadata": {},
     "output_type": "execute_result"
    }
   ],
   "source": [
    "monte.str.extract('([A-Za-z]+)', expand=False), monte.str.findall(r'^[^AEIOU].*[^aeiou]$')"
   ]
  },
  {
   "cell_type": "code",
   "execution_count": 130,
   "id": "b05d3805-8939-44f6-b410-8c026ddb94e3",
   "metadata": {},
   "outputs": [
    {
     "name": "stdout",
     "output_type": "stream",
     "text": [
      "  % Total    % Received % Xferd  Average Speed   Time    Time     Time  Current\n",
      "                                 Dload  Upload   Total   Spent    Left  Speed\n",
      "100    20  100    20    0     0     93      0 --:--:-- --:--:-- --:--:--    93\n"
     ]
    }
   ],
   "source": [
    "!curl -O http://openrecipes.s3.amazonaws.com/recipeitems-latest.json.gz\n",
    "!gunzip recipeitems-latest.json.gz"
   ]
  },
  {
   "cell_type": "code",
   "execution_count": 132,
   "id": "cc35f090-fc8e-444f-b467-3d8bc489e8d6",
   "metadata": {},
   "outputs": [
    {
     "name": "stdout",
     "output_type": "stream",
     "text": [
      "ValueError: Expected object or value\n"
     ]
    }
   ],
   "source": [
    "try:\n",
    "    recipes = pd.read_json('recipeitems-latest.json')\n",
    "except ValueError as e:\n",
    "    print(\"ValueError:\", e)\n"
   ]
  },
  {
   "cell_type": "code",
   "execution_count": null,
   "id": "231430ab-4871-4514-beee-5ac15610916e",
   "metadata": {},
   "outputs": [],
   "source": []
  }
 ],
 "metadata": {
  "kernelspec": {
   "display_name": "Python 3",
   "language": "python",
   "name": "python3"
  },
  "language_info": {
   "codemirror_mode": {
    "name": "ipython",
    "version": 3
   },
   "file_extension": ".py",
   "mimetype": "text/x-python",
   "name": "python",
   "nbconvert_exporter": "python",
   "pygments_lexer": "ipython3",
   "version": "3.8.2"
  }
 },
 "nbformat": 4,
 "nbformat_minor": 5
}
