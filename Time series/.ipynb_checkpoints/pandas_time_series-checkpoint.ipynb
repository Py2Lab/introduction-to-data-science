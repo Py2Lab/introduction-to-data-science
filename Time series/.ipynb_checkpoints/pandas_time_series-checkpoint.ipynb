{
 "cells": [
  {
   "cell_type": "markdown",
   "id": "1b5cb85a-f2a5-4d2a-b766-3e879c75f981",
   "metadata": {},
   "source": [
    "#### Trabajar con series de tiempo\n",
    "\n",
    "Pandas se desarrolló en el contexto del modelado financiero, por lo que, como era de esperar, contiene un conjunto bastante extenso de herramientas para trabajar con fechas, horas y datos indexados por tiempo. Los datos de fecha y hora vienen en varios sabores, que discutiremos aquí:\n",
    "\n",
    "Las marcas de tiempo hacen referencia a momentos particulares en el tiempo (por ejemplo, 4 de julio de 2015 a las 7:00 am).\n",
    "Los intervalos de tiempo y los períodos hacen referencia a un período de tiempo entre un punto inicial y final en particular; por ejemplo, el año 2015. Los períodos suelen hacer referencia a un caso especial de intervalos de tiempo en los que cada intervalo tiene una duración uniforme y no se superpone (por ejemplo, períodos de 24 horas que comprenden días).\n",
    "Los deltas de tiempo o duraciones hacen referencia a un período de tiempo exacto (por ejemplo, una duración de 22,56 segundos).\n",
    "En esta sección, presentaremos cómo trabajar con cada uno de estos tipos de datos de fecha/hora en Pandas. Esta breve sección no es de ninguna manera una guía completa de las herramientas de series temporales disponibles en Python o Pandas, sino que pretende ser una descripción general amplia de cómo usted, como usuario, debe abordar el trabajo con series temporales. Comenzaremos con una breve discusión de las herramientas para manejar fechas y horas en Python, antes de pasar más específicamente a una discusión de las herramientas proporcionadas por Pandas. Después de enumerar algunos recursos que profundizan, revisaremos algunos ejemplos breves de cómo trabajar con datos de series temporales en Pandas."
   ]
  },
  {
   "cell_type": "markdown",
   "id": "ad8da21a-b9a5-4008-ab0b-8e3ffa783791",
   "metadata": {},
   "source": [
    "### Fechas y horas en Python\n",
    "\n",
    "El mundo de Python tiene varias representaciones disponibles de fechas, horas, deltas e intervalos de tiempo. Si bien las herramientas de series temporales proporcionadas por Pandas tienden a ser las más útiles para las aplicaciones de ciencia de datos, es útil ver su relación con otros paquetes utilizados en Python."
   ]
  },
  {
   "cell_type": "code",
   "execution_count": 29,
   "id": "5a99c9a7-bae0-4a30-93a5-e73a8d409ff6",
   "metadata": {},
   "outputs": [],
   "source": [
    "from datetime import datetime\n",
    "import numpy as np\n",
    "from dateutil import parser\n",
    "import pandas as pd\n",
    "from pandas_datareader import data"
   ]
  },
  {
   "cell_type": "code",
   "execution_count": 6,
   "id": "7165403a-29bc-45d9-9bd2-593ef52f8142",
   "metadata": {},
   "outputs": [
    {
     "data": {
      "text/plain": [
       "datetime.datetime(2015, 7, 4, 0, 0)"
      ]
     },
     "execution_count": 6,
     "metadata": {},
     "output_type": "execute_result"
    }
   ],
   "source": [
    "datetime(year=2015, month=7, day=4)"
   ]
  },
  {
   "cell_type": "code",
   "execution_count": 7,
   "id": "9f676077-53b2-4cb4-867b-adc7e955c256",
   "metadata": {},
   "outputs": [
    {
     "data": {
      "text/plain": [
       "datetime.datetime(2015, 7, 4, 0, 0)"
      ]
     },
     "execution_count": 7,
     "metadata": {},
     "output_type": "execute_result"
    }
   ],
   "source": [
    "\n",
    "date = parser.parse(\"4th of July, 2015\")\n",
    "date\n"
   ]
  },
  {
   "cell_type": "code",
   "execution_count": 8,
   "id": "3186bf59-10db-48fc-b24c-ba408f108c74",
   "metadata": {},
   "outputs": [
    {
     "data": {
      "text/plain": [
       "'Saturday'"
      ]
     },
     "execution_count": 8,
     "metadata": {},
     "output_type": "execute_result"
    }
   ],
   "source": [
    "date.strftime('%A')\n"
   ]
  },
  {
   "cell_type": "markdown",
   "id": "9ef52bdd-3434-4473-a3da-c6598741f2c9",
   "metadata": {},
   "source": [
    "Fechas con Numpy"
   ]
  },
  {
   "cell_type": "code",
   "execution_count": 11,
   "id": "10c6f357-1480-4a5d-9f2a-b54ce0a38856",
   "metadata": {},
   "outputs": [
    {
     "data": {
      "text/plain": [
       "(array('2015-07-04', dtype='datetime64[D]'),\n",
       " array(['2015-07-04', '2015-07-05', '2015-07-06', '2015-07-07',\n",
       "        '2015-07-08', '2015-07-09', '2015-07-10', '2015-07-11',\n",
       "        '2015-07-12', '2015-07-13', '2015-07-14', '2015-07-15'],\n",
       "       dtype='datetime64[D]'))"
      ]
     },
     "execution_count": 11,
     "metadata": {},
     "output_type": "execute_result"
    }
   ],
   "source": [
    "\n",
    "date = np.array('2015-07-04', dtype=np.datetime64)\n",
    "date, date + np.arange(12)"
   ]
  },
  {
   "cell_type": "markdown",
   "id": "c50a17be-b16a-4ad5-96a7-a351b85d5764",
   "metadata": {},
   "source": [
    "La principal diferencia entre time de python y numpy es la exactitud. Veamos un ejemplo en Numpy"
   ]
  },
  {
   "cell_type": "code",
   "execution_count": 12,
   "id": "658a7308-cd70-4395-8360-090be2352032",
   "metadata": {},
   "outputs": [
    {
     "data": {
      "text/plain": [
       "(numpy.datetime64('2015-07-04'), numpy.datetime64('2015-07-04T12:00'))"
      ]
     },
     "execution_count": 12,
     "metadata": {},
     "output_type": "execute_result"
    }
   ],
   "source": [
    "np.datetime64('2015-07-04'), np.datetime64('2015-07-04 12:00'), np.datetime64('2015-07-04 12:59:59.50', 'ns')"
   ]
  },
  {
   "cell_type": "raw",
   "id": "b4a9a795-b401-4bad-a727-46565314fa56",
   "metadata": {},
   "source": [
    "\n",
    "Code  Meaning    Time span (relative)  Time span (absolute)\n",
    "Y     Year          ± 9.2e18 years       [9.2e18 BC, 9.2e18 AD]\n",
    "M     Month         ± 7.6e17 years       [7.6e17 BC, 7.6e17 AD]\n",
    "W     Week          ± 1.7e17 years       [1.7e17 BC, 1.7e17 AD]\n",
    "D     Day           ± 2.5e16 years       [2.5e16 BC, 2.5e16 AD]\n",
    "h     Hour          ± 1.0e15 years       [1.0e15 BC, 1.0e15 AD]\n",
    "m     Minute        ± 1.7e13 years       [1.7e13 BC, 1.7e13 AD]\n",
    "s     Second        ± 2.9e12 years       [ 2.9e9 BC, 2.9e9 AD]\n",
    "ms    Millisecond   ± 2.9e9 years        [ 2.9e6 BC, 2.9e6 AD]\n",
    "us    Microsecond   ± 2.9e6 years        [290301 BC, 294241 AD]\n",
    "ns    Nanosecond    ± 292 years          [ 1678 AD, 2262 AD]\n",
    "ps    Picosecond    ± 106 days           [ 1969 AD, 1970 AD]\n",
    "fs    Femtosecond   ± 2.6 hours          [ 1969 AD, 1970 AD]\n",
    "as    Attosecond    ± 9.2 seconds        [ 1969 AD, 1970 AD]"
   ]
  },
  {
   "cell_type": "markdown",
   "id": "cada1fda-0835-4175-a35f-fa6d9e7d97fe",
   "metadata": {},
   "source": [
    "### Fechas en Pandas. Lo mejor de Python build y numpy"
   ]
  },
  {
   "cell_type": "code",
   "execution_count": 15,
   "id": "cca80b3d-588e-42b3-9edf-9d670fb0416d",
   "metadata": {},
   "outputs": [
    {
     "data": {
      "text/plain": [
       "(Timestamp('2015-07-04 00:00:00'),\n",
       " 'Saturday',\n",
       " DatetimeIndex(['2015-07-04', '2015-07-05', '2015-07-06', '2015-07-07',\n",
       "                '2015-07-08', '2015-07-09', '2015-07-10', '2015-07-11',\n",
       "                '2015-07-12', '2015-07-13', '2015-07-14', '2015-07-15'],\n",
       "               dtype='datetime64[ns]', freq=None))"
      ]
     },
     "execution_count": 15,
     "metadata": {},
     "output_type": "execute_result"
    }
   ],
   "source": [
    "date = pd.to_datetime(\"4th of July, 2015\")\n",
    "date, date.strftime('%A'), date + pd.to_timedelta(np.arange(12), 'D')"
   ]
  },
  {
   "cell_type": "markdown",
   "id": "68e270a7-985e-4ab0-8824-10af525674da",
   "metadata": {},
   "source": [
    "### Pandas Time Series: indexación por tiempo"
   ]
  },
  {
   "cell_type": "code",
   "execution_count": 17,
   "id": "37f33b8d-00c9-4b2f-995a-3801e6d0c380",
   "metadata": {},
   "outputs": [
    {
     "data": {
      "text/plain": [
       "2014-07-04    0\n",
       "2014-08-04    1\n",
       "2015-07-04    2\n",
       "2015-08-04    3\n",
       "dtype: int64"
      ]
     },
     "execution_count": 17,
     "metadata": {},
     "output_type": "execute_result"
    }
   ],
   "source": [
    "index = pd.DatetimeIndex(['2014-07-04', '2014-08-04',\n",
    "                          '2015-07-04', '2015-08-04'])\n",
    "data = pd.Series([0, 1, 2, 3], index=index)\n",
    "data"
   ]
  },
  {
   "cell_type": "code",
   "execution_count": 18,
   "id": "8ab95d68-8d27-457f-b23d-b603c93fae07",
   "metadata": {},
   "outputs": [
    {
     "data": {
      "text/plain": [
       "(2014-07-04    0\n",
       " 2014-08-04    1\n",
       " 2015-07-04    2\n",
       " dtype: int64,\n",
       " 2015-07-04    2\n",
       " 2015-08-04    3\n",
       " dtype: int64)"
      ]
     },
     "execution_count": 18,
     "metadata": {},
     "output_type": "execute_result"
    }
   ],
   "source": [
    "data['2014-07-04':'2015-07-04'], data['2015']"
   ]
  },
  {
   "cell_type": "markdown",
   "id": "6141c5b9-7795-451c-891d-0e277531c85d",
   "metadata": {},
   "source": [
    "### Estructuras de datos de series temporales de Pandas\n",
    "\n",
    "Esta sección presentará las estructuras de datos fundamentales de Pandas para trabajar con datos de series temporales:\n",
    "\n",
    "* Para las marcas de tiempo, Pandas proporciona el tipo de marca de tiempo. Como se mencionó anteriormente, es esencialmente un reemplazo para la fecha y hora nativa de Python, pero se basa en el tipo de datos numpy.datetime64 más eficiente. La estructura de índice asociada es DatetimeIndex.\n",
    "\n",
    "* Para períodos de tiempo, Pandas proporciona el tipo de período. Esto codifica un intervalo de frecuencia fija basado en numpy.datetime64. La estructura de índice asociada es PeriodIndex.\n",
    "\n",
    "\n",
    "* Para deltas de tiempo o duraciones, Pandas proporciona el tipo Timedelta. Timedelta es un reemplazo más eficiente para el tipo datetime.timedelta nativo de Python y se basa en numpy.timedelta64. La estructura de índice asociada es TimedeltaIndex"
   ]
  },
  {
   "cell_type": "code",
   "execution_count": 19,
   "id": "75acbc75-1a9d-44ad-a4da-b3b1dc88364d",
   "metadata": {},
   "outputs": [
    {
     "data": {
      "text/plain": [
       "DatetimeIndex(['2015-07-03', '2015-07-04', '2015-07-06', '2015-07-07',\n",
       "               '2015-07-08'],\n",
       "              dtype='datetime64[ns]', freq=None)"
      ]
     },
     "execution_count": 19,
     "metadata": {},
     "output_type": "execute_result"
    }
   ],
   "source": [
    "dates = pd.to_datetime([datetime(2015, 7, 3), '4th of July, 2015',\n",
    "                       '2015-Jul-6', '07-07-2015', '20150708'])\n",
    "dates"
   ]
  },
  {
   "cell_type": "markdown",
   "id": "583e4352-f605-461b-8748-f61b46a9d4b9",
   "metadata": {},
   "source": [
    "Cualquier DatetimeIndex se puede convertir en un PeriodIndex con la función to_period() con la adición de un código de frecuencia; aquí usaremos 'D' para indicar la frecuencia diaria:\n"
   ]
  },
  {
   "cell_type": "code",
   "execution_count": 20,
   "id": "77c0e18b-8593-47ad-9774-a07bd6bc3042",
   "metadata": {},
   "outputs": [
    {
     "data": {
      "text/plain": [
       "(PeriodIndex(['2015-07-03', '2015-07-04', '2015-07-06', '2015-07-07',\n",
       "              '2015-07-08'],\n",
       "             dtype='period[D]'),\n",
       " TimedeltaIndex(['0 days', '1 days', '3 days', '4 days', '5 days'], dtype='timedelta64[ns]', freq=None))"
      ]
     },
     "execution_count": 20,
     "metadata": {},
     "output_type": "execute_result"
    }
   ],
   "source": [
    "dates.to_period('D'), dates - dates[0]"
   ]
  },
  {
   "cell_type": "markdown",
   "id": "21452157-76b4-4fbb-8156-adcb3b404e2c",
   "metadata": {},
   "source": [
    "### Secuencias regulares: pd.date_range()\n",
    "Para que la creación de secuencias de fechas regulares sea más conveniente, Pandas ofrece algunas funciones para este propósito: pd.date_range() para marcas de tiempo, pd.period_range() para períodos y pd.timedelta_range() para deltas de tiempo. Hemos visto que el rango() de Python y el np.arange() de NumPy convierten un punto de inicio, un punto final y un tamaño de paso opcional en una secuencia. De manera similar, pd.date_range() acepta una fecha de inicio, una fecha de finalización y un código de frecuencia opcional para crear una secuencia regular de fechas. Por defecto, la frecuencia es un día:"
   ]
  },
  {
   "cell_type": "code",
   "execution_count": 21,
   "id": "3fa18ae5-3a27-43a6-856e-05a2d50edbbd",
   "metadata": {},
   "outputs": [
    {
     "data": {
      "text/plain": [
       "DatetimeIndex(['2015-07-03', '2015-07-04', '2015-07-05', '2015-07-06',\n",
       "               '2015-07-07', '2015-07-08', '2015-07-09', '2015-07-10'],\n",
       "              dtype='datetime64[ns]', freq='D')"
      ]
     },
     "execution_count": 21,
     "metadata": {},
     "output_type": "execute_result"
    }
   ],
   "source": [
    "pd.date_range('2015-07-03', '2015-07-10')"
   ]
  },
  {
   "cell_type": "code",
   "execution_count": 22,
   "id": "159b6c04-1a4c-4f76-b2f2-d3576809bb5c",
   "metadata": {},
   "outputs": [
    {
     "data": {
      "text/plain": [
       "DatetimeIndex(['2015-07-03', '2015-07-04', '2015-07-05', '2015-07-06',\n",
       "               '2015-07-07', '2015-07-08', '2015-07-09', '2015-07-10'],\n",
       "              dtype='datetime64[ns]', freq='D')"
      ]
     },
     "execution_count": 22,
     "metadata": {},
     "output_type": "execute_result"
    }
   ],
   "source": [
    "pd.date_range('2015-07-03', periods=8)"
   ]
  },
  {
   "cell_type": "code",
   "execution_count": 23,
   "id": "87893aa2-f902-4238-9b68-273bc1ad4138",
   "metadata": {},
   "outputs": [
    {
     "data": {
      "text/plain": [
       "DatetimeIndex(['2015-07-03 00:00:00', '2015-07-03 01:00:00',\n",
       "               '2015-07-03 02:00:00', '2015-07-03 03:00:00',\n",
       "               '2015-07-03 04:00:00', '2015-07-03 05:00:00',\n",
       "               '2015-07-03 06:00:00', '2015-07-03 07:00:00'],\n",
       "              dtype='datetime64[ns]', freq='H')"
      ]
     },
     "execution_count": 23,
     "metadata": {},
     "output_type": "execute_result"
    }
   ],
   "source": [
    "pd.date_range('2015-07-03', periods=8, freq='H')"
   ]
  },
  {
   "cell_type": "code",
   "execution_count": 24,
   "id": "c9556de7-7a63-4fc8-b5db-9f6795eb41fd",
   "metadata": {},
   "outputs": [
    {
     "data": {
      "text/plain": [
       "PeriodIndex(['2015-07', '2015-08', '2015-09', '2015-10', '2015-11', '2015-12',\n",
       "             '2016-01', '2016-02'],\n",
       "            dtype='period[M]')"
      ]
     },
     "execution_count": 24,
     "metadata": {},
     "output_type": "execute_result"
    }
   ],
   "source": [
    "pd.period_range('2015-07', periods=8, freq='M')\n"
   ]
  },
  {
   "cell_type": "code",
   "execution_count": 25,
   "id": "48ac8531-8f24-4b4d-8fa7-6c12031b4ab5",
   "metadata": {},
   "outputs": [
    {
     "data": {
      "text/plain": [
       "TimedeltaIndex(['0 days 00:00:00', '0 days 01:00:00', '0 days 02:00:00',\n",
       "                '0 days 03:00:00', '0 days 04:00:00', '0 days 05:00:00',\n",
       "                '0 days 06:00:00', '0 days 07:00:00', '0 days 08:00:00',\n",
       "                '0 days 09:00:00'],\n",
       "               dtype='timedelta64[ns]', freq='H')"
      ]
     },
     "execution_count": 25,
     "metadata": {},
     "output_type": "execute_result"
    }
   ],
   "source": [
    "pd.timedelta_range(0, periods=10, freq='H')"
   ]
  },
  {
   "cell_type": "raw",
   "id": "6efa53f2-ee1a-42b1-8843-c4d04677a359",
   "metadata": {},
   "source": [
    "Code Description   Code   Description\n",
    "D    Calendar day    B      Business day\n",
    "W     Weekly\n",
    "M     Month end      BM     Business month end\n",
    "Q     Quarter end    BQ     Business quarter end\n",
    "A     Year end       BA     Business year end\n",
    "H     Hours          BH     Business hours\n",
    "T     Minutes\n",
    "S     Seconds\n",
    "L     Milliseonds\n",
    "U     Microseconds\n",
    "N     nanoseconds"
   ]
  },
  {
   "cell_type": "markdown",
   "id": "10c4597d-32da-4215-ba60-255a796988fb",
   "metadata": {},
   "source": [
    "Además de esto, los códigos se pueden combinar con números para especificar otras frecuencias. Por ejemplo, para una frecuencia de 2 horas 30 minutos, podemos combinar los códigos de hora (H) y minuto (T) de la siguiente manera:"
   ]
  },
  {
   "cell_type": "code",
   "execution_count": 26,
   "id": "350c1d85-44a0-408b-a21e-da64d0e9c54c",
   "metadata": {},
   "outputs": [
    {
     "data": {
      "text/plain": [
       "TimedeltaIndex(['0 days 00:00:00', '0 days 02:30:00', '0 days 05:00:00',\n",
       "                '0 days 07:30:00', '0 days 10:00:00', '0 days 12:30:00',\n",
       "                '0 days 15:00:00', '0 days 17:30:00', '0 days 20:00:00'],\n",
       "               dtype='timedelta64[ns]', freq='150T')"
      ]
     },
     "execution_count": 26,
     "metadata": {},
     "output_type": "execute_result"
    }
   ],
   "source": [
    "pd.timedelta_range(0, periods=9, freq=\"2H30T\")"
   ]
  },
  {
   "cell_type": "code",
   "execution_count": 27,
   "id": "e315167c-8650-4e9a-8e28-30c0809f4777",
   "metadata": {},
   "outputs": [
    {
     "data": {
      "text/plain": [
       "DatetimeIndex(['2015-07-01', '2015-07-02', '2015-07-03', '2015-07-06',\n",
       "               '2015-07-07'],\n",
       "              dtype='datetime64[ns]', freq='B')"
      ]
     },
     "execution_count": 27,
     "metadata": {},
     "output_type": "execute_result"
    }
   ],
   "source": [
    "from pandas.tseries.offsets import BDay\n",
    "pd.date_range('2015-07-01', periods=5, freq=BDay())\n"
   ]
  },
  {
   "cell_type": "markdown",
   "id": "fc8819a1-3d43-4c98-af40-b160db3136d3",
   "metadata": {},
   "source": [
    "### Remuestreo, desplazamiento y creación de ventanas\n",
    "\n",
    "La capacidad de usar fechas y horas como índices para organizar y acceder de manera intuitiva a los datos es una pieza importante de las herramientas de series temporales de Pandas. Los beneficios de los datos indexados en general (alineación automática durante las operaciones, división y acceso intuitivo de datos, etc.) aún se aplican, y Pandas proporciona varias operaciones adicionales específicas de series temporales.\n",
    "\n",
    "Echaremos un vistazo a algunos de ellos aquí, usando algunos datos de precios de acciones como ejemplo. Debido a que Pandas se desarrolló principalmente en un contexto financiero, incluye algunas herramientas muy específicas para datos financieros. Por ejemplo, el paquete pandas-datareader que lo acompaña (instalable a través de conda install pandas-datareader), sabe cómo importar datos financieros de varias fuentes disponibles, incluidas Yahoo Finance, Google Finance y otras. Aquí cargaremos el historial de precios de cierre de Google:"
   ]
  },
  {
   "cell_type": "code",
   "execution_count": 36,
   "id": "d0c37733-89eb-42db-bd6f-2b5130cdfa57",
   "metadata": {},
   "outputs": [
    {
     "data": {
      "text/html": [
       "<div>\n",
       "<style scoped>\n",
       "    .dataframe tbody tr th:only-of-type {\n",
       "        vertical-align: middle;\n",
       "    }\n",
       "\n",
       "    .dataframe tbody tr th {\n",
       "        vertical-align: top;\n",
       "    }\n",
       "\n",
       "    .dataframe thead th {\n",
       "        text-align: right;\n",
       "    }\n",
       "</style>\n",
       "<table border=\"1\" class=\"dataframe\">\n",
       "  <thead>\n",
       "    <tr style=\"text-align: right;\">\n",
       "      <th></th>\n",
       "      <th>High</th>\n",
       "      <th>Low</th>\n",
       "      <th>Open</th>\n",
       "      <th>Close</th>\n",
       "      <th>Volume</th>\n",
       "      <th>Adj Close</th>\n",
       "    </tr>\n",
       "    <tr>\n",
       "      <th>Date</th>\n",
       "      <th></th>\n",
       "      <th></th>\n",
       "      <th></th>\n",
       "      <th></th>\n",
       "      <th></th>\n",
       "      <th></th>\n",
       "    </tr>\n",
       "  </thead>\n",
       "  <tbody>\n",
       "    <tr>\n",
       "      <th>2004-08-19</th>\n",
       "      <td>51.835709</td>\n",
       "      <td>47.800831</td>\n",
       "      <td>49.813290</td>\n",
       "      <td>49.982655</td>\n",
       "      <td>44871361.0</td>\n",
       "      <td>49.982655</td>\n",
       "    </tr>\n",
       "    <tr>\n",
       "      <th>2004-08-20</th>\n",
       "      <td>54.336334</td>\n",
       "      <td>50.062355</td>\n",
       "      <td>50.316402</td>\n",
       "      <td>53.952770</td>\n",
       "      <td>22942874.0</td>\n",
       "      <td>53.952770</td>\n",
       "    </tr>\n",
       "    <tr>\n",
       "      <th>2004-08-23</th>\n",
       "      <td>56.528118</td>\n",
       "      <td>54.321388</td>\n",
       "      <td>55.168217</td>\n",
       "      <td>54.495735</td>\n",
       "      <td>18342897.0</td>\n",
       "      <td>54.495735</td>\n",
       "    </tr>\n",
       "    <tr>\n",
       "      <th>2004-08-24</th>\n",
       "      <td>55.591629</td>\n",
       "      <td>51.591621</td>\n",
       "      <td>55.412300</td>\n",
       "      <td>52.239197</td>\n",
       "      <td>15319808.0</td>\n",
       "      <td>52.239197</td>\n",
       "    </tr>\n",
       "    <tr>\n",
       "      <th>2004-08-25</th>\n",
       "      <td>53.798351</td>\n",
       "      <td>51.746044</td>\n",
       "      <td>52.284027</td>\n",
       "      <td>52.802086</td>\n",
       "      <td>9232276.0</td>\n",
       "      <td>52.802086</td>\n",
       "    </tr>\n",
       "  </tbody>\n",
       "</table>\n",
       "</div>"
      ],
      "text/plain": [
       "                 High        Low       Open      Close      Volume  Adj Close\n",
       "Date                                                                         \n",
       "2004-08-19  51.835709  47.800831  49.813290  49.982655  44871361.0  49.982655\n",
       "2004-08-20  54.336334  50.062355  50.316402  53.952770  22942874.0  53.952770\n",
       "2004-08-23  56.528118  54.321388  55.168217  54.495735  18342897.0  54.495735\n",
       "2004-08-24  55.591629  51.591621  55.412300  52.239197  15319808.0  52.239197\n",
       "2004-08-25  53.798351  51.746044  52.284027  52.802086   9232276.0  52.802086"
      ]
     },
     "execution_count": 36,
     "metadata": {},
     "output_type": "execute_result"
    }
   ],
   "source": [
    "goog = data.DataReader('GOOG', start='2004', end='2016',\n",
    "                       data_source='yahoo')\n",
    "goog.head()"
   ]
  },
  {
   "cell_type": "code",
   "execution_count": null,
   "id": "2778de59-286a-4ec2-85f5-5c3cae911e4f",
   "metadata": {},
   "outputs": [],
   "source": []
  }
 ],
 "metadata": {
  "kernelspec": {
   "display_name": "Python 3",
   "language": "python",
   "name": "python3"
  },
  "language_info": {
   "codemirror_mode": {
    "name": "ipython",
    "version": 3
   },
   "file_extension": ".py",
   "mimetype": "text/x-python",
   "name": "python",
   "nbconvert_exporter": "python",
   "pygments_lexer": "ipython3",
   "version": "3.8.2"
  }
 },
 "nbformat": 4,
 "nbformat_minor": 5
}
